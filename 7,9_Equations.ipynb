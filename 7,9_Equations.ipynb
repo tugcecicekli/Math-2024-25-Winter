{
  "nbformat": 4,
  "nbformat_minor": 0,
  "metadata": {
    "colab": {
      "provenance": [],
      "toc_visible": true,
      "authorship_tag": "ABX9TyPLiOHJrSro1WM1Z0pvMXEE",
      "include_colab_link": true
    },
    "kernelspec": {
      "name": "python3",
      "display_name": "Python 3"
    },
    "language_info": {
      "name": "python"
    }
  },
  "cells": [
    {
      "cell_type": "markdown",
      "metadata": {
        "id": "view-in-github",
        "colab_type": "text"
      },
      "source": [
        "<a href=\"https://colab.research.google.com/github/tugcecicekli/Math-2024-25-Winter/blob/main/7%2C9_Equations.ipynb\" target=\"_parent\"><img src=\"https://colab.research.google.com/assets/colab-badge.svg\" alt=\"Open In Colab\"/></a>"
      ]
    },
    {
      "cell_type": "markdown",
      "source": [
        "# Old School"
      ],
      "metadata": {
        "id": "Fcv-mwwDq-nt"
      }
    },
    {
      "cell_type": "markdown",
      "source": [
        "##Exercises for Students\n",
        "\n",
        "Solve the following systems of equations similarly to the example above:\n",
        "\n",
        "- $3𝑥−2𝑦=5, 2𝑥+3𝑦=7$\n",
        "\n",
        "- $2𝑥−3𝑦=10, 4𝑥+5𝑦=20$\n",
        "\n",
        "- $2𝑥−𝑦+𝑧=3, 𝑥+2𝑦−𝑧=1, 3𝑥−𝑦+2𝑧=11$\n",
        "\n",
        "- $2𝑥−3𝑦+4𝑧+2𝑡=2, 3𝑥+2𝑦−5𝑧+3𝑡=3, 4𝑥−3𝑦+2𝑧−5𝑡=4,  5𝑥+4𝑦−3𝑧+2𝑡=5$.\n",
        "$"
      ],
      "metadata": {
        "id": "V-7vvRlIqNDQ"
      }
    },
    {
      "cell_type": "markdown",
      "source": [
        "##1\n",
        " $3x-2y=5, \\quad 2x+3y=7$,"
      ],
      "metadata": {
        "id": "klIsZSrDoL1f"
      }
    },
    {
      "cell_type": "code",
      "source": [
        "from sympy import symbols,Eq,solve\n",
        "\n",
        "# Define the variables\n",
        "x,y=symbols('x,y')\n",
        "\n",
        "# Define the equations\n",
        "eq1=Eq(3*x-2*y,5)\n",
        "eq2=Eq(2*x+3*y,7)\n",
        "\n",
        "# Solve the system of equations\n",
        "solution=solve((eq1,eq2),(x,y))\n",
        "\n",
        "# Print the solution\n",
        "print(solution)\n"
      ],
      "metadata": {
        "colab": {
          "base_uri": "https://localhost:8080/"
        },
        "id": "9CjAsy3toTwX",
        "outputId": "4a33e1ff-5a34-42f0-fc2a-b56bebb8eab0"
      },
      "execution_count": null,
      "outputs": [
        {
          "output_type": "stream",
          "name": "stdout",
          "text": [
            "{x: 29/13, y: 11/13}\n"
          ]
        }
      ]
    },
    {
      "cell_type": "markdown",
      "source": [
        "##2\n",
        "$2x-3y=10, \\quad 4x+5y=20$,"
      ],
      "metadata": {
        "id": "Xxk9btekovTc"
      }
    },
    {
      "cell_type": "code",
      "execution_count": null,
      "metadata": {
        "colab": {
          "base_uri": "https://localhost:8080/"
        },
        "id": "3VUmI_3vH4wt",
        "outputId": "2af22ab2-b227-4d2b-ef79-da77480a291a"
      },
      "outputs": [
        {
          "output_type": "stream",
          "name": "stdout",
          "text": [
            "{x: 5, y: 0}\n"
          ]
        }
      ],
      "source": [
        "from sympy import symbols, Eq, solve\n",
        "\n",
        "# Define the variables\n",
        "x,y=symbols('x y')\n",
        "\n",
        "# Define the equations\n",
        "eq1=Eq(2*x-3*y,10)\n",
        "eq2=Eq(4*x+5*y,20)\n",
        "\n",
        "# Solve the system of equations\n",
        "solution=solve((eq1,eq2),(x,y))\n",
        "\n",
        "# Print the solution\n",
        "print(solution)"
      ]
    },
    {
      "cell_type": "markdown",
      "source": [
        "##3\n",
        " $2x - y + z = 3, \\quad x + 2y - z = 1, \\quad 3x - y + 2z = 11$"
      ],
      "metadata": {
        "id": "UljbdXYgoON4"
      }
    },
    {
      "cell_type": "code",
      "source": [
        "from sympy import symbols, Eq, solve\n",
        "\n",
        "# Define the variables\n",
        "x,y,z=symbols('x,y,z')\n",
        "\n",
        "# Define the equations\n",
        "eq1=Eq(2*x-y+z,3)\n",
        "eq2=Eq(x+2*y-z,1)\n",
        "eq3=Eq(3*x-y+2*z,11)\n",
        "\n",
        "# Solve the system of equations\n",
        "solution=solve((eq1,eq2,eq3),(x,y,z))\n",
        "\n",
        "# Print the solution\n",
        "print(solution)"
      ],
      "metadata": {
        "colab": {
          "base_uri": "https://localhost:8080/"
        },
        "id": "99q2iSiboTDR",
        "outputId": "70cc949a-acf1-408b-e227-7ab87c77e41e"
      },
      "execution_count": null,
      "outputs": [
        {
          "output_type": "stream",
          "name": "stdout",
          "text": [
            "{x: -1/4, y: 19/4, z: 33/4}\n"
          ]
        }
      ]
    },
    {
      "cell_type": "markdown",
      "source": [
        "##4\n",
        " $2x-3y+4z+2t=2, \\quad 3x+2y-5z+3t=3, \\quad 4x-3y+2z-5t=4, \\quad 5x+4y-3z+2t=5$"
      ],
      "metadata": {
        "id": "jJ6So9lMpaXv"
      }
    },
    {
      "cell_type": "code",
      "source": [
        "from sympy import symbols, Eq, solve\n",
        "\n",
        "# Define the variables\n",
        "x,y,z,t=symbols('x,y,z,t')\n",
        "\n",
        "# Define the equations\n",
        "eq1=Eq(2*x-3*y+4*z+2*t,2)\n",
        "eq2=Eq(3*x+2*y-5*z+3*t,3)\n",
        "eq3=Eq(4*x-3*y+2*z-5*t,4)\n",
        "eq4=Eq(5*x+4*y-3*z+2*t,5)\n",
        "\n",
        "# Solve the system of equations\n",
        "solution=solve((eq1,eq2,eq3,eq4),(x,y,z,t))\n",
        "\n",
        "# Print the solution\n",
        "print(solution)\n"
      ],
      "metadata": {
        "colab": {
          "base_uri": "https://localhost:8080/"
        },
        "id": "hzqjxvYPphZx",
        "outputId": "42a45633-3059-4f78-f7c5-7692b32b9c42"
      },
      "execution_count": null,
      "outputs": [
        {
          "output_type": "stream",
          "name": "stdout",
          "text": [
            "{t: 0, x: 1, y: 0, z: 0}\n"
          ]
        }
      ]
    },
    {
      "cell_type": "code",
      "source": [
        "import sympy as sp\n",
        "\n",
        "# Define symbols\n",
        "x1, x2 = sp.symbols('x1 x2')\n",
        "\n",
        "# Define equations\n",
        "eq1 = sp.Eq(2 * x1 - 3 * x2, 7)\n",
        "eq2 = sp.Eq(3 * x1 + 5 * x2, 2)\n",
        "\n",
        "# Solve the system of equations\n",
        "solution = sp.solve((eq1, eq2), (x1, x2))\n",
        "\n",
        "# Print the solution\n",
        "print(solution)"
      ],
      "metadata": {
        "colab": {
          "base_uri": "https://localhost:8080/"
        },
        "id": "j4_8AFKjzlDB",
        "outputId": "aac4e164-0c2e-41d3-9be4-82733c07a468"
      },
      "execution_count": null,
      "outputs": [
        {
          "output_type": "stream",
          "name": "stdout",
          "text": [
            "{x1: 41/19, x2: -17/19}\n"
          ]
        }
      ]
    },
    {
      "cell_type": "code",
      "source": [
        "import numpy as np\n",
        "\n",
        "# Define matrix A\n",
        "A=np.array([[2,-3],[3,5]])\n",
        "\n",
        "# Define matrix C\n",
        "C=np.array([[7,2]])\n",
        "\n",
        "# Calculate the determinant of A\n",
        "det_A=np.linalg.det(A)\n",
        "\n",
        "# Calculate the inverse of A\n",
        "A_inv=np.linalg.inv(A)\n",
        "\n",
        "# Calculate X\n",
        "X=np.dot(A_inv,C)\n",
        "\n",
        "# Extract x and y\n",
        "x=X[0]\n",
        "y=X[1]\n",
        "\n",
        "# Print the solution\n",
        "print(\"solution\")\n",
        "print(\"x=\",x[0])\n",
        "print(\"y=\",x[1])\n",
        "\n",
        "import numpy as np\n",
        "\n",
        "# Define matrix A\n",
        "X_matrix=np.array([[5/9,3/19],[-3/19,2/19]])\n",
        "\n",
        "# Define the vector\n",
        "vector=np.array([7,2])\n",
        "\n",
        "# Calculate the result\n",
        "result=np.dot(X_matrix,vector)\n",
        "\n",
        "# Extract x and y\n",
        "x=result[0]\n",
        "y=result[1]\n",
        "\n",
        "# Print the values\n",
        "print(\"x=\",x)\n",
        "print(\"y=\",y)\n"
      ],
      "metadata": {
        "colab": {
          "base_uri": "https://localhost:8080/",
          "height": 207
        },
        "id": "ogZS75BjvhJO",
        "outputId": "63a627cb-3f6f-496d-9670-a7fd02c2a536"
      },
      "execution_count": null,
      "outputs": [
        {
          "output_type": "error",
          "ename": "ValueError",
          "evalue": "shapes (2,2) and (1,2) not aligned: 2 (dim 1) != 1 (dim 0)",
          "traceback": [
            "\u001b[0;31m---------------------------------------------------------------------------\u001b[0m",
            "\u001b[0;31mValueError\u001b[0m                                Traceback (most recent call last)",
            "\u001b[0;32m<ipython-input-28-b8f3120df9bb>\u001b[0m in \u001b[0;36m<cell line: 16>\u001b[0;34m()\u001b[0m\n\u001b[1;32m     14\u001b[0m \u001b[0;34m\u001b[0m\u001b[0m\n\u001b[1;32m     15\u001b[0m \u001b[0;31m# Calculate X\u001b[0m\u001b[0;34m\u001b[0m\u001b[0;34m\u001b[0m\u001b[0m\n\u001b[0;32m---> 16\u001b[0;31m \u001b[0mX\u001b[0m\u001b[0;34m=\u001b[0m\u001b[0mnp\u001b[0m\u001b[0;34m.\u001b[0m\u001b[0mdot\u001b[0m\u001b[0;34m(\u001b[0m\u001b[0mA_inv\u001b[0m\u001b[0;34m,\u001b[0m\u001b[0mC\u001b[0m\u001b[0;34m)\u001b[0m\u001b[0;34m\u001b[0m\u001b[0;34m\u001b[0m\u001b[0m\n\u001b[0m\u001b[1;32m     17\u001b[0m \u001b[0;34m\u001b[0m\u001b[0m\n\u001b[1;32m     18\u001b[0m \u001b[0;31m# Extract x and y\u001b[0m\u001b[0;34m\u001b[0m\u001b[0;34m\u001b[0m\u001b[0m\n",
            "\u001b[0;31mValueError\u001b[0m: shapes (2,2) and (1,2) not aligned: 2 (dim 1) != 1 (dim 0)"
          ]
        }
      ]
    },
    {
      "cell_type": "code",
      "source": [
        "import numpy as np\n",
        "\n",
        "# Define matrix A\n",
        "A = np.array([[2, -3], [3, 5]])\n",
        "\n",
        "# Define matrix C\n",
        "C = np.array([[7], [2]])  # Reshape C to be a 2x1 matrix\n",
        "\n",
        "# Calculate the determinant of A\n",
        "det_A = np.linalg.det(A)\n",
        "\n",
        "# Calculate the inverse of A\n",
        "A_inv = np.linalg.inv(A)\n",
        "\n",
        "# Calculate X\n",
        "X = np.dot(A_inv, C)\n",
        "\n",
        "# Extract x and y\n",
        "x = X[0]\n",
        "y = X[1]\n",
        "\n",
        "# Print the solution\n",
        "print(\"solution\")\n",
        "print(\"x=\", x[0])\n",
        "print(\"y=\", y[0])  # Corrected index to access the values"
      ],
      "metadata": {
        "colab": {
          "base_uri": "https://localhost:8080/"
        },
        "id": "nfo81H2PCDMw",
        "outputId": "df6d9261-6f8c-475d-c47e-76f55b71de05"
      },
      "execution_count": null,
      "outputs": [
        {
          "output_type": "stream",
          "name": "stdout",
          "text": [
            "solution\n",
            "x= 2.1578947368421053\n",
            "y= -0.8947368421052633\n"
          ]
        }
      ]
    },
    {
      "cell_type": "markdown",
      "source": [
        "#Gauss Method"
      ],
      "metadata": {
        "id": "WH-VeIhCrCmp"
      }
    },
    {
      "cell_type": "markdown",
      "source": [
        "$$\n",
        "\\left\\{\\begin{array}{c}{x+2 y-2 z=4} \\\\ {2 x+y+z=0} \\\\ {3 x+2 y+z=1}\\end{array}\\right.\\quad$$"
      ],
      "metadata": {
        "id": "ob7ClqANERLO"
      }
    },
    {
      "cell_type": "code",
      "source": [
        "import numpy as np\n",
        "\n",
        "# Define the augmented matrix\n",
        "A = np.array([[1, 2, -2, 4],\n",
        "              [2, 1, 1, 0],\n",
        "              [3, 2, 1, 1]], dtype=float)\n",
        "\n",
        "# Perform Gaussian elimination\n",
        "n = len(A)\n",
        "for i in range(n):\n",
        "    # Make the diagonal element 1\n",
        "    A[i] = A[i] / A[i, i]\n",
        "\n",
        "    # Eliminate the elements below the pivot\n",
        "    for j in range(i + 1, n):\n",
        "        A[j] = A[j] - A[j, i] * A[i]\n",
        "\n",
        "# Back substitution to find the solution\n",
        "x = np.zeros(n)\n",
        "for i in range(n - 1, -1, -1):\n",
        "    x[i] = A[i, -1] - np.sum(A[i, i + 1:n] * x[i + 1:n])\n",
        "\n",
        "# Print the solution\n",
        "print(\"Solution:\")\n",
        "print(f\"x = {x[0]}, y = {x[1]}, z = {x[2]}\")\n"
      ],
      "metadata": {
        "colab": {
          "base_uri": "https://localhost:8080/"
        },
        "id": "ca_kk5SSETV7",
        "outputId": "63665d89-890a-4d51-97b4-8a06a5fbec12"
      },
      "execution_count": null,
      "outputs": [
        {
          "output_type": "stream",
          "name": "stdout",
          "text": [
            "Solution:\n",
            "x = 3.9968028886505635e-15, y = 0.9999999999999953, z = -1.0000000000000027\n"
          ]
        }
      ]
    }
  ]
}