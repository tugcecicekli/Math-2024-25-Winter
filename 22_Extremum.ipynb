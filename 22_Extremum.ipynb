{
  "nbformat": 4,
  "nbformat_minor": 0,
  "metadata": {
    "colab": {
      "provenance": [],
      "toc_visible": true,
      "authorship_tag": "ABX9TyM1wwT7LwEizgyZq77vyCng",
      "include_colab_link": true
    },
    "kernelspec": {
      "name": "python3",
      "display_name": "Python 3"
    },
    "language_info": {
      "name": "python"
    }
  },
  "cells": [
    {
      "cell_type": "markdown",
      "metadata": {
        "id": "view-in-github",
        "colab_type": "text"
      },
      "source": [
        "<a href=\"https://colab.research.google.com/github/tugcecicekli/Math-2024-25-Winter/blob/main/22_Extremum.ipynb\" target=\"_parent\"><img src=\"https://colab.research.google.com/assets/colab-badge.svg\" alt=\"Open In Colab\"/></a>"
      ]
    },
    {
      "cell_type": "markdown",
      "source": [
        "# **Extrema**\n",
        "\n",
        "---\n",
        "\n",
        "### **1. Definition of Extrema**\n",
        "- **Extrema** are the maximum and minimum values of a function on a given domain.\n",
        "- **Types of Extrema**:\n",
        "  1. **Local (or Relative) Extrema**:\n",
        "     - A **local maximum** is a point where $f(c) \\geq f(x)$ for all $x$ near $c$.  \n",
        "     - A **local minimum** is a point where $f(c) \\leq f(x)$ for all $x$ near $c$.\n",
        "  2. **Global (or Absolute) Extrema**:\n",
        "     - A **global maximum** is a point where $f(c) \\geq f(x)$ for all $x$ in the domain.  \n",
        "     - A **global minimum** is a point where $f(c) \\leq f(x)$ for all $x$ in the domain.\n",
        "\n",
        "---\n",
        "\n",
        "### **2. Critical Points**\n",
        "- A **critical point** occurs when:\n",
        "  1. $f'(x) = 0$, or\n",
        "  2. $f'(x)$ does not exist.\n",
        "- Critical points are candidates for local extrema.\n",
        "\n",
        "---\n",
        "\n",
        "### **3. Finding Extrema**\n",
        "#### A. **Local Extrema**\n",
        "1. Find $f'(x)$ and solve $f'(x) = 0$ to find critical points.\n",
        "2. Use the **First Derivative Test**:\n",
        "   - If $f'(x)$ changes from positive to negative at $c$, $f(c)$ is a local maximum.\n",
        "   - If $f'(x)$ changes from negative to positive at $c$, $f(c)$ is a local minimum.\n",
        "3. Alternatively, use the **Second Derivative Test**:\n",
        "   - If $f''(c) > 0$, $f(c)$ is a local minimum.\n",
        "   - If $f''(c) < 0$, $f(c)$ is a local maximum.\n",
        "   - If $f''(c) = 0$, the test is inconclusive.\n",
        "\n",
        "#### B. **Global Extrema**\n",
        "1. Evaluate $f(x)$ at critical points and endpoints of the domain.\n",
        "2. Compare values to determine the global maximum and minimum.\n",
        "\n",
        "---\n",
        "\n",
        "### **4. Endpoint Extrema**\n",
        "- If the domain of $f(x)$ is closed and bounded, the **Extreme Value Theorem** guarantees that $f(x)$ attains a global maximum and minimum on the domain.\n",
        "- Evaluate $f(x)$ at the endpoints and critical points.\n",
        "\n",
        "---\n",
        "\n",
        "### **5. Example**\n",
        "#### Find the extrema of $f(x) = x^3 - 3x^2 + 4$:\n",
        "1. Compute $f'(x) = 3x^2 - 6x$.\n",
        "2. Solve $f'(x) = 0$:  \n",
        "   $3x(x - 2) = 0 \\quad \\Rightarrow \\quad x = 0, x = 2.$\n",
        "\n",
        "3. Compute the second derivative:  \n",
        "   $f''(x) = 6x - 6$.  \n",
        "   At $x = 0$, $f''(0) = -6 < 0$, so $x = 0$ is a local maximum.  \n",
        "   At $x = 2$, $f''(2) = 6 > 0$, so $x = 2$ is a local minimum.\n",
        "4. Evaluate $f(x)$ at critical points and endpoints (if the domain is bounded).\n",
        "\n",
        "---\n",
        "\n",
        "### **6. Key Theorems**\n",
        "#### A. **Extreme Value Theorem**\n",
        "- If $f(x)$ is continuous on a closed interval $[a, b]$, $f(x)$ attains a global maximum and minimum on $[a, b]$.\n",
        "\n",
        "#### B. **Rolle’s Theorem**\n",
        "- If $f(x)$ is continuous on $[a, b]$, differentiable on $(a, b)$, and $f(a) = f(b)$, then there exists $c \\in (a, b)$ such that $f'(c) = 0$.\n",
        "\n",
        "#### C. **Mean Value Theorem**\n",
        "- If $f(x)$ is continuous on $[a, b]$ and differentiable on $(a, b)$, then there exists $c \\in (a, b)$ such that:\n",
        "$f'(c) = \\frac{f(b) - f(a)}{b - a}.$\n"
      ],
      "metadata": {
        "id": "1PiTgNtTJ7QW"
      }
    },
    {
      "cell_type": "markdown",
      "source": [
        "#Exercises\n",
        "\n"
      ],
      "metadata": {
        "id": "a6XGy9JO4Z3e"
      }
    },
    {
      "cell_type": "markdown",
      "source": [
        "##1\n",
        "\n",
        "The profit function is $P(u)=-2u^2+50u-300$, where $u$ is the number of unit sold. Find the number of units that maximize profit.\n",
        "\n",
        "### Step 1: Recognize the quadratic function\n",
        "$P(u) = au^2 + bu + c$\n",
        "\n",
        "$a = -2, b = 50, c = -300$\n",
        "\n",
        "Since $a < 0$, the vertex represents a maximum point.\n",
        "\n",
        "$u = \\frac{-b}{2a}$\n",
        "\n",
        "$u = \\frac{-50}{2(-2)} = \\frac{-50}{-4} = 12.5$\n",
        "\n",
        "https://www.geogebra.org/calculator/cn246qnc"
      ],
      "metadata": {
        "id": "6aav8BVA4ia2"
      }
    },
    {
      "cell_type": "markdown",
      "source": [
        "##2\n",
        "You have 10 meters of string, and you need to use it to enclose the largest possible rectangular. Find the dimensions of the rectangle.\n",
        "\n",
        "$P = 2L + 2W$\n",
        "\n",
        "$2L + 2W = 10$\n",
        "\n",
        "$L + W = 5$\n",
        "\n",
        "\n",
        "$A = L \\times W$\n",
        "\n",
        "$W = 5 - L$\n",
        "\n",
        "$A = L \\times (5 - L) = 5L - L^2$\n",
        "\n",
        "$\\frac{dA}{dL} = 5 - 2L$\n",
        "\n",
        "$5 - 2L = 0$\n",
        "\n",
        "$2L = 5→L= 2.5$\n",
        "\n",
        "$W = 5 - 2.5 = 2.5$\n",
        "\n",
        "- Length $L = 2.5$ meters\n",
        "\n",
        "- Width $W = 2.5$ meters"
      ],
      "metadata": {
        "id": "66DfmA6n6Ixz"
      }
    },
    {
      "cell_type": "markdown",
      "source": [
        "##3\n",
        "Find extremum of $f(x)=x^2+3x-5$.\n",
        "\n",
        "$f'(x) = \\frac{d}{dx} \\left( x^2 \\right) + \\frac{d}{dx} \\left( 3x \\right) + \\frac{d}{dx} \\left( -5 \\right)$\n",
        "\n",
        "$f'(x) = 2x + 3$\n",
        "\n",
        "$2x + 3 = 0$\n",
        "\n",
        "$2x = -3→ x = -\\frac{3}{2}$\n",
        "\n",
        "$f''(x) = \\frac{d}{dx} (2x + 3) = 2$\n",
        "\n",
        "Since $f''(x) = 2 > 0$, the critical point $x = -\\frac{3}{2}$ is a **local minimum**.\n",
        "\n",
        "\n",
        "$f\\left( -\\frac{3}{2} \\right) = \\left( -\\frac{3}{2} \\right)^2 + 3 \\left( -\\frac{3}{2} \\right) - 5$\n",
        "\n",
        "$f\\left( -\\frac{3}{2} \\right) = \\frac{9}{4} - \\frac{9}{2} - 5$\n",
        "\n",
        "$f\\left( -\\frac{3}{2} \\right) = \\frac{9}{4} - \\frac{18}{4} - \\frac{20}{4}$\n",
        "\n",
        "$f\\left( -\\frac{3}{2} \\right) = \\frac{9 - 18 - 20}{4} = \\frac{-29}{4}$"
      ],
      "metadata": {
        "id": "F8XdFAyN79Kj"
      }
    },
    {
      "cell_type": "markdown",
      "source": [
        "##4\n",
        "Find extremum of $f(x)=\\frac{x^2+2x+1}{x-1}$\n",
        "\n",
        "$x^2 + 2x + 1 = (x + 1)^2$\n",
        "\n",
        "$f(x) = \\frac{(x + 1)^2}{x - 1}$\n",
        "\n",
        "$f(x) = \\frac{g(x)}{h(x)}$\n",
        "\n",
        "$f'(x) = \\frac{g'(x)h(x) - g(x)h'(x)}{[h(x)]^2}$\n",
        "\n",
        "$g(x) = (x + 1)^2$ and $h(x) = x - 1$\n",
        "\n",
        "$g'(x) = 2(x + 1)$\n",
        "\n",
        "$h'(x) = 1$\n",
        "\n",
        "$f'(x) = \\frac{2(x + 1)(x - 1) - (x + 1)^2 \\cdot 1}{(x - 1)^2}$\n",
        "\n",
        "$f'(x) = \\frac{2(x + 1)(x - 1) - (x + 1)^2}{(x - 1)^2}$\n",
        "\n",
        "$f'(x) = \\frac{(x + 1) \\left[ 2(x - 1) - (x + 1) \\right]}{(x - 1)^2}$\n",
        "\n",
        "$2(x - 1) - (x + 1) = 2x - 2 - x - 1 = x - 3$\n",
        "\n",
        "$f'(x) = \\frac{(x + 1)(x - 3)}{(x - 1)^2}$\n",
        "\n",
        "$\\frac{(x + 1)(x - 3)}{(x - 1)^2} = 0$\n",
        "\n",
        "$(x + 1)(x - 3) = 0$\n",
        "\n",
        "$x + 1 = 0→ x = -1$\n",
        "\n",
        "$x - 3 = 0→ x = 3$\n",
        "\n",
        "- The critical points are $x = -1$ and $x = 3$.\n",
        "\n",
        "$f(-1)=\\frac{(-1+1)^2}{-1-1}=\\frac{0^2}{-2}=0$\n",
        "\n",
        "$f(3)=\\frac{(3+1)^2}{3-1}=\\frac{4^2}{2}=\\frac{16}{2}=8$\n",
        "\n",
        "The function has a local maximum at $x=-1$ with value $f(-1)=0$.\n",
        "\n",
        "The function has a local minimum at $x=3$ with value $f(3)=8$.\n",
        "\n"
      ],
      "metadata": {
        "id": "c4BEMFAi8FOu"
      }
    }
  ]
}