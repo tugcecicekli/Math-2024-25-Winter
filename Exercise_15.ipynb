{
  "nbformat": 4,
  "nbformat_minor": 0,
  "metadata": {
    "colab": {
      "provenance": [],
      "toc_visible": true,
      "authorship_tag": "ABX9TyM7GJnoFtQG0JoZfEu+ayo+",
      "include_colab_link": true
    },
    "kernelspec": {
      "name": "python3",
      "display_name": "Python 3"
    },
    "language_info": {
      "name": "python"
    }
  },
  "cells": [
    {
      "cell_type": "markdown",
      "metadata": {
        "id": "view-in-github",
        "colab_type": "text"
      },
      "source": [
        "<a href=\"https://colab.research.google.com/github/tugcecicekli/Math-2024-25-Winter/blob/main/Exercise_15.ipynb\" target=\"_parent\"><img src=\"https://colab.research.google.com/assets/colab-badge.svg\" alt=\"Open In Colab\"/></a>"
      ]
    },
    {
      "cell_type": "markdown",
      "source": [
        "## 4\n",
        "Intersection of $y=2x+3$ and $y=3x+2$\n",
        "\n",
        "1. Find the **Intersection Point**= Solve the system of equations:\n",
        "\n",
        "$2x+3=3x+2$\n",
        "\n",
        "$x=1,y=5$\n",
        "\n",
        "2. **Calculate the Angle Between the Lines**: The angle Θ between two lines with slopes $m_1$ and $m_2$ is given by:\n",
        "\n",
        "$m_1=2$ and $m_2=3$:\n",
        "\n",
        "$tanΘ=\\|\\frac{m_1-m_2}{1+m_1m_2}\\|\\$\n",
        "\n",
        "$tanΘ=\\|\\frac{2-3}{1+2⋅3}\\|\\=\\frac{1}{7}\\$\n",
        "\n",
        "**Final Answer**:\n",
        "\n",
        "*Intersection point:(1,5)\n",
        "\n",
        "*Angle:$tan^{-1}(\\frac{1}{7})$\n",
        "\n",
        "\n",
        "\n"
      ],
      "metadata": {
        "id": "1mm6yUMEsnWS"
      }
    },
    {
      "cell_type": "markdown",
      "source": [
        "##5\n",
        "Write the equation of line passing through point $A=(1,2)$ and parallel to the vector $v=[2,3]$.\n",
        "\n",
        "1. **Determine the Slope**: Using the point-slope form:\n",
        "\n",
        "Substitude $m=\\frac{3}{2},x_1=1$, and $y_1=2$:\n",
        "\n",
        "$y-y1=m(x-x1)$\n",
        "\n",
        "$y-2=\\frac{3}{2}(x-1)$\n",
        "\n",
        "$y=\\frac{3}{2}x+\\frac{1}{2}$\n",
        "\n",
        "**Final Asnwer**: The equation of the line is $y=\\frac{3}{2}x+\\frac{1}{2}$\n",
        "https://www.geogebra.org/calculator/pag3vrsr"
      ],
      "metadata": {
        "id": "x0ICgTWTx0kX"
      }
    },
    {
      "cell_type": "markdown",
      "source": [
        "##6\n",
        "$y=2x+3$ and $P=(1,1)$ is a random point that the lines will pass through.\n",
        "\n",
        "For a parallel line:\n",
        "\n",
        "$m=2$\n",
        "\n",
        "$y-1=2⋅(2x-1)$\n",
        "\n",
        "$y=2x-1$\n",
        "\n",
        "For a perpendicular line:\n",
        "\n",
        "$m_{given}=2$\n",
        "\n",
        "$m_{perpendicular}=-\\frac{1}{2}$\n",
        "\n",
        "$y-1=-\\frac{1}{2} $"
      ],
      "metadata": {
        "id": "4SmvMRk9hZoK"
      }
    },
    {
      "cell_type": "markdown",
      "source": [
        "##7\n",
        "1.**Distance Formula**: The distance $d$ from $(x_1,y_1)$ to a line $ax+by+c=0$ is:\n",
        "\n",
        "$d=\\|\\frac{ax_1+by_1+c}|{\\sqrt{a^2+b^2}}\\$"
      ],
      "metadata": {
        "id": "bZ-7uaGK1wcT"
      }
    }
  ]
}