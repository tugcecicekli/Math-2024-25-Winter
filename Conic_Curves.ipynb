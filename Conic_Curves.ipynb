{
  "nbformat": 4,
  "nbformat_minor": 0,
  "metadata": {
    "colab": {
      "provenance": [],
      "toc_visible": true,
      "authorship_tag": "ABX9TyNPs4YgtLFae/KAHs7rxbVB",
      "include_colab_link": true
    },
    "kernelspec": {
      "name": "python3",
      "display_name": "Python 3"
    },
    "language_info": {
      "name": "python"
    }
  },
  "cells": [
    {
      "cell_type": "markdown",
      "metadata": {
        "id": "view-in-github",
        "colab_type": "text"
      },
      "source": [
        "<a href=\"https://colab.research.google.com/github/tugcecicekli/Math-2024-25-Winter/blob/main/Conic_Curves.ipynb\" target=\"_parent\"><img src=\"https://colab.research.google.com/assets/colab-badge.svg\" alt=\"Open In Colab\"/></a>"
      ]
    },
    {
      "cell_type": "markdown",
      "source": [
        "#Exercises"
      ],
      "metadata": {
        "id": "k52WX-2xutr5"
      }
    },
    {
      "cell_type": "markdown",
      "source": [
        "##1.\n",
        "\n",
        "Find the equation of a circle with center at point $A=(1,2)$ and radius $r=3$\n",
        "\n",
        "The equation of a circle with center at $(h,k)$ and radius $r$ is given by:\n",
        "$(x-h)^2+(y-k)^2=r^2$\n",
        "\n",
        "For our circle $A=(1,2)$: $h=1,k=2,r=3$\n",
        "\n",
        "$(x-1)^2+(y-2)^2=3^2=>(x-1)^2+(y-2)^2=9$\n",
        "\n",
        "**Solution**: $(x-1)^2+(y-2)^2=9$\n",
        "https://www.geogebra.org/calculator/shpmnwjc"
      ],
      "metadata": {
        "id": "gexqMojVDaHj"
      }
    },
    {
      "cell_type": "markdown",
      "source": [
        "##2.\n",
        "\n",
        "Find the equation of a parabola intersecting the $0x$ axis at points $x=2,x=4$ , and passing through point $y(3)=1$\n",
        "\n",
        "1. **General Equation:** For a parabola intersecting the $x$-axis at points $x_1$ and $x_2$, the equation is:\n",
        "\n",
        "$y=a(x-x_1)⋅(x-x_2)$\n",
        "2. **Substitute $x_1=2$ and $x_2=4$:**\n",
        "\n",
        "$y=a(x-2)(x-4)$\n",
        "\n",
        "3. **Find $a$ Using the Given Point** $y(3)=1$ : Substitute $x=3$ and $y=1$\n",
        "\n",
        "$1=a(3-2)(3-4)$\n",
        "\n",
        "$1=a(1)(-1)=>a=-1$\n",
        "\n",
        "4. **Write the Equation**: Substitute $a=-1$:\n",
        "\n",
        "$y=-(x-2)(x-4)$\n",
        "\n",
        "5. **Simplify**: Expand: $y=-(x^2-6x+8)=>y=-x^2+6x-8$\n",
        "\n",
        "**Final Answer**: The equation of the parabola is: $y=-x^2+6x-8$\n",
        "https://www.geogebra.org/calculator/u3ggew3w"
      ],
      "metadata": {
        "id": "BbsCjhEfuwot"
      }
    },
    {
      "cell_type": "markdown",
      "source": [
        "##3\n",
        "$x^2+4y^2-4x-16y+16=0$\n",
        "\n",
        "$(x^2-4x)+4(y^2-4y)=16$\n",
        "\n",
        "$1) x^2-4x=(x-2)^2-4$\n",
        "\n",
        "$2) y^2-4y=(y-2)^2-4$\n",
        "\n",
        "$3) (x-2)^2-4+4((y-2)-4)=-16$\n",
        "\n",
        "$(x-2)^2+4(y-2)^2-16=-16$\n",
        "\n",
        "$(x-2)^2+4(y-2)^2-20=-16$\n",
        "\n",
        "$(x-2)^2+4(y-2)^2=4$\n",
        "\n",
        "$4) \\frac{(x-2)^2}{4}+\\frac{(y-2)^2}{1}=1$\n",
        "\n",
        "The center of eclipse is $(2,2)$\n",
        "\n",
        "https://www.geogebra.org/calculator"
      ],
      "metadata": {
        "id": "XIOLwV2F4wDa"
      }
    },
    {
      "cell_type": "markdown",
      "source": [
        "##4\n",
        "\n",
        "1) Set up the equation: $ x^2+(mx-5)^2=1$\n",
        "\n",
        "2) Expand and simplify: $x^2+m^2x^2-10mx+25=1$\n",
        "\n",
        "$(1+m^2)x^2-10mx+24=0$\n",
        "\n",
        "3) Use the discriminant: $b^2-4ac=0$\n",
        "\n",
        "$(-10m)^2-4(1+m^2)(24)=0$\n",
        "\n",
        "$100m^2-4-4m^2-96=0=>96m^2-100=0=>96m^2=100=>m^2=\\frac{100}{96}=>m=\\frac{\\sqrt{100}}{\\sqrt{96}}=>m=\\frac{\\sqrt{25}}{\\sqrt{24}}=>m=\\frac{5}{2\\sqrt{6}}$\n",
        "\n",
        "https://www.geogebra.org/calculator/eas4cuf6"
      ],
      "metadata": {
        "id": "iAYKA63QA2NE"
      }
    },
    {
      "cell_type": "markdown",
      "source": [
        "##5\n",
        "To find the intersection points, we need to solve the system of equations:\n",
        "\n",
        "\n",
        "$\\left\\{\\begin{array}{c}{x^2-y^2=1} \\\\ {x^2+4y^2=6}\\end{array}\\right.=>\n",
        "\\left\\{\\begin{array}{c}{x^2=1+y^2}\\\\{x^2+4y^2=6}\\end{array}\\right.=>\n",
        "\\left\\{\\begin{array}{c}{x^2=1+y^2}\\\\{1+y^2+4y^2=6}\\end{array}\\right.=>\n",
        "\\left\\{\\begin{array}{c}{x^2=1+y^2}\\\\{5y^2=5÷5}\\end{array}\\right.=>\n",
        "\\left\\{\\begin{array}{c}{x^2=1+y^2}\\\\{y^2=1}\\end{array}\\right.=>\n",
        "\\left\\{\\begin{array}{c}{x^2=1+y^2}\\\\{y_1=1}\\\\{y_2=-1}\\end{array}\\right.\n",
        "\\left\\{\\begin{array}{x_1^2=1+1^2}\\\\{x_2^2=1+(-1)^2}\\\\{y_1=1}\\\\{y_2=-1}\\end{array}\\right.$"
      ],
      "metadata": {
        "id": "PhEj7saMGlPI"
      }
    },
    {
      "cell_type": "code",
      "execution_count": null,
      "metadata": {
        "id": "uIg_wjQeDV25"
      },
      "outputs": [],
      "source": []
    }
  ]
}