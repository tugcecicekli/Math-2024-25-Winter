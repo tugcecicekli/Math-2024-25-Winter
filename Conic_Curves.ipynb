{
  "nbformat": 4,
  "nbformat_minor": 0,
  "metadata": {
    "colab": {
      "provenance": [],
      "toc_visible": true,
      "authorship_tag": "ABX9TyOJm8hU0pNnWnGA0mnZzDkh",
      "include_colab_link": true
    },
    "kernelspec": {
      "name": "python3",
      "display_name": "Python 3"
    },
    "language_info": {
      "name": "python"
    }
  },
  "cells": [
    {
      "cell_type": "markdown",
      "metadata": {
        "id": "view-in-github",
        "colab_type": "text"
      },
      "source": [
        "<a href=\"https://colab.research.google.com/github/tugcecicekli/Math-2024-25-Winter/blob/main/Conic_Curves.ipynb\" target=\"_parent\"><img src=\"https://colab.research.google.com/assets/colab-badge.svg\" alt=\"Open In Colab\"/></a>"
      ]
    },
    {
      "cell_type": "markdown",
      "source": [
        "\n",
        "### **1. Definition of Conic Curves**\n",
        "Conic curves, or conic sections, are the curves formed by the intersection of a plane with a double-napped cone. The type of curve depends on the angle of intersection between the plane and the cone.\n",
        "\n",
        "---\n",
        "\n",
        "### **2. Types of Conic Curves**\n",
        "\n",
        "1. **Circle**:\n",
        "   - **Definition**: The set of all points equidistant from a fixed point called the center.\n",
        "   - **Standard Equation**:  \n",
        "     $(x-h)^2+(y-k)^2=r^2$\n",
        "     where $(h, k)$ is the center and $(r)$ is the radius.\n",
        "\n",
        "2. **Ellipse**:\n",
        "   - **Definition**: The set of all points where the sum of the distances from two fixed points (foci) is constant.\n",
        "   - **Standard Equation**:  \n",
        "     $$\\frac{(x - h)^2}{a^2} + \\frac{(y - k)^2}{b^2} = 1$$\n",
        "     where $a > b$, $a$ is the semi-major axis, $b$ is the semi-minor axis, and $(h, k)$ is the center.\n",
        "\n",
        "3. **Parabola**:\n",
        "   - **Definition**: The set of all points equidistant from a fixed point (focus) and a fixed line (directrix).\n",
        "   - **Standard Equation**:  \n",
        "     - Horizontal parabola: $y^2 = 4ax$  \n",
        "     - Vertical parabola: $x^2 = 4ay$\n",
        "\n",
        "     where $a$ is the distance from the vertex to the focus.\n",
        "\n",
        "4. **Hyperbola**:\n",
        "   - **Definition**: The set of all points where the difference of the distances from two fixed points (foci) is constant.\n",
        "   - **Standard Equation**:  \n",
        "     $\\frac{(x - h)^2}{a^2} - \\frac{(y - k)^2}{b^2} = 1$\n",
        "\n",
        "     For a hyperbola with horizontal transverse axis.Here, $a$ is the distance from the center to a vertex, and $b$ is related to the asymptotes.\n",
        "\n",
        "---\n",
        "\n",
        "### **3. Key Terms in Conic Sections**\n",
        "\n",
        "1. **Focus (Foci)**: Fixed point(s) used to define the conic curve.  \n",
        "2. **Directrix**: A fixed line used in the definition of a parabola.  \n",
        "3. **Vertex**: The point where the curve is closest to or farthest from the focus.  \n",
        "4. **Axis of Symmetry**: The line passing through the focus and perpendicular to the directrix.  \n",
        "5. **Eccentricity $(e)$**: Measures how \"stretched\" the conic is.  \n",
        "   - Circle $e = 0$  \n",
        "   - Ellipse: $0 < e < 1$  \n",
        "   - Parabola: $e = 1$  \n",
        "   - Hyperbola: $e > 1$\n",
        "\n",
        "---\n",
        "\n",
        "### **4. General Equation of a Conic**\n",
        "The general quadratic equation of a conic is:$Ax^2 + Bxy + Cy^2 + Dx + Ey + F = 0$\n",
        "- The type of conic depends on the **discriminant** $(B^2 - 4AC)$:  \n",
        "  - **Circle**: $(B^2 - 4AC = 0)$, and $(A = C)$.  \n",
        "  - **Ellipse**: $(B^2 - 4AC < 0)$.  \n",
        "  - **Parabola**: $(B^2 - 4AC = 0)$, but $(A \\neq C)$.  \n",
        "  - **Hyperbola**: $(B^2 - 4AC > 0)$.\n",
        "\n",
        "---\n",
        "\n",
        "### **5. Specific Features of Conics**\n",
        "\n",
        "#### **Circle**:\n",
        "- Center: $(h, k)$\n",
        "- Radius: $(r)$\n",
        "\n",
        "#### **Ellipse**:\n",
        "- Foci: Located at $(h±c, k)$ (horizontal) or $(h,k±c)$ (vertical), where $c = \\sqrt{a^2 - b^2}$.  \n",
        "- Major Axis: Longest axis $(2a)$.  \n",
        "- Minor Axis: Shortest axis $(2b)$.  \n",
        "\n",
        "#### **Parabola**:\n",
        "- Focus: Located at $(h + a, k)$ (horizontal) or $(h, k + a)$ (vertical).  \n",
        "- Directrix: $(x = h - a)$ (horizontal) or $(y = k - a)$ (vertical).  \n",
        "\n",
        "#### **Hyperbola**:\n",
        "- Foci: Located at $(h±c,k)$ (horizontal) or $(h,k±c)$ (vertical), where $(c = \\sqrt{a^2 + b^2})$.  \n",
        "- Asymptotes: Diagonal lines that the hyperbola approaches but never intersects.  \n",
        "\n",
        "---\n"
      ],
      "metadata": {
        "id": "lIrx0dt55cuP"
      }
    },
    {
      "cell_type": "markdown",
      "source": [
        "#Exercises"
      ],
      "metadata": {
        "id": "k52WX-2xutr5"
      }
    },
    {
      "cell_type": "markdown",
      "source": [
        "##1.\n",
        "\n",
        "Find the equation of a circle with center at point $A=(1,2)$ and radius $r=3$\n",
        "\n",
        "The equation of a circle with center at $(h,k)$ and radius $r$ is given by:\n",
        "$(x-h)^2+(y-k)^2=r^2$\n",
        "\n",
        "For our circle $A=(1,2)$: $h=1,k=2,r=3$\n",
        "\n",
        "$(x-1)^2+(y-2)^2=3^2=>(x-1)^2+(y-2)^2=9$\n",
        "\n",
        "**Solution**: $(x-1)^2+(y-2)^2=9$\n",
        "https://www.geogebra.org/calculator/shpmnwjc"
      ],
      "metadata": {
        "id": "gexqMojVDaHj"
      }
    },
    {
      "cell_type": "markdown",
      "source": [
        "##2.\n",
        "\n",
        "Find the equation of a parabola intersecting the $0x$ axis at points $x=2,x=4$ , and passing through point $y(3)=1$\n",
        "\n",
        "1. **General Equation:** For a parabola intersecting the $x$-axis at points $x_1$ and $x_2$, the equation is:\n",
        "\n",
        "$y=a(x-x_1)⋅(x-x_2)$\n",
        "2. **Substitute $x_1=2$ and $x_2=4$:**\n",
        "\n",
        "$y=a(x-2)(x-4)$\n",
        "\n",
        "3. **Find $a$ Using the Given Point** $y(3)=1$ : Substitute $x=3$ and $y=1$\n",
        "\n",
        "$1=a(3-2)(3-4)$\n",
        "\n",
        "$1=a(1)(-1)=>a=-1$\n",
        "\n",
        "4. **Write the Equation**: Substitute $a=-1$:\n",
        "\n",
        "$y=-(x-2)(x-4)$\n",
        "\n",
        "5. **Simplify**: Expand: $y=-(x^2-6x+8)=>y=-x^2+6x-8$\n",
        "\n",
        "**Final Answer**: The equation of the parabola is: $y=-x^2+6x-8$\n",
        "https://www.geogebra.org/calculator/u3ggew3w"
      ],
      "metadata": {
        "id": "BbsCjhEfuwot"
      }
    },
    {
      "cell_type": "markdown",
      "source": [
        "##3\n",
        "$x^2+4y^2-4x-16y+16=0$\n",
        "\n",
        "$(x^2-4x)+4(y^2-4y)=16$\n",
        "\n",
        "$1) x^2-4x=(x-2)^2-4$\n",
        "\n",
        "$2) y^2-4y=(y-2)^2-4$\n",
        "\n",
        "$3) (x-2)^2-4+4((y-2)-4)=-16$\n",
        "\n",
        "$(x-2)^2+4(y-2)^2-16=-16$\n",
        "\n",
        "$(x-2)^2+4(y-2)^2-20=-16$\n",
        "\n",
        "$(x-2)^2+4(y-2)^2=4$\n",
        "\n",
        "$4) \\frac{(x-2)^2}{4}+\\frac{(y-2)^2}{1}=1$\n",
        "\n",
        "The center of eclipse is $(2,2)$\n",
        "\n",
        "https://www.geogebra.org/calculator"
      ],
      "metadata": {
        "id": "XIOLwV2F4wDa"
      }
    },
    {
      "cell_type": "markdown",
      "source": [
        "##4\n",
        "\n",
        "1) Set up the equation: $ x^2+(mx-5)^2=1$\n",
        "\n",
        "2) Expand and simplify: $x^2+m^2x^2-10mx+25=1$\n",
        "\n",
        "$(1+m^2)x^2-10mx+24=0$\n",
        "\n",
        "3) Use the discriminant: $b^2-4ac=0$\n",
        "\n",
        "$(-10m)^2-4(1+m^2)(24)=0$\n",
        "\n",
        "$100m^2-4-4m^2-96=0=>96m^2-100=0=>96m^2=100=>m^2=\\frac{100}{96}=>m=\\frac{\\sqrt{100}}{\\sqrt{96}}=>m=\\frac{\\sqrt{25}}{\\sqrt{24}}=>m=\\frac{5}{2\\sqrt{6}}$\n",
        "\n",
        "https://www.geogebra.org/calculator/eas4cuf6"
      ],
      "metadata": {
        "id": "iAYKA63QA2NE"
      }
    },
    {
      "cell_type": "markdown",
      "source": [
        "##5\n",
        "To find the intersection points, we need to solve the system of equations:\n",
        "\n",
        "\n",
        "$\\left\\{\\begin{array}{c}{x^2-y^2=1} \\\\ {x^2+4y^2=6}\\end{array}\\right.=>\n",
        "\\left\\{\\begin{array}{c}{x^2=1+y^2}\\\\{x^2+4y^2=6}\\end{array}\\right.=>\n",
        "\\left\\{\\begin{array}{c}{x^2=1+y^2}\\\\{1+y^2+4y^2=6}\\end{array}\\right.=>\n",
        "\\left\\{\\begin{array}{c}{x^2=1+y^2}\\\\{5y^2=5÷5}\\end{array}\\right.=>\n",
        "\\left\\{\\begin{array}{c}{x^2=1+y^2}\\\\{y^2=1}\\end{array}\\right.=>\n",
        "\\left\\{\\begin{array}{c}{x^2=1+y^2}\\\\{y_1=1}\\\\{y_2=-1}\\end{array}\\right.\n",
        "\\left\\{\\begin{array}{x_1^2=1+1^2}\\\\{x_2^2=1+(-1)^2}\\\\{y_1=1}\\\\{y_2=-1}\\end{array}\\right.$"
      ],
      "metadata": {
        "id": "PhEj7saMGlPI"
      }
    },
    {
      "cell_type": "code",
      "execution_count": null,
      "metadata": {
        "id": "uIg_wjQeDV25"
      },
      "outputs": [],
      "source": []
    }
  ]
}