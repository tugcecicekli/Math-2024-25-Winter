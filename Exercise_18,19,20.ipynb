{
  "nbformat": 4,
  "nbformat_minor": 0,
  "metadata": {
    "colab": {
      "provenance": [],
      "toc_visible": true,
      "authorship_tag": "ABX9TyP1Ee9b3yBrgajQj2y5HiLb",
      "include_colab_link": true
    },
    "kernelspec": {
      "name": "python3",
      "display_name": "Python 3"
    },
    "language_info": {
      "name": "python"
    }
  },
  "cells": [
    {
      "cell_type": "markdown",
      "metadata": {
        "id": "view-in-github",
        "colab_type": "text"
      },
      "source": [
        "<a href=\"https://colab.research.google.com/github/tugcecicekli/Math-2024-25-Winter/blob/main/Exercise_18%2C19%2C20.ipynb\" target=\"_parent\"><img src=\"https://colab.research.google.com/assets/colab-badge.svg\" alt=\"Open In Colab\"/></a>"
      ]
    },
    {
      "cell_type": "markdown",
      "source": [
        "# 18 . Functions"
      ],
      "metadata": {
        "id": "Jaj3OyVzbofd"
      }
    },
    {
      "cell_type": "markdown",
      "source": [
        "\n",
        "##1.\n",
        "Draw in a single Geogebra notebook the following functions:\n",
        "https://www.geogebra.org/calculator/rvdyuvys\n",
        "\n",
        "Find the value of all the above functions at $x=2$\n",
        "\n",
        "$f(x)=x^2=>f(2)=2^2=>f(2)=4$\n",
        "\n",
        "$g(x)=\\sqrt{x}=>g(2)=\\sqrt{2}$\n",
        "\n",
        "$h(x)=\\frac{1}{x}=>h(2)=\\frac{1}{2}=>h(2)=0.5$\n",
        "\n",
        "$j(x)=sin(x)=>j(2)=sin(2)=>sin(2)≈0.9093$\n",
        "\n"
      ],
      "metadata": {
        "id": "fB3ZC035LvLQ"
      }
    },
    {
      "cell_type": "markdown",
      "source": [
        "##2.\n",
        "Let $f(x)=3x-1$ and $g(x)=\\sqrt{x}$.\n",
        "\n",
        "1) $f(g(x))=>f(\\sqrt{x})=3(\\sqrt{x})-1=>f(g(x))=3{\\sqrt{x}}-1$\n",
        "\n",
        "2) $g(f(x))=>g(3x-1)=\\sqrt{3x-1}=>g(f(x))=\\sqrt{3x-1}$\n",
        "\n",
        "3) $f(f(x))=f(3x-1)=>f(3x-1)=3(3x-1)-1=>f(3x-1)=9x-3-1=>f(3x-1)=9x-4=>f(3x-1)=9x-4$\n",
        "\n",
        "4) $g(g(x))=g(\\sqrt{x})=>g(\\sqrt{x})=\\sqrt{\\sqrt{x}}$\n",
        "\n",
        "https://www.geogebra.org/calculator/fj2vct4h\n"
      ],
      "metadata": {
        "id": "59FEDMYca9z7"
      }
    },
    {
      "cell_type": "markdown",
      "source": [
        "##3.\n",
        "Let $f(x)=e^x$ and $g(x)=In(x)$. Check $f(g(x))$ and $g(f(x))$. What do you notice?\n",
        "\n",
        "1) $f(g(x))=f(In(x))=>f(In(x))=e^{In(x)}$\n",
        "\n",
        "Using the property of logarithms and exponentials, we know that $e^{In(x)}=x$ for $x>0$\n",
        "\n",
        "$f(g(x))=x$ for $x>0$\n",
        "\n",
        "2) $g(f(x))=g(e^x)$\n",
        "\n",
        "Since $g(x)=In(x)$ , $g(e^x)=In(e^x)$\n",
        "\n",
        "Using the property of logarithms, $In(e^x)=x$\n",
        "\n",
        "$g(f(x))=x$\n",
        "\n",
        "This means that the functions $f(g(x))=x$ and $g(f(x))=x$ are inverses of each other.\n"
      ],
      "metadata": {
        "id": "5t06xc0SbCiB"
      }
    },
    {
      "cell_type": "markdown",
      "source": [
        "##4.\n",
        "We have function $f=(1,7),(2,9),(3,11)$. Give inverse function $f^{-1}$.\n",
        "\n",
        "$f={(1,7),(2,9),(3,11)}$\n",
        "\n",
        "$(1,7)=>(7,1)$\n",
        "\n",
        "$(2,9)=>(9,2)$\n",
        "\n",
        "$(3,11)=>(11,3)$\n",
        "\n",
        "$f^{-1}=(7,1),(9,2),(11,3)$"
      ],
      "metadata": {
        "id": "tHu3eXoAbO8h"
      }
    },
    {
      "cell_type": "markdown",
      "source": [
        "##5.\n",
        "We have function $f=(1,7),(2,7),(3,11)$. Give inverse function $f^{-1}$.\n",
        "\n",
        "$f=(7,1),(9,2),(11,3)$"
      ],
      "metadata": {
        "id": "FENnxUTibVLM"
      }
    },
    {
      "cell_type": "markdown",
      "source": [
        "##6.\n",
        "We have function $f(x)=x-1$. Give inverse function $f^{-1}$. Show both functions on the same Geogebra notebook.\n",
        "\n",
        "1) Replace $f(x)$ with $y$ :\n",
        "\n",
        "$y=x-1$\n",
        "\n",
        "2) Swap $x$ and $y$:\n",
        "\n",
        "$x=y-1$\n",
        "\n",
        "3) Solve for $y$:\n",
        "\n",
        "$y=x+1$\n",
        "\n",
        "4) Replace $y$ with $f^{-1}(x)$:\n",
        "\n",
        "$f^{-1}(x)=x+1$\n",
        "\n",
        "https://www.geogebra.org/calculator/nbt7yfv7"
      ],
      "metadata": {
        "id": "YdfW_o01bbDP"
      }
    },
    {
      "cell_type": "markdown",
      "source": [
        "# 19.Limits and Sequences"
      ],
      "metadata": {
        "id": "0NXy4JTlb4-U"
      }
    },
    {
      "cell_type": "markdown",
      "source": [
        "##1.\n",
        "Calculate:\n",
        "\n",
        "1) $$\\lim_{x \\to ∞}\\frac{n^2+3n}{2n^2-2n}$$\n",
        "- Identify the highest power of $n$ which is $n^2$ and divide all terms by that:\n",
        "$$\\lim_{x \\to ∞}\\frac{\\frac{n^2}{n^2}+\\frac{3n}{n^2}}{\\frac{2n^2}{n^2}-\\frac{2n}{n^2}}=\\frac{{1}+{\\frac{3}{n}}}{{2}-{\\frac{2}{n}}}$$\n",
        "-Take the limit as $n\\to ∞$, terms like $\\frac{3}{n}$ and $\\frac{2}{n}$ approach 0. Substituting these limist we get:\n",
        "$$\\lim_{x\\to∞}\\frac{{1}+{\\frac{3}{n}}}{{2}-{\\frac{2}{n}}}=\\frac{1+0}{2-0}=\\frac{1}{2}$$\n",
        "\n",
        "\n",
        "\n",
        "\n",
        "\n",
        "\n",
        " 2) $$\\lim_{x \\to ∞}\\frac{(2n+3)^3}{n^3-1}$$\n",
        " - Using binomial expansion formula $[(a+b)^3=a^3+3a^2b+3ab^2+b^3]$ we expand the numerator:\n",
        "\n",
        " $$(2n+3)^3=(2n)^3+3(2n)^2(3)+3(2n)(3)^2+3^3=8n^3+12n^2(3)+6n(9)+27=8n^3+36n^2+54n+27$$\n",
        "\n",
        " - Divide through by the dominant term which is $n^3$:\n",
        "\n",
        " $$\\frac{(2n+3)^3}{n^3-1}=\\frac{\\frac{8n^3+36n^2+54n+27}{n^3}}{\\frac{n^3-1}{n^3}}$$\n",
        "\n",
        " - Simplify each term:\n",
        "\n",
        "Numerator: $\\frac{8n^3+36n^2+54n+27}{n^3}=8+\\frac{36}{n}+\\frac{54}{n^2}+\\frac{27}{n^3}$\n",
        "\n",
        "Denominator: $\\frac{n^3-1}{n^3}=1-\\frac{1}{n^3}$\n",
        "\n",
        "- Substituting them back: $$\\frac{(2n+3)^3}{n^3-1}=\\frac{8+\\frac{36}{n}+\\frac{54}{n^2}+\\frac{27}{n^3}}{1-\\frac{1}{n^3}}$$\n",
        "\n",
        "- As $n→∞$ the terms $\\frac{36}{n},\\frac{54}{n^2},\\frac{27}{n^3}$ and $\\frac{1}{n^3}$ all aproach 0.\n",
        "\n",
        "Numerator aproaches 8, denominator approaches 1\n",
        "\n",
        "$$\\lim_{x \\to ∞}\\frac{(2n+3)^3}{n^3-1}=\\frac{8}{1}=8$$"
      ],
      "metadata": {
        "id": "-UoDfGjOLuhl"
      }
    },
    {
      "cell_type": "markdown",
      "source": [
        "##2.\n",
        "- Prove using the squeeze theorem:\n",
        "$$\\lim_{x\\to∞}\\frac{sin(n)}{n}$$\n",
        "\n",
        "1. The sine function,$sin(n)$\n",
        "sin(n), is bounded for all $n$. Specifically:\n",
        "$$-1≤sin(n)≤1$$.\n",
        "\n",
        "2. Divide through by $n>0$ to form bounds for the given fraction $$\\frac{-1}{n}≤\\frac{sin(n)}{n}≤\\frac{1}{n}$$\n",
        "\n",
        "3. We evalute the limits of $-\\frac{1}{n}$ and $\\frac{1}{n}$ as $n\\to∞$\n",
        "\n",
        "$\\lim_{n\\to∞}-\\frac{1}{n}=0$ and $\\lim_{n\\to∞}\\frac{1}{n}=0$\n",
        "\n",
        "4. The squeeze theorem states that $a_n≤b_n≤c_n$ for all $n$ if: $$\\lim_{n\\to∞}a_n=\\lim_{n\\to∞}c_n=L$$ $$\\lim_{n\\to∞}b_n=L$$\n",
        "\n",
        "$$-1≤sin(n)≤1$$ $-\\frac{1}{n}$ and $\\frac{1}{n}$ approach 0 as $n\\to∞$\n",
        "$$\\lim_{n\\to∞}\\frac{sin(n)}{n}=0$$\n",
        "\n"
      ],
      "metadata": {
        "id": "0kxIy_yVa28W"
      }
    },
    {
      "cell_type": "markdown",
      "source": [
        "## 3.\n",
        "Find the limit of the sequence: $$a_n=(1+\\frac{1}{n})^n$$"
      ],
      "metadata": {
        "id": "S3yoBi0uk4fG"
      }
    },
    {
      "cell_type": "markdown",
      "source": [
        "# 20.Limits of Real Functions"
      ],
      "metadata": {
        "id": "Cmq9_6CMlUHo"
      }
    },
    {
      "cell_type": "markdown",
      "source": [
        "##1.\n",
        "Compute: $$\\lim_{x\\to∞}\\frac{x^3+2x^2}{x^4-3x^3}$$\n",
        "\n",
        "$$\\frac{x^3+2x^2}{x^4-3x^3}=\\frac{{\\frac{x^3}{x^4}}+{\\frac{2x^2}{x^4}}}{{\\frac{x^4}{x^4}}-{\\frac{3x^3}{x^4}}}$$\n",
        "\n",
        "$\\frac{x^3}{x^4}=\\frac{1}{x},\\frac{2x^2}{x^4}=\\frac{2}{x^2},\\frac{x^4}{x^4}=1,\\frac{3x^3}{x^4}=\\frac{3}{x}$\n",
        "\n",
        "$$\\frac{{\\frac{1}{x}}+{\\frac{2}{x^2}}}{{1}-{\\frac{3}{x}}}$$\n",
        "\n",
        "As $x→∞$: $\\frac{1}{x} → 0,\\frac{2}{x^2} → 0 ,\\frac{3}{x}→ 0$\n",
        "\n",
        "$$\\frac{{\\frac{1}{x}}+{\\frac{2}{x^2}}}{{1}-{\\frac{3}{x}}}→\\frac{0+0}{1-0}=0$$\n",
        "\n",
        "$$\\lim_{x\\to∞}\\frac{x^3+2x^2}{x^4-3x^3}=0$$"
      ],
      "metadata": {
        "id": "EHs7Y0tVlasY"
      }
    },
    {
      "cell_type": "markdown",
      "source": [
        "## 2.\n",
        "Find: $$\\lim_{x\\to0}\\frac{sin(3x)}{2x+1}$$\n",
        "As $x\\to0$:\n",
        "- $sin(3x)→sin(0)=0$\n",
        "- $2x+1→2⋅0+1=1$\n",
        "\n",
        "$$\\frac{sin(3x)}{2x+1}=\\frac{0}{1}=0$$\n",
        "\n",
        "$$\\lim_{x\\to0}\\frac{sin(3x)}{2x+1}=0$$"
      ],
      "metadata": {
        "id": "CYtTeHPEqbkj"
      }
    },
    {
      "cell_type": "markdown",
      "source": [
        "## 3.\n",
        "Find the asymptotes of the function:\n",
        "\n",
        "$f(x)=\\frac{x^2-1}{x^2+1}$\n",
        "\n",
        "$g(x)=\\frac{sin(x)}{x^2+1}$"
      ],
      "metadata": {
        "id": "vweIQgV3ryxc"
      }
    }
  ]
}