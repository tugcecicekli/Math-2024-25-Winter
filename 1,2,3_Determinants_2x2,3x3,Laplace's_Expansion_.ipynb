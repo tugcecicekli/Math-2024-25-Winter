{
  "nbformat": 4,
  "nbformat_minor": 0,
  "metadata": {
    "colab": {
      "provenance": [],
      "toc_visible": true,
      "authorship_tag": "ABX9TyNw44FMAv/6DT2DC4B/zCsl",
      "include_colab_link": true
    },
    "kernelspec": {
      "name": "python3",
      "display_name": "Python 3"
    },
    "language_info": {
      "name": "python"
    }
  },
  "cells": [
    {
      "cell_type": "markdown",
      "metadata": {
        "id": "view-in-github",
        "colab_type": "text"
      },
      "source": [
        "<a href=\"https://colab.research.google.com/github/tugcecicekli/Math-2024-25-Winter/blob/main/1%2C2%2C3_Determinants_2x2%2C3x3%2CLaplace's_Expansion_.ipynb\" target=\"_parent\"><img src=\"https://colab.research.google.com/assets/colab-badge.svg\" alt=\"Open In Colab\"/></a>"
      ]
    },
    {
      "cell_type": "markdown",
      "source": [
        "# Matrix\n"
      ],
      "metadata": {
        "id": "EMFjMuTaCmv3"
      }
    },
    {
      "cell_type": "markdown",
      "source": [
        "```markdown\n",
        "# Matrix Addition\n",
        "\n",
        "Matrix addition is the process of adding two matrices by adding their corresponding elements. To perform matrix addition, the two matrices must have the same dimensions (i.e., the same number of rows and columns).\n",
        "\n",
        "## Key Points About Matrix Addition\n",
        "1. **Same Dimensions Required**: Matrix addition is only defined for matrices with the same dimensions.\n",
        "2. **Element-Wise Operation**: Each element in the resulting matrix is the sum of the corresponding elements from the two matrices.\n",
        "\n",
        "### Mathematical Representation\n",
        "Let \\( A \\) and \\( B \\) be two matrices with dimensions \\( m \\times n \\):\n",
        "\\[\n",
        "A =\n",
        "\\begin{bmatrix}\n",
        "a_{11} & a_{12} & \\cdots & a_{1n} \\\\\n",
        "a_{21} & a_{22} & \\cdots & a_{2n} \\\\\n",
        "\\vdots & \\vdots & \\ddots & \\vdots \\\\\n",
        "a_{m1} & a_{m2} & \\cdots & a_{mn}\n",
        "\\end{bmatrix},\n",
        "\\quad\n",
        "B =\n",
        "\\begin{bmatrix}\n",
        "b_{11} & b_{12} & \\cdots & b_{1n} \\\\\n",
        "b_{21} & b_{22} & \\cdots & b_{2n} \\\\\n",
        "\\vdots & \\vdots & \\ddots & \\vdots \\\\\n",
        "b_{m1} & b_{m2} & \\cdots & b_{mn}\n",
        "\\end{bmatrix}\n",
        "\\]\n",
        "\n",
        "Their sum \\( C = A + B \\) is:\n",
        "\\[\n",
        "C =\n",
        "\\begin{bmatrix}\n",
        "a_{11} + b_{11} & a_{12} + b_{12} & \\cdots & a_{1n} + b_{1n} \\\\\n",
        "a_{21} + b_{21} & a_{22} + b_{22} & \\cdots & a_{2n} + b_{2n} \\\\\n",
        "\\vdots & \\vdots & \\ddots & \\vdots \\\\\n",
        "a_{m1} + b_{m1} & a_{m2} + b_{m2} & \\cdots & a_{mn} + b_{mn}\n",
        "\\end{bmatrix}\n",
        "\\]\n",
        "\n",
        "### Example\n",
        "Given two matrices:\n",
        "\\[\n",
        "A =\n",
        "\\begin{bmatrix}\n",
        "2 & 4 & 6 \\\\\n",
        "1 & 3 & 5\n",
        "\\end{bmatrix},\n",
        "\\quad\n",
        "B =\n",
        "\\begin{bmatrix}\n",
        "7 & 8 & 9 \\\\\n",
        "0 & 2 & 4\n",
        "\\end{bmatrix}\n",
        "\\]\n",
        "\n",
        "Their sum is:\n",
        "\\[\n",
        "C = A + B =\n",
        "\\begin{bmatrix}\n",
        "2+7 & 4+8 & 6+9 \\\\\n",
        "1+0 & 3+2 & 5+4\n",
        "\\end{bmatrix}\n",
        "=\n",
        "\\begin{bmatrix}\n",
        "9 & 12 & 15 \\\\\n",
        "1 & 5 & 9\n",
        "\\end{bmatrix}\n",
        "\\]\n",
        "\n",
        "### Python Code for Matrix Addition\n",
        "```python\n",
        "# Import the numpy library\n",
        "import numpy as np\n",
        "\n",
        "# Define the matrices\n",
        "A = np.array([[2, 4, 6], [1, 3, 5]])\n",
        "B = np.array([[7, 8, 9], [0, 2, 4]])\n",
        "\n",
        "# Perform matrix addition\n",
        "C = A + B\n",
        "\n",
        "# Print the results\n",
        "print(\"Matrix A:\")\n",
        "print(A)\n",
        "\n",
        "print(\"\\nMatrix B:\")\n",
        "print(B)\n",
        "\n",
        "print(\"\\nSum of A and B (Matrix C):\")\n",
        "print(C)\n",
        "```\n",
        "```"
      ],
      "metadata": {
        "id": "z2N0CNknBIrp"
      }
    },
    {
      "cell_type": "markdown",
      "source": [
        "# Python Commands"
      ],
      "metadata": {
        "id": "gQpLK9l1ClHd"
      }
    },
    {
      "cell_type": "markdown",
      "source": [
        "```markdown\n",
        "# Introduction to Python Commands\n",
        "\n",
        "Here is a table of commonly used Python commands, their descriptions, and examples to help you get started with Python programming.\n",
        "\n",
        "| **Command**         | **Description**                                      | **Example**                                               |\n",
        "|----------------------|------------------------------------------------------|-----------------------------------------------------------|\n",
        "| `print()`           | Outputs text or variables to the console.            | `print(\"Hello, World!\")` → `Hello, World!`               |\n",
        "| `type()`            | Returns the type of a variable or value.             | `type(5)` → `<class 'int'>`                              |\n",
        "| `input()`           | Takes user input as a string.                        | `name = input(\"Enter your name: \")`                      |\n",
        "| `len()`             | Returns the length of a string, list, or other iterable.| `len(\"Python\")` → `6`                                   |\n",
        "| `int()`             | Converts a value to an integer.                      | `int(\"42\")` → `42`                                       |\n",
        "| `float()`           | Converts a value to a floating-point number.         | `float(\"3.14\")` → `3.14`                                 |\n",
        "| `str()`             | Converts a value to a string.                        | `str(123)` → `\"123\"`                                     |\n",
        "| `list()`            | Converts an iterable into a list.                    | `list(\"abc\")` → `['a', 'b', 'c']`                        |\n",
        "| `range()`           | Generates a sequence of numbers.                     | `list(range(5))` → `[0, 1, 2, 3, 4]`                     |\n",
        "| `for` loop          | Iterates over items in a sequence.                   | `for i in range(3): print(i)` → `0\\n1\\n2`                |\n",
        "| `if` statement      | Conditional statement to execute code if condition is true.| `if 5 > 3: print(\"Yes\")` → `Yes`                      |\n",
        "| `def`               | Defines a function.                                  | `def greet(): print(\"Hello\")`                            |\n",
        "| `import`            | Imports a module into your program.                  | `import math`                                            |\n",
        "| `math.sqrt()`       | Computes the square root of a number (requires `math`).| `math.sqrt(16)` → `4.0`                                  |\n",
        "| `open()`            | Opens a file.                                        | `file = open(\"example.txt\", \"r\")`                        |\n",
        "| `with` statement    | Manages resources like files more cleanly.           | `with open(\"example.txt\", \"r\") as f: print(f.read())`    |\n",
        "| `append()`          | Adds an item to a list.                              | `my_list = []; my_list.append(10)` → `[10]`             |\n",
        "| `len()`             | Returns the length of a collection.                  | `len([1, 2, 3])` → `3`                                   |\n",
        "| `help()`            | Provides help for a function or module.              | `help(print)`                                            |\n",
        "\n",
        "Each of these commands is fundamental to understanding Python and is useful for a variety of tasks.\n",
        "```"
      ],
      "metadata": {
        "id": "5lMO3_91CGyh"
      }
    },
    {
      "cell_type": "markdown",
      "source": [
        "# C++ and Python Commands"
      ],
      "metadata": {
        "id": "KiLTbdd9CjwJ"
      }
    },
    {
      "cell_type": "markdown",
      "source": [
        "Here’s a table comparing basic commands in C++ and Python:\n",
        "\n",
        "| **Action**               | **C++ Command**                            | **Python Command**                         | **Description**                                       |\n",
        "|--------------------------|---------------------------------------------|--------------------------------------------|-------------------------------------------------------|\n",
        "| Print output             | `std::cout << \"Hello, World!\";`            | `print(\"Hello, World!\")`                   | Displays output to the console.                      |\n",
        "| Declare a variable       | `int x = 5;`                               | `x = 5`                                    | Declares a variable and assigns a value.             |\n",
        "| Input from user          | `std::cin >> x;`                           | `x = input(\"Enter value: \")`               | Takes input from the user.                           |\n",
        "| Check data type          | `typeid(x).name()`                         | `type(x)`                                  | Gets the type of a variable.                         |\n",
        "| Length of a string       | `std::string str = \"Hello\"; str.size();`    | `len(\"Hello\")`                             | Gets the length of a string or collection.           |\n",
        "| Loop (for)               | `for (int i = 0; i < 5; i++) {}`           | `for i in range(5):`                       | Iterates over a range of values.                     |\n",
        "| Loop (while)             | `while (i < 5) {}`                         | `while i < 5:`                             | Loops while a condition is true.                     |\n",
        "| Conditional (if)         | `if (x > 0) {}`                            | `if x > 0:`                                | Executes code based on a condition.                  |\n",
        "| Function definition      | `int add(int a, int b) { return a + b; }`  | `def add(a, b): return a + b`              | Defines a reusable block of code.                    |\n",
        "| Import library           | `#include <cmath>`                         | `import math`                              | Imports a library or module.                         |\n",
        "| Square root              | `std::sqrt(16)`                            | `math.sqrt(16)`                            | Calculates the square root.                          |\n",
        "| Append to list/array     | `std::vector<int> v; v.push_back(10);`     | `my_list = []; my_list.append(10)`         | Adds an element to a list or vector.                 |\n",
        "| Open a file              | `std::ifstream file(\"example.txt\");`       | `file = open(\"example.txt\", \"r\")`          | Opens a file for reading or writing.                 |\n",
        "| Read from file           | `std::getline(file, line);`                | `file.read()`                              | Reads content from a file.                           |\n",
        "| Comment (single-line)    | `// This is a comment`                     | `# This is a comment`                      | Adds a single-line comment.                          |\n",
        "| Comment (multi-line)     | `/* Multi-line comment */`                 | `''' Multi-line comment '''`               | Adds a multi-line comment.                           |\n",
        "| Exit program             | `return 0;`                                | `exit()`                                   | Exits the program.                                   |\n",
        "\n",
        "This table highlights basic similarities and differences between C++ and Python commands for common programming tasks."
      ],
      "metadata": {
        "id": "Ld7ViiOxDW8v"
      }
    },
    {
      "cell_type": "markdown",
      "source": [
        "# Basic Matrix Operations"
      ],
      "metadata": {
        "id": "JvavoLxIDYMn"
      }
    },
    {
      "cell_type": "code",
      "source": [
        "# Exercise 1: Matrix addition\n",
        "import sympy as sp\n",
        "\n",
        "A=sp.Matrix([[1,2],[3,4]])\n",
        "B=sp.Matrix([[5,6],[7,8]])\n",
        "A+B # add matrices A and B"
      ],
      "metadata": {
        "colab": {
          "base_uri": "https://localhost:8080/",
          "height": 58
        },
        "id": "L-TGP03XPkAj",
        "outputId": "cb0cf08f-ed9e-484b-bc74-4248bb6fe15f"
      },
      "execution_count": null,
      "outputs": [
        {
          "output_type": "execute_result",
          "data": {
            "text/plain": [
              "Matrix([\n",
              "[ 6,  8],\n",
              "[10, 12]])"
            ],
            "text/latex": "$\\displaystyle \\left[\\begin{matrix}6 & 8\\\\10 & 12\\end{matrix}\\right]$"
          },
          "metadata": {},
          "execution_count": 2
        }
      ]
    },
    {
      "cell_type": "code",
      "source": [
        "# Exercise 2: Multiplication of a scalar and matrix\n",
        "import sympy as sp\n",
        "\n",
        "A=sp.Matrix([[4,2],[12,4]]) # define matrix A\n",
        "k=sp.Rational(1,4) # define scalar k\n",
        "A*k # multiply matrix A and scalar k\n"
      ],
      "metadata": {
        "colab": {
          "base_uri": "https://localhost:8080/",
          "height": 58
        },
        "id": "gJktELTQQ89u",
        "outputId": "b750e7c7-f840-405d-b0e6-844823f49313"
      },
      "execution_count": null,
      "outputs": [
        {
          "output_type": "execute_result",
          "data": {
            "text/plain": [
              "Matrix([\n",
              "[1, 1/2],\n",
              "[3,   1]])"
            ],
            "text/latex": "$\\displaystyle \\left[\\begin{matrix}1 & \\frac{1}{2}\\\\3 & 1\\end{matrix}\\right]$"
          },
          "metadata": {},
          "execution_count": 3
        }
      ]
    },
    {
      "cell_type": "markdown",
      "source": [
        "## Exercises for Students (old version)\n",
        "\n",
        "1. Calculate the sum of matrices $A=\\begin{bmatrix} 1 & 2 \\\\ 3 & 4 \\end{bmatrix}$ and $B=\\begin{bmatrix} 5 & 6 \\\\ 7 & 8 \\end{bmatrix}$.\n",
        "\n",
        "2. Calculate the product of matrix $A=\\begin{bmatrix} 4 & 2 \\\\ 12 & 4 \\end{bmatrix}$ and scalar $k=\\frac{1}{4}$.\n",
        "\n",
        "3. Calculate the products $A\\cdot B$ and $B \\cdot A$ for matrices $A=\\begin{bmatrix} 3 & 2 \\\\ 2 & 4 \\end{bmatrix}$ and $B=\\begin{bmatrix} 4 & 1 \\\\ 6 & 4 \\end{bmatrix}$."
      ],
      "metadata": {
        "id": "NBoWHUuefuLj"
      }
    },
    {
      "cell_type": "code",
      "source": [
        "import numpy as np\n",
        "\n",
        "c = np.array([[6,8],[10,12]])\n",
        "print(c)\n"
      ],
      "metadata": {
        "colab": {
          "base_uri": "https://localhost:8080/"
        },
        "id": "o4QMAYGcf5Lm",
        "outputId": "f5e6ca41-64e7-4e69-d5d8-75e63e263227"
      },
      "execution_count": null,
      "outputs": [
        {
          "output_type": "stream",
          "name": "stdout",
          "text": [
            "[[ 6  8]\n",
            " [10 12]]\n"
          ]
        }
      ]
    },
    {
      "cell_type": "code",
      "source": [
        "import sympy as sp\n",
        "A=sp.Matrix([[4,2],[12,4]])\n",
        "k=sp.Rational(1,4) # Represents 1\\4 as a rational number\n",
        "B=k*A\n",
        "print(B)\n"
      ],
      "metadata": {
        "colab": {
          "base_uri": "https://localhost:8080/"
        },
        "id": "LVOpRapjgRDL",
        "outputId": "6d0cd3d8-c402-482e-8fde-81cb99e2ef82"
      },
      "execution_count": null,
      "outputs": [
        {
          "output_type": "stream",
          "name": "stdout",
          "text": [
            "Matrix([[1, 1/2], [3, 1]])\n"
          ]
        }
      ]
    },
    {
      "cell_type": "code",
      "source": [
        "import numpy as np\n",
        "C=np.array([[24,11],[32,18]])\n",
        "D=np.array([[14,12],[26,28]])\n",
        "print(\"Matrix C:\")\n",
        "print(C)\n",
        "\n",
        "print(\"Matrix D:\")\n",
        "print(D)"
      ],
      "metadata": {
        "colab": {
          "base_uri": "https://localhost:8080/"
        },
        "id": "1NwSnQEKhEd4",
        "outputId": "e5fc8ca0-a75d-4a85-fcfc-54e9a843c0db"
      },
      "execution_count": null,
      "outputs": [
        {
          "output_type": "stream",
          "name": "stdout",
          "text": [
            "Matrix C:\n",
            "[[24 11]\n",
            " [32 18]]\n",
            "Matrix D:\n",
            "[[14 12]\n",
            " [26 28]]\n"
          ]
        }
      ]
    },
    {
      "cell_type": "markdown",
      "source": [
        "## Exercises for Students (new version)\n",
        "\n",
        "For follwing matrices\n",
        "\n",
        "$$\n",
        "\\mathbf{A}=\n",
        "\\begin{pmatrix}\n",
        "1 & 2 \\\\\n",
        "3 & 4\n",
        "\\end{pmatrix}\n",
        "\\qquad\n",
        "\\mathbf{B}=\n",
        "\\begin{pmatrix}\n",
        "5 & 6 \\\\\n",
        "7 & 8\n",
        "\\end{pmatrix}\n",
        "\\quad\n",
        "\\mathbf{C}=\n",
        "\\begin{pmatrix}\n",
        "-1 & 2 \\\\\n",
        "3 & 0\n",
        "\\end{pmatrix}\n",
        "\\qquad\n",
        "\\mathbf{D}=\n",
        "\\begin{pmatrix}\n",
        "-1 & 2 & 3 \\\\\n",
        "4 & 0 & 6\n",
        "\\end{pmatrix}\n",
        "\\qquad\n",
        "\\mathbf{E}=\n",
        "\\begin{pmatrix}\n",
        "1 & 2\\\\\n",
        "4 & 5\\\\\n",
        "7 & 8\n",
        "\\end{pmatrix}\n",
        "$$\n",
        "\n",
        "1. Calculate: $\\mathbf{A}+\\mathbf{B}$;  $\\mathbf{B}-\\mathbf{A}$;  $\\mathbf{A}+\\mathbf{C}$; $\\mathbf{D}+\\mathbf{E}$.\n",
        "\n",
        "2. Calculate $\\frac{1}{2}\\mathbf{A}$, $2\\mathbf{B}$, $-3\\mathbf{C}$, and $4\\mathbf{D}$.\n",
        "\n",
        "3. Calculate the products $\\mathbf{A}\\cdot \\mathbf{B}$; $\\mathbf{B} \\cdot \\mathbf{A}$; $\\mathbf{A} \\cdot \\mathbf{D}$; $\\mathbf{D} \\cdot \\mathbf{E}$."
      ],
      "metadata": {
        "id": "zbEyhK_UtICm"
      }
    },
    {
      "cell_type": "markdown",
      "source": [
        "1. a) $A+B=\\begin{bmatrix} 1+5 & 2+6 \\\\ 3+ 7& 4+ 8\\end{bmatrix}=\\begin{bmatrix} 6&8\\\\10&12\\end{bmatrix}$\n",
        "\n",
        "\n",
        "1. b) $B-A=\\begin{bmatrix} 5-1 & 6-2 \\\\ 7-3 & 8-4 \\end{bmatrix}=\\begin{bmatrix} 4&4 \\\\4&4\\end{bmatrix}$\n",
        "\n",
        "\n",
        "1. c) $A+C=\\begin{bmatrix} 1-1 & 2+2 \\\\ 3+3 & 4+0 \\end{bmatrix}=\\begin{bmatrix} 0&2\\\\6&4\\end{bmatrix}$\n",
        "\n",
        "\n",
        "1. d) D+E are not the same dimension, you can't add two matrices if they don't have the same dimension."
      ],
      "metadata": {
        "id": "zwKPnMr4tMCf"
      }
    },
    {
      "cell_type": "markdown",
      "source": [
        "2. a) $\\frac{1}{2}\\mathbf{A}=\\frac{1}{2} \\begin{pmatrix} 1&2 \\\\ 3&4 \\end{pmatrix}=\\begin{pmatrix} \\frac{1}{2}*1 & \\frac{1}{2}*2 \\\\ \\frac{1}{2}*3 & \\frac{1}{2}*4\\end{pmatrix}=\\begin{pmatrix} \\frac{1}{2} & 1\\\\ \\frac{3}{2} &2\\end{pmatrix}$\n",
        "\n",
        "\n",
        "2. b) $2B=2\\begin{pmatrix} 5&6\\\\7&8\\end{pmatrix}=\\begin{pmatrix} 2*5 & 2*6 \\\\ 2*7&2*8\\end{pmatrix}=\\begin{pmatrix} 10&12\\\\14&16\\end{pmatrix}$\n",
        "\n",
        "\n",
        "2. c) $-3C=-3\\begin{pmatrix} -1&2\\\\3&0\\end{pmatrix}=\\begin{pmatrix} (-3)*(-1) & (-3)*2\\\\ (-3)*3 & (-3)*0\\end{pmatrix}=\\begin{pmatrix} 3&-6\\\\ -9&0\\end{pmatrix}$\n",
        "\n",
        "\n",
        "2. d) $4B=4\\begin{pmatrix} -1&2&3\\\\4&0&6\\end{pmatrix}=\\begin{pmatrix}4*(-1)&4*2&4*3\\\\4*4&4*0&4*6\\end{pmatrix}=\\begin{pmatrix} -4&8&12\\\\16&0&24\\end{pmatrix}$\n"
      ],
      "metadata": {
        "id": "juIS3l-btUXk"
      }
    },
    {
      "cell_type": "markdown",
      "source": [
        "3. a) $A⋅B=\\begin{bmatrix} 1&2 \\\\ 3&4 \\end{bmatrix} ⋅\\begin{bmatrix} 5&6 \\\\ 7&8 \\end{bmatrix}= \\begin{bmatrix} 1*5 + 2*7 & 1*6 + 2*8\\\\ 3*5 + 4*7 & 3*6 + 4*8 \\end{bmatrix}=\\begin{bmatrix} 5+12 & 6+16 \\\\ 15+28 & 18+32 \\end{bmatrix}=\\begin{bmatrix} 17 & 22\\\\ 43 &50 \\end{bmatrix}$\n",
        "\n",
        "\n",
        "3. b) $B⋅A=\\begin{bmatrix} 5&6 \\\\ 7&8 \\end{bmatrix} ⋅\\begin{bmatrix} 1&2 \\\\ 3&4 \\end{bmatrix}=\\begin{bmatrix} 5*1 + 6*3 & 5*2 + 6*4 \\\\ 7*1 + 8*3 & 7*2 + 8*4 \\end{bmatrix}=\\begin{bmatrix} 5+18 & 10+24 \\\\ 7+24 & 14+32 \\end{bmatrix}=\\begin{bmatrix} 23 & 32 \\\\ 31 & 46\\end{bmatrix}$\n",
        "\n",
        "\n",
        "3. c)$A⋅D=\\begin{bmatrix} 1&2\\\\3&4\\end{bmatrix} ⋅\\begin{bmatrix} -1&2&3\\\\4&0&6\\end{bmatrix}=\\begin{bmatrix} 1*(-1)+2*4 & 1*2+2*0 & 1*3+2*6 \\\\3*(-1)+4*4 & 3*2+4*0 & 3*3+4*6\\end{bmatrix}=\\begin{bmatrix} (-1)+8 & 2+0 & 3+12\\\\(-3)+16&6+0&9+24\\end{bmatrix}=\\begin{bmatrix} 7&2&15\\\\13&6&33\\end{bmatrix}$\n",
        "\n",
        "\n",
        "3. d) $D⋅E=\\begin{bmatrix} -1&2&3\\\\4&0&6\\end{bmatrix}⋅\\begin{bmatrix} 1&2\\\\4&5\\\\7&8\\end{bmatrix}=\\begin{bmatrix} -1*1+2*4+3*7&-1*2+2*5+3*8\\\\4*1+0*4+6*7&4*2+0*5+6*8\\end{bmatrix}=\\begin{bmatrix} -1+8+21&-2+10+24\\\\4+0+42&8+0+48\\end{bmatrix}=\\begin{bmatrix} 28&32\\\\46&56\\end{bmatrix}$"
      ],
      "metadata": {
        "id": "HTIgxzkctY2u"
      }
    },
    {
      "cell_type": "markdown",
      "source": [
        "# Determinants of 2x2 and 3x3 matrices"
      ],
      "metadata": {
        "id": "UgkJJPjmt1lR"
      }
    },
    {
      "cell_type": "code",
      "source": [
        "# prompt: generate multiplication of general matrix 2x2 A  and B 2x2\n",
        "\n",
        "import sympy as sp\n",
        "import numpy as np\n",
        "a,b,c,d,e,f,g,h=sp.symbols('a,b,c,d,e,f,g,h')\n",
        "\n",
        "# Define matrices A and B\n",
        "A = sp.Matrix([[a, b], [c, d]])\n",
        "B = sp.Matrix([[e, f], [g, h]])\n",
        "\n",
        "# Calculate the matrix product A * B\n",
        "\n",
        "\n",
        "# Print the result\n",
        "print(\"Matrix A:\")\n",
        "print(A)\n",
        "\n",
        "print(\"\\nMatrix B:\")\n",
        "print(B)\n",
        "\n",
        "print(\"\\nMatrix Product A * B:\")\n",
        "print(C)\n",
        "\n",
        "C=A*B\n",
        "C"
      ],
      "metadata": {
        "colab": {
          "base_uri": "https://localhost:8080/",
          "height": 194
        },
        "id": "XFnhicpnlB-f",
        "outputId": "6e05f8e6-7eb4-4448-fe3f-9824e1a63e34"
      },
      "execution_count": null,
      "outputs": [
        {
          "output_type": "stream",
          "name": "stdout",
          "text": [
            "Matrix A:\n",
            "Matrix([[a, b], [c, d]])\n",
            "\n",
            "Matrix B:\n",
            "Matrix([[e, f], [g, h]])\n",
            "\n",
            "Matrix Product A * B:\n",
            "Matrix([[a*e + b*g, a*f + b*h], [c*e + d*g, c*f + d*h]])\n"
          ]
        },
        {
          "output_type": "execute_result",
          "data": {
            "text/plain": [
              "Matrix([\n",
              "[a*e + b*g, a*f + b*h],\n",
              "[c*e + d*g, c*f + d*h]])"
            ],
            "text/latex": "$\\displaystyle \\left[\\begin{matrix}a e + b g & a f + b h\\\\c e + d g & c f + d h\\end{matrix}\\right]$"
          },
          "metadata": {},
          "execution_count": 9
        }
      ]
    },
    {
      "cell_type": "code",
      "source": [
        "# prompt: generate multiplication of general matrix 2x2 A  and B 2x2\n",
        "\n",
        "import sympy as sp\n",
        "import numpy as np\n",
        "\n",
        "# Define matrices A and B\n",
        "A = sp.Matrix([[3,2 ], [2, 4]])\n",
        "B = sp.Matrix([[4,1 ], [6,4 ]])\n",
        "\n",
        "# Calculate the matrix product A * B\n",
        "\n",
        "\n",
        "# Print the result\n",
        "print(\"Matrix A:\")\n",
        "print(A)\n",
        "\n",
        "print(\"\\nMatrix B:\")\n",
        "print(B)\n",
        "\n",
        "print(\"\\nMatrix Product A * B:\")\n",
        "print(C)\n",
        "\n",
        "C=A*B\n",
        "C"
      ],
      "metadata": {
        "colab": {
          "base_uri": "https://localhost:8080/",
          "height": 194
        },
        "id": "8po0LqQllsRL",
        "outputId": "c29c2e0f-6976-404c-a9d3-9d307ab287d9"
      },
      "execution_count": null,
      "outputs": [
        {
          "output_type": "stream",
          "name": "stdout",
          "text": [
            "Matrix A:\n",
            "Matrix([[3, 2], [2, 4]])\n",
            "\n",
            "Matrix B:\n",
            "Matrix([[4, 1], [6, 4]])\n",
            "\n",
            "Matrix Product A * B:\n",
            "Matrix([[a*e + b*g, a*f + b*h], [c*e + d*g, c*f + d*h]])\n"
          ]
        },
        {
          "output_type": "execute_result",
          "data": {
            "text/plain": [
              "Matrix([\n",
              "[24, 11],\n",
              "[32, 18]])"
            ],
            "text/latex": "$\\displaystyle \\left[\\begin{matrix}24 & 11\\\\32 & 18\\end{matrix}\\right]$"
          },
          "metadata": {},
          "execution_count": 10
        }
      ]
    },
    {
      "cell_type": "markdown",
      "source": [
        "---\n",
        "\n",
        "## Exercises for Students\n",
        "\n",
        "Calculate the determinants for the 2x2 and 3x3 matrices given below.\n",
        "\n",
        "1. 2x2 Matrices:\n",
        "\n",
        "$$\n",
        "\\mathbf{A} =\n",
        "\\begin{pmatrix}\n",
        "2 & 3 \\\\\n",
        "1 & 4\n",
        "\\end{pmatrix}\n",
        ", \\qquad\n",
        "\\mathbf{B} =\n",
        "\\begin{pmatrix}\n",
        "5 & 6 \\\\\n",
        "7 & 8\n",
        "\\end{pmatrix}\n",
        ", \\qquad\n",
        "\\mathbf{C} =\n",
        "\\begin{pmatrix}\n",
        "-1 & 2 \\\\\n",
        "3 & 0\n",
        "\\end{pmatrix}\n",
        "$$\n",
        "\n",
        "2. 3x3 Matrices:\n",
        "\n",
        "\n",
        "$$\n",
        "\\mathbf{D} =\n",
        "\\begin{pmatrix}\n",
        "1 & 0 & 2 \\\\\n",
        "-1 & 3 & 1 \\\\\n",
        "2 & 4 & -2\n",
        "\\end{pmatrix}\n",
        ", \\qquad\n",
        "\\mathbf{E} =\n",
        "\\begin{pmatrix}\n",
        "3 & 1 & -1 \\\\\n",
        "0 & 2 & 4 \\\\\n",
        "5 & 3 & 2\n",
        "\\end{pmatrix}\n",
        ", \\qquad\n",
        "\\mathbf{F} =\n",
        "\\begin{pmatrix}\n",
        "2 & -3 & 1 \\\\\n",
        "1 & 4 & -2 \\\\\n",
        "1 & 5 & 3\n",
        "\\end{pmatrix}\n",
        "$$"
      ],
      "metadata": {
        "id": "yP0IkxPG5oSH"
      }
    },
    {
      "cell_type": "markdown",
      "source": [
        "$\\mathbf{det}(A)=2⋅4-1⋅3=8-3=5$"
      ],
      "metadata": {
        "id": "Lqw1Y4xjh7Vi"
      }
    },
    {
      "cell_type": "code",
      "source": [
        "import sympy as sp\n",
        "A=sp.Matrix([[2,3],[1,4]])\n",
        "print(sp.det(A))\n",
        "\n",
        "print(2*4-1*3)\n"
      ],
      "metadata": {
        "id": "hf7CIzXso9VX",
        "colab": {
          "base_uri": "https://localhost:8080/"
        },
        "outputId": "b804328c-02eb-4d25-a8c9-0a999868dc07"
      },
      "execution_count": null,
      "outputs": [
        {
          "output_type": "stream",
          "name": "stdout",
          "text": [
            "5\n",
            "5\n"
          ]
        }
      ]
    },
    {
      "cell_type": "markdown",
      "source": [
        "$\\mathbf{det}(B)=5⋅8-7⋅6=40-42=-2$"
      ],
      "metadata": {
        "id": "JdHfWFZOiCKU"
      }
    },
    {
      "cell_type": "code",
      "source": [
        "import sympy as sp\n",
        "B=sp.Matrix([[5,6],[7,8]])\n",
        "print(sp.det(B))\n",
        "\n",
        "print(5*8-7*6)"
      ],
      "metadata": {
        "colab": {
          "base_uri": "https://localhost:8080/"
        },
        "id": "tT6STubi54Vi",
        "outputId": "59bb3ff7-14bb-44fa-9c71-9ef17d22df86"
      },
      "execution_count": null,
      "outputs": [
        {
          "output_type": "stream",
          "name": "stdout",
          "text": [
            "-2\n",
            "-2\n"
          ]
        }
      ]
    },
    {
      "cell_type": "markdown",
      "source": [
        "$\\mathbf{det}(C)=-1⋅0-3⋅2=0-6=-6$"
      ],
      "metadata": {
        "id": "_V8EaJJsiFMx"
      }
    },
    {
      "cell_type": "code",
      "source": [
        "import sympy as sp\n",
        "C=sp.Matrix([[-1,2],[3,0]])\n",
        "print(sp.det(C))\n",
        "\n",
        "print((-1)*0-3*2)"
      ],
      "metadata": {
        "colab": {
          "base_uri": "https://localhost:8080/"
        },
        "id": "Jbh0wBnD58-N",
        "outputId": "6f39ea42-4667-4201-fc8e-f3bd8c976246"
      },
      "execution_count": null,
      "outputs": [
        {
          "output_type": "stream",
          "name": "stdout",
          "text": [
            "-6\n",
            "-6\n"
          ]
        }
      ]
    },
    {
      "cell_type": "markdown",
      "source": [
        "$\\mathbf{det}(D)=1⋅3⋅-2+0⋅1⋅2+2⋅-1⋅4-2⋅3⋅2-4⋅1⋅1-(-2)⋅(-1)⋅0=-6+0-8-12-4-0=-30$"
      ],
      "metadata": {
        "id": "Aor5XWrAiJAh"
      }
    },
    {
      "cell_type": "code",
      "source": [
        "import sympy as sp\n",
        "\n",
        "D =sp.Matrix([[1,0,2],[-1,3,1],[2,4,-2]])\n",
        "print(sp.det(D))\n",
        "\n",
        "print(1*3*-2+0*1*2+2*-1*4-2*3*2-4*1*1-(-2)*(-1)*0)"
      ],
      "metadata": {
        "colab": {
          "base_uri": "https://localhost:8080/"
        },
        "id": "1Q_Ol5jm5_sO",
        "outputId": "9dcbeaaf-6c9a-4d03-87c5-6826100e935f"
      },
      "execution_count": null,
      "outputs": [
        {
          "output_type": "stream",
          "name": "stdout",
          "text": [
            "-30\n",
            "-30\n"
          ]
        }
      ]
    },
    {
      "cell_type": "markdown",
      "source": [
        "$\\mathbf{det}(E)=3⋅2⋅3+1⋅4⋅5+(-1)⋅0⋅3-5⋅2⋅(-1)-3⋅4⋅3-2⋅0⋅1=12+20-0+10-36-0=6$"
      ],
      "metadata": {
        "id": "uwUnK9qAiPIV"
      }
    },
    {
      "cell_type": "code",
      "source": [
        "import sympy as sp\n",
        "E=sp.Matrix([[3,1,-1],[0,2,4],[5,3,2]])\n",
        "print(sp.det(E))\n",
        "\n",
        "print(3*2*2+1*4*5+(-1)*0*3-5*2*(-1)-3*4*3-2*0*1)"
      ],
      "metadata": {
        "colab": {
          "base_uri": "https://localhost:8080/"
        },
        "id": "cH3igGTn6taH",
        "outputId": "fc258434-8c8b-4c0a-c2d3-658f3265cea5"
      },
      "execution_count": null,
      "outputs": [
        {
          "output_type": "stream",
          "name": "stdout",
          "text": [
            "6\n",
            "6\n"
          ]
        }
      ]
    },
    {
      "cell_type": "markdown",
      "source": [
        "$\\mathbf{det}(F)=2⋅4⋅3+(-3)⋅(-2)⋅1+1⋅1⋅5-1⋅4⋅1-5⋅(-2)⋅2-3⋅1⋅(-3)=24+6+5-4+20+9=60$"
      ],
      "metadata": {
        "id": "E6Eb8bpjiQBc"
      }
    },
    {
      "cell_type": "code",
      "source": [
        "import sympy as sp\n",
        "F=sp.Matrix([[2,-3,1],[1,4,-2],[1,5,3]])\n",
        "print(sp.det(F))\n",
        "\n",
        "print(2*4*3+(-3)*(-2)*1+1*1*5-1*4*1-5*(-2)*2-3*1*(-3))"
      ],
      "metadata": {
        "colab": {
          "base_uri": "https://localhost:8080/"
        },
        "id": "eSzP0oTz6uSn",
        "outputId": "558b8bc3-7b9e-4a93-e13d-336f3aa7087c"
      },
      "execution_count": null,
      "outputs": [
        {
          "output_type": "stream",
          "name": "stdout",
          "text": [
            "60\n",
            "60\n"
          ]
        }
      ]
    },
    {
      "cell_type": "markdown",
      "source": [
        "# # Determinants of 3x3 and 4x4 Matrices using Laplace expansion"
      ],
      "metadata": {
        "id": "Ke77T_6muRmj"
      }
    },
    {
      "cell_type": "markdown",
      "source": [
        "## Determinant of a 3x3 Matrix using Laplace expansion\n",
        "\n",
        "The general formula for the determinant of a 3x3 matrix is as follows:\n",
        "\n",
        "$$\n",
        "\\mathbf{A} =\n",
        "\\begin{pmatrix}\n",
        "a_{11} & a_{12} & a_{13} \\\\\n",
        "a_{21} & a_{22} & a_{23} \\\\\n",
        "a_{31} & a_{32} & a_{33}\n",
        "\\end{pmatrix}\n",
        "$$\n",
        "\n",
        "The determinant of a 3x3 matrix is calculated by expanding along the first row. We use Laplace expansion, which involves selecting elements of the first row and calculating the determinants of the 2x2 matrices that result from removing the appropriate rows and columns.\n",
        "\n",
        "Expanding along the first row of a 3x3 matrix:\n",
        "\n",
        "$$\n",
        "\\text{det}(A) =\n",
        "(-1)^{1+1}a_{11} \\cdot\n",
        "\\text{det}\n",
        "\\begin{pmatrix}\n",
        "a_{22} & a_{23} \\\\\n",
        "a_{32} & a_{33}\n",
        "\\end{pmatrix}\n",
        "+(-1)^{1+2} a_{12} \\cdot \\text{det}\n",
        "\\begin{pmatrix}\n",
        "a_{21} & a_{23} \\\\\n",
        "a_{31} & a_{33}\n",
        "\\end{pmatrix}\n",
        "+(-1)^{1+3}a_{13} \\cdot \\text{det}\n",
        "\\begin{pmatrix}\n",
        "a_{21} & a_{22} \\\\\n",
        "a_{31} & a_{32}\n",
        "\\end{pmatrix}\n",
        "$$\n",
        "\n",
        "### Example of a 3x3 Matrix\n",
        "\n",
        "For the matrix:\n",
        "\n",
        "$$\n",
        "\\mathbf{A} =\n",
        "\\begin{pmatrix}\n",
        "2 & 3 & 1 \\\\\n",
        "1 & 4 & 5 \\\\\n",
        "3 & 2 & 1\n",
        "\\end{pmatrix}\n",
        "$$\n",
        "\n",
        "Laplace expansion:\n",
        "\n",
        "$$\n",
        "\\text{det}(A) = 2 \\cdot\n",
        "\\text{det}\n",
        "\\begin{pmatrix}\n",
        "4 & 5 \\\\\n",
        "2 & 1\n",
        "\\end{pmatrix}\n",
        "- 3 \\cdot\n",
        "\\text{det}\n",
        "\\begin{pmatrix}\n",
        "1 & 5 \\\\\n",
        "3 & 1\n",
        "\\end{pmatrix}\n",
        "+ 1 \\cdot\n",
        "\\text{det}\n",
        "\\begin{pmatrix}\n",
        "1 & 4 \\\\\n",
        "3 & 2\n",
        "\\end{pmatrix}\n",
        "$$\n"
      ],
      "metadata": {
        "id": "2LYm4X9vuYG2"
      }
    },
    {
      "cell_type": "markdown",
      "source": [
        "## Determinant of a 4x4 Matrix using Laplace Expansion\n",
        "\n",
        "The general formula for the determinant of a 4x4 matrix, where the matrix looks as follows:\n",
        "\n",
        "$$\n",
        "\\mathbf{B} =\n",
        "\\begin{pmatrix}\n",
        "a_{11} & a_{12} & a_{13} & a_{14} \\\\\n",
        "a_{21} & a_{22} & a_{23} & a_{24} \\\\\n",
        "a_{31} & a_{32} & a_{33} & a_{34} \\\\\n",
        "a_{41} & a_{42} & a_{43} & a_{44}\n",
        "\\end{pmatrix}\n",
        "$$\n",
        "\n",
        "The determinant of a 4x4 matrix is calculated by expanding along the first row. Similar to the 3x3 case, elements of the first row are multiplied by the determinants of the 3x3 matrices that result from removing the appropriate rows and columns.\n",
        "\n",
        "Expanding along the first row of a 4x4 matrix:\n",
        "\n",
        "$$\n",
        "\\text{det}(B) =\n",
        "(-1)^{1+1} \\cdot\n",
        "a_{11} \\cdot \\text{det}\n",
        "\\begin{pmatrix}\n",
        "a_{22} & a_{23} & a_{24} \\\\\n",
        "a_{32} & a_{33} & a_{34} \\\\\n",
        "a_{42} & a_{43} & a_{44}\n",
        "\\end{pmatrix}\n",
        "+ (-1)^{1+2} \\cdot\n",
        "a_{12} \\cdot \\text{det}\n",
        "\\begin{pmatrix}\n",
        "a_{21} & a_{23} & a_{24} \\\\\n",
        "a_{31} & a_{33} & a_{34} \\\\\n",
        "a_{41} & a_{43} & a_{44}\n",
        "\\end{pmatrix}\n",
        "+ (-1)^{1+3} \\cdot\n",
        "a_{13} \\cdot \\text{det}\n",
        "\\begin{pmatrix}\n",
        "a_{21} & a_{22} & a_{24} \\\\\n",
        "a_{31} & a_{32} & a_{34} \\\\\n",
        "a_{41} & a_{42} & a_{44}\n",
        "\\end{pmatrix}\n",
        "+ (-1)^{1+4} \\cdot\n",
        "a_{14} \\cdot \\text{det}\n",
        "\\begin{pmatrix}\n",
        "a_{21} & a_{22} & a_{23} \\\\\n",
        "a_{31} & a_{32} & a_{33} \\\\\n",
        "a_{41} & a_{42} & a_{43}\n",
        "\\end{pmatrix}\n",
        "$$\n",
        "\n",
        "### Example of a 4x4 Matrix\n",
        "\n",
        "For the matrix:\n",
        "\n",
        "$$\n",
        "\\mathbf{B} =\n",
        "\\begin{pmatrix}\n",
        "2 & 3 & 1 & 4 \\\\\n",
        "1 & 4 & 5 & 6 \\\\\n",
        "3 & 2 & 1 & 5 \\\\\n",
        "2 & 1 & 4 & 3\n",
        "\\end{pmatrix}\n",
        "$$\n",
        "\n",
        "Laplace expansion:$$\n",
        "\\text{det}(B) = 2 \\cdot \\text{det}\n",
        "\\begin{pmatrix}\n",
        "4 & 5 & 6 \\\\\n",
        "2 & 1 & 5 \\\\\n",
        "1 & 4 & 3\n",
        "\\end{pmatrix}\n",
        "- 3 \\cdot \\text{det}\n",
        "\\begin{pmatrix}\n",
        "1 & 5 & 6 \\\\\n",
        "3 & 1 & 5 \\\\\n",
        "2 & 4 & 3\n",
        "\\end{pmatrix}\n",
        "+ 1 \\cdot \\text{det}\n",
        "\\begin{pmatrix}\n",
        "1 & 4 & 6 \\\\\n",
        "3 & 2 & 5 \\\\\n",
        "2 & 1 & 3\n",
        "\\end{pmatrix}\n",
        "- 4 \\cdot \\text{det}\n",
        "\\begin{pmatrix}\n",
        "1 & 4 & 5 \\\\\n",
        "3 & 2 & 1 \\\\\n",
        "2 & 1 & 4\n",
        "\\end{pmatrix}\n",
        "$$\n",
        "\n",
        "### Calculating Determinants in Python using SymPy\n",
        "\n",
        "Below we will calculate the determinants of 3x3 and 4x4 matrices using Laplace expansion in Python, using the **SymPy** library."
      ],
      "metadata": {
        "id": "3jd7dnKtuxz_"
      }
    },
    {
      "cell_type": "code",
      "source": [
        "import sympy as sp\n",
        "\n",
        "#3x3 Matrix\n",
        "A=sp.Matrix([[2,3,1],[1,4,5],[3,2,1]])\n"
      ],
      "metadata": {
        "id": "S7q5alZXvIYF"
      },
      "execution_count": null,
      "outputs": []
    },
    {
      "cell_type": "code",
      "source": [
        "A"
      ],
      "metadata": {
        "colab": {
          "base_uri": "https://localhost:8080/",
          "height": 78
        },
        "id": "8XyZhiSGwNxx",
        "outputId": "c611a1e6-e61f-448c-d780-93f3496fbdef"
      },
      "execution_count": null,
      "outputs": [
        {
          "output_type": "execute_result",
          "data": {
            "text/plain": [
              "Matrix([\n",
              "[2, 3, 1],\n",
              "[1, 4, 5],\n",
              "[3, 2, 1]])"
            ],
            "text/latex": "$\\displaystyle \\left[\\begin{matrix}2 & 3 & 1\\\\1 & 4 & 5\\\\3 & 2 & 1\\end{matrix}\\right]$"
          },
          "metadata": {},
          "execution_count": 13
        }
      ]
    },
    {
      "cell_type": "code",
      "source": [
        "# Select the first row [2,3,1]\n",
        "# Define the appropriate minors\n",
        "M11=sp.det(sp.Matrix([[4,5],[2,1]]))\n",
        "M12=sp.det(sp.Matrix([[1,5],[3,1]]))\n",
        "M13=sp.det(sp.Matrix([[1,4],[3,2]]))\n",
        "\n",
        "# Calculate the determinant\n",
        "d=2*M11-3*M12+1*M13\n",
        "d"
      ],
      "metadata": {
        "colab": {
          "base_uri": "https://localhost:8080/",
          "height": 37
        },
        "id": "4BlegXyMwj9v",
        "outputId": "6b6e60b4-a18b-404a-cda3-51fdc27833be"
      },
      "execution_count": null,
      "outputs": [
        {
          "output_type": "execute_result",
          "data": {
            "text/plain": [
              "20"
            ],
            "text/latex": "$\\displaystyle 20$"
          },
          "metadata": {},
          "execution_count": 15
        }
      ]
    },
    {
      "cell_type": "code",
      "source": [
        "sp.det(A)"
      ],
      "metadata": {
        "colab": {
          "base_uri": "https://localhost:8080/",
          "height": 37
        },
        "id": "jhl9EXBnyrg1",
        "outputId": "9677e7d8-02ec-4160-8da9-4b007b4f692b"
      },
      "execution_count": null,
      "outputs": [
        {
          "output_type": "execute_result",
          "data": {
            "text/plain": [
              "20"
            ],
            "text/latex": "$\\displaystyle 20$"
          },
          "metadata": {},
          "execution_count": 17
        }
      ]
    },
    {
      "cell_type": "code",
      "source": [
        "d == A.det()"
      ],
      "metadata": {
        "colab": {
          "base_uri": "https://localhost:8080/"
        },
        "id": "CO1d_FHFy7WM",
        "outputId": "8fae1c77-d9cf-4836-b0cd-6a1d63a90a48"
      },
      "execution_count": null,
      "outputs": [
        {
          "output_type": "execute_result",
          "data": {
            "text/plain": [
              "True"
            ]
          },
          "metadata": {},
          "execution_count": 18
        }
      ]
    },
    {
      "cell_type": "code",
      "source": [
        "# 4x4 Matrix\n",
        "B=sp.Matrix([[2,3,1,4],[1,4,5,6],[3,2,1,5],[2,1,4,3]])\n",
        "B"
      ],
      "metadata": {
        "colab": {
          "base_uri": "https://localhost:8080/",
          "height": 98
        },
        "id": "Gvo9tBM8zBjz",
        "outputId": "c6013a38-1147-43c3-ca69-01db32312ffa"
      },
      "execution_count": null,
      "outputs": [
        {
          "output_type": "execute_result",
          "data": {
            "text/plain": [
              "Matrix([\n",
              "[2, 3, 1, 4],\n",
              "[1, 4, 5, 6],\n",
              "[3, 2, 1, 5],\n",
              "[2, 1, 4, 3]])"
            ],
            "text/latex": "$\\displaystyle \\left[\\begin{matrix}2 & 3 & 1 & 4\\\\1 & 4 & 5 & 6\\\\3 & 2 & 1 & 5\\\\2 & 1 & 4 & 3\\end{matrix}\\right]$"
          },
          "metadata": {},
          "execution_count": 19
        }
      ]
    },
    {
      "cell_type": "code",
      "source": [
        "# Verify correctness of the calculation\n",
        "M11=sp.Matrix([[4,5,6],[2,1,5],[1,4,3]])\n",
        "M12=sp.Matrix([[1,5,6],[3,1,5],[2,4,3]])\n",
        "M13=sp.Matrix([[1,4,6],[3,2,5],[2,1,3]])\n",
        "M14=sp.Matrix([[1,4,5],[3,2,1],[2,1,4]])\n",
        "\n",
        "(2*M11.det()-3*M12.det()+1*M13.det()-4*M14.det())==B.det()\n",
        "\n",
        "d=2*M11.det()-3*M12.det()+1*M13.det()-4*M14.det()\n",
        "d"
      ],
      "metadata": {
        "colab": {
          "base_uri": "https://localhost:8080/",
          "height": 37
        },
        "id": "gz7UBQvEzS7C",
        "outputId": "2e80e660-43fd-4224-a053-db15eeee2663"
      },
      "execution_count": null,
      "outputs": [
        {
          "output_type": "execute_result",
          "data": {
            "text/plain": [
              "-55"
            ],
            "text/latex": "$\\displaystyle -55$"
          },
          "metadata": {},
          "execution_count": 21
        }
      ]
    },
    {
      "cell_type": "code",
      "source": [
        "d==B.det()"
      ],
      "metadata": {
        "colab": {
          "base_uri": "https://localhost:8080/"
        },
        "id": "TLiTf9sL1P9-",
        "outputId": "154b8d76-7112-4fad-d991-16ff48cccbeb"
      },
      "execution_count": null,
      "outputs": [
        {
          "output_type": "execute_result",
          "data": {
            "text/plain": [
              "True"
            ]
          },
          "metadata": {},
          "execution_count": 22
        }
      ]
    },
    {
      "cell_type": "markdown",
      "source": [
        "Note that only the first and third terms have non-zero coefficients, so it is not necessary to calculate the determinants of all minors!\n",
        "\n",
        "---\n",
        "\n",
        "## Exercises for Students\n",
        "\n",
        "Calculate the determinants of the following matrices:\n",
        "\n",
        "$$\n",
        "\\mathbf{A} =\n",
        "\\begin{pmatrix}\n",
        "2 & 3 & 1 \\\\\n",
        "1 & 4 & 0 \\\\\n",
        "3 & 2 & 1\n",
        "\\end{pmatrix}\n",
        ",\\qquad\n",
        "\\mathbf{B} =\n",
        "\\begin{pmatrix}\n",
        "2 & 3 & 1 \\\\\n",
        "1 & 4 & 0 \\\\\n",
        "3 & 2 & 0  \\\\\n",
        "\\end{pmatrix}\n",
        ",\\qquad\n",
        "\\mathbf{C} =\n",
        "\\begin{pmatrix}\n",
        "2 & 3 & 1 & 4 \\\\\n",
        "1 & 0 & 0 & 6 \\\\\n",
        "3 & 2 & 1 & 5 \\\\\n",
        "2 & 1 & 4 & 0\n",
        "\\end{pmatrix}\n",
        ",\\qquad\n",
        "\\mathbf{D} =\n",
        "\\begin{pmatrix}\n",
        "2 & 3 & 1 & 4 & 5 \\\\\n",
        "1 & 4 & 0 & 0 & 7 \\\\\n",
        "3 & 0 & 0 & 0 & 0 \\\\\n",
        "2 & 1 & 4 & 3 & 2 \\\\\n",
        "1 & 2 & 3 & 4 & 5\n",
        "\\end{pmatrix}\n",
        "$$"
      ],
      "metadata": {
        "id": "VbcAAUVu1cuj"
      }
    },
    {
      "cell_type": "markdown",
      "source": [
        "###A"
      ],
      "metadata": {
        "id": "UEdm7UBeTaDL"
      }
    },
    {
      "cell_type": "code",
      "source": [
        "import sympy as sp\n",
        "A=sp.Matrix([[2,3,1],[1,4,0],[3,2,1]])\n",
        "\n",
        "M11=sp.Matrix([[4,0],[2,1]])\n",
        "M12=sp.Matrix([[1,0],[3,1]])\n",
        "M13=sp.Matrix([[1,4],[3,2]])\n",
        "\n",
        "d=(2*M11.det()-3*M12.det()+1*M13.det())\n",
        "d"
      ],
      "metadata": {
        "colab": {
          "base_uri": "https://localhost:8080/",
          "height": 37
        },
        "id": "0PaYV9rATaef",
        "outputId": "99b102df-b319-41ee-91df-a965e22e4abc"
      },
      "execution_count": 1,
      "outputs": [
        {
          "output_type": "execute_result",
          "data": {
            "text/plain": [
              "-5"
            ],
            "text/latex": "$\\displaystyle -5$"
          },
          "metadata": {},
          "execution_count": 1
        }
      ]
    },
    {
      "cell_type": "code",
      "source": [
        "d==A.det()"
      ],
      "metadata": {
        "colab": {
          "base_uri": "https://localhost:8080/"
        },
        "id": "QOvqoANDUfZH",
        "outputId": "df408053-0b48-4e37-9fba-77937f2541e9"
      },
      "execution_count": 2,
      "outputs": [
        {
          "output_type": "execute_result",
          "data": {
            "text/plain": [
              "True"
            ]
          },
          "metadata": {},
          "execution_count": 2
        }
      ]
    },
    {
      "cell_type": "markdown",
      "source": [],
      "metadata": {
        "id": "GsNcl7D1Ue4l"
      }
    },
    {
      "cell_type": "markdown",
      "source": [
        "###B"
      ],
      "metadata": {
        "id": "D0heRYViBB3c"
      }
    },
    {
      "cell_type": "code",
      "source": [
        "import sympy as sp\n",
        "B=sp.Matrix([[2,3,1],[1,4,0],[3,2,0]])\n",
        "\n",
        "M11=sp.Matrix([[4,0],[2,0]])\n",
        "M12=sp.Matrix([[1,0],[3,0]])\n",
        "M13=sp.Matrix([[1,4],[3,2]])\n",
        "\n",
        "d=(2*M11.det()-3*M12.det()+1*M13.det())\n",
        "d\n"
      ],
      "metadata": {
        "colab": {
          "base_uri": "https://localhost:8080/",
          "height": 37
        },
        "id": "foHdLc091f-m",
        "outputId": "01f6fd92-4e6c-4f70-feec-b9094d64de2e"
      },
      "execution_count": 3,
      "outputs": [
        {
          "output_type": "execute_result",
          "data": {
            "text/plain": [
              "-10"
            ],
            "text/latex": "$\\displaystyle -10$"
          },
          "metadata": {},
          "execution_count": 3
        }
      ]
    },
    {
      "cell_type": "markdown",
      "source": [
        "extra information"
      ],
      "metadata": {
        "id": "ydtowArVAnPU"
      }
    },
    {
      "cell_type": "code",
      "source": [
        "detvalue=1*(-10)-0+0\n"
      ],
      "metadata": {
        "id": "mIw7-A039yQC"
      },
      "execution_count": null,
      "outputs": []
    },
    {
      "cell_type": "code",
      "source": [
        "B.det()"
      ],
      "metadata": {
        "colab": {
          "base_uri": "https://localhost:8080/",
          "height": 37
        },
        "id": "tUuPfLWFANQi",
        "outputId": "69af8d96-ea14-488e-868b-207e8c036e1e"
      },
      "execution_count": null,
      "outputs": [
        {
          "output_type": "execute_result",
          "data": {
            "text/plain": [
              "-10"
            ],
            "text/latex": "$\\displaystyle -10$"
          },
          "metadata": {},
          "execution_count": 38
        }
      ]
    },
    {
      "cell_type": "code",
      "source": [
        "d==B.det()"
      ],
      "metadata": {
        "colab": {
          "base_uri": "https://localhost:8080/"
        },
        "id": "EDzqGs2P7WNv",
        "outputId": "117360c4-e1e5-4597-a123-94474833e6d9"
      },
      "execution_count": null,
      "outputs": [
        {
          "output_type": "execute_result",
          "data": {
            "text/plain": [
              "True"
            ]
          },
          "metadata": {},
          "execution_count": 26
        }
      ]
    },
    {
      "cell_type": "markdown",
      "source": [
        "###C"
      ],
      "metadata": {
        "id": "shIwixw3AwJ1"
      }
    },
    {
      "cell_type": "code",
      "source": [
        "import sympy as sp\n",
        "C=sp.Matrix([[2,3,1,4],[1,0,0,6],[3,2,1,5],[2,1,4,0]])\n",
        "\n",
        "M11=sp.Matrix([[0,0,6],[2,1,5],[1,4,0]])\n",
        "M12=sp.Matrix([[1,0,6],[3,1,5],[2,4,0]])\n",
        "M13=sp.Matrix([[1,0,6],[3,2,5],[2,1,0]])\n",
        "M14=sp.Matrix([[1,0,0],[3,2,1],[2,1,4]])\n",
        "\n",
        "d=(2*M11.det()-3*M12.det()+1*M13.det()-4*M14.det())\n",
        "d"
      ],
      "metadata": {
        "colab": {
          "base_uri": "https://localhost:8080/",
          "height": 37
        },
        "id": "lSWIy6lR7rIU",
        "outputId": "2eef47a3-1440-469b-d1cc-f1575938f38e"
      },
      "execution_count": 4,
      "outputs": [
        {
          "output_type": "execute_result",
          "data": {
            "text/plain": [
              "-75"
            ],
            "text/latex": "$\\displaystyle -75$"
          },
          "metadata": {},
          "execution_count": 4
        }
      ]
    },
    {
      "cell_type": "code",
      "source": [
        "d==C.det()"
      ],
      "metadata": {
        "colab": {
          "base_uri": "https://localhost:8080/"
        },
        "id": "ow2c4O-M8_hI",
        "outputId": "fb5212f0-a2ca-4b8e-e7a5-b9bbe7428e53"
      },
      "execution_count": null,
      "outputs": [
        {
          "output_type": "execute_result",
          "data": {
            "text/plain": [
              "True"
            ]
          },
          "metadata": {},
          "execution_count": 29
        }
      ]
    },
    {
      "cell_type": "markdown",
      "source": [
        "### D"
      ],
      "metadata": {
        "id": "inTPbPbZA_us"
      }
    },
    {
      "cell_type": "code",
      "source": [],
      "metadata": {
        "id": "Ee5N-BcT9hgJ"
      },
      "execution_count": 4,
      "outputs": []
    }
  ]
}