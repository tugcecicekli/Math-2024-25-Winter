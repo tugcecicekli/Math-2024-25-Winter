{
  "nbformat": 4,
  "nbformat_minor": 0,
  "metadata": {
    "colab": {
      "provenance": [],
      "toc_visible": true,
      "authorship_tag": "ABX9TyMKM0kWogJEpSTzEaOzeVKY",
      "include_colab_link": true
    },
    "kernelspec": {
      "name": "python3",
      "display_name": "Python 3"
    },
    "language_info": {
      "name": "python"
    }
  },
  "cells": [
    {
      "cell_type": "markdown",
      "metadata": {
        "id": "view-in-github",
        "colab_type": "text"
      },
      "source": [
        "<a href=\"https://colab.research.google.com/github/tugcecicekli/Math-2024-25-Winter/blob/main/Analytic_Geometry.ipynb\" target=\"_parent\"><img src=\"https://colab.research.google.com/assets/colab-badge.svg\" alt=\"Open In Colab\"/></a>"
      ]
    },
    {
      "cell_type": "markdown",
      "source": [
        "#Introduction\n",
        "The branch of mathematics where algebraic methods are employed for solving problems in geometry is known as **analytical geometry**. It is sometimes called **Cartesian Geometry.**\n",
        "Here are some concise notes on **Analytic Geometry**:\n",
        "\n",
        "---\n",
        "\n",
        "1. **Coordinate Systems**  \n",
        "   - **Cartesian Plane**: A two-dimensional plane defined by an x-axis (horizontal) and y-axis (vertical).\n",
        "   - Points are represented as $((x, y))$.\n",
        "\n",
        "2. **Distance Formula**  \n",
        "   - The distance $(d)$ between two points $((x_1, y_1))$ and $((x_2, y_2)$):  \n",
        "     $$d = \\sqrt{(x_2 - x_1)^2 + (y_2 - y_1)^2}$$\n",
        "\n",
        "3. **Midpoint Formula**  \n",
        "   - The midpoint $(M)$ of a line segment with endpoints $((x_1, y_1))$ an\n",
        "   $((x_2, y_2))$:  \n",
        "     $$M = \\left(\\frac{x_1 + x_2}{2}, \\frac{y_1 + y_2}{2}\\right)$$\n",
        "\n",
        "4. **Slope of a Line**  \n",
        "   - The slope $(m)$ of a line passing through points $((x_1, y_1))$ and $((x_2, y_2))$:  \n",
        "     $$m = \\frac{y_2 - y_1}{x_2 - x_1}$$\n",
        "   - **Horizontal line**: $(m = 0)$  \n",
        "   - **Vertical line**: $(m)$ is undefined.\n",
        "\n",
        "5. **Equation of a Line**  \n",
        "   - **Point-Slope Form**: $(y - y_1 = m(x - x_1))$  \n",
        "   - **Slope-Intercept Form**: $(y = mx + c)$  \n",
        "   - **General Form**: $(Ax + By + C = 0)$\n",
        "\n",
        "6. **Circle**  \n",
        "   - Standard equation of a circle with center $((h, k))$ and radius $(r):$  \n",
        "     $$(x - h)^2 + (y - k)^2 = r^2$$\n",
        "\n",
        "7. **Parabola**  \n",
        "   - Standard equation: $(y^2 = 4ax)$ or $(x^2 = 4ay)$, where $(a)$ is the distance from the vertex to the focus.\n",
        "\n",
        "8. **Ellipse**  \n",
        "   - Standard equation:  \n",
        "     $$\\frac{x^2}{a^2} + \\frac{y^2}{b^2} = 1$$  \n",
        "     where $(a > b)$, $(a)$ is the semi-major axis, and $(b)$ is the semi-minor axis.\n",
        "\n",
        "9. **Hyperbola**  \n",
        "   - Standard equation:  \n",
        "     $$\\frac{x^2}{a^2} - \\frac{y^2}{b^2} = 1$$\n",
        "     or vice versa, depending on the orientation.\n"
      ],
      "metadata": {
        "id": "RC_Hd6HmmkUA"
      }
    },
    {
      "cell_type": "markdown",
      "source": [
        "# Lines\n",
        "\n",
        "#### **1. Definition of a Line**\n",
        "A line in analytic geometry is a straight, one-dimensional figure extending infinitely in both directions. It is represented by an equation in a two-dimensional plane.\n",
        "\n",
        "---\n",
        "\n",
        "#### **2. Slope of a Line**\n",
        "The slope $(m)$ of a line measures its steepness or incline.\n",
        "\n",
        "- **Formula**:\n",
        "  $m = \\frac{y_2 - y_1}{x_2 - x_1}$\n",
        "  where $(x_1, y_1)$ and $(x_2, y_2)$ are two points on the line.\n",
        "  \n",
        "- **Interpretation**:\n",
        "  - $(m > 0)$: Line rises from left to right.\n",
        "  - $(m < 0)$: Line falls from left to right.\n",
        "  - $(m = 0)$: Line is horizontal.\n",
        "  - Undefined $(m)$: Line is vertical.\n",
        "\n",
        "---\n",
        "\n",
        "#### **3. Equations of a Line**\n",
        "\n",
        "1. **Point-Slope Form**:\n",
        "   Used when the slope and a point on the line are known.\n",
        "   $y - y_1 = m(x - x_1)$\n",
        "\n",
        "2. **Slope-Intercept Form**:\n",
        "   Used when the slope and y-intercept are known.\n",
        "  $y = mx + c$\n",
        "   where $(m)$ is the slope and $(c)$ is the y-intercept.\n",
        "\n",
        "3. **General Form**:\n",
        "   The equation of the line is expressed as:\n",
        "   $Ax + By + C = 0$ where $A, B, C$ are constants.\n",
        "\n",
        "4. **Intercept Form**:\n",
        "   When the x-intercept $(a)$ and y-intercept $(b)$ are known:\n",
        "   $\\frac{x}{a} + \\frac{y}{b} = 1$\n",
        "\n",
        "---\n",
        "\n",
        "#### **4. Parallel and Perpendicular Lines**\n",
        "\n",
        "1. **Parallel Lines**:\n",
        "   - Two lines are parallel if their slopes are equal $(m_1 = m_2)$.\n",
        "   - They never intersect.\n",
        "\n",
        "2. **Perpendicular Lines**:\n",
        "   - Two lines are perpendicular if the product of their slopes is $(-1):$\n",
        "  \n",
        "  $$m_1 \\cdot m_2 = -1$$\n",
        "\n",
        "---\n",
        "\n",
        "#### **5. Distance of a Point from a Line**\n",
        "To find the perpendicular distance of a point $(x_1, y_1)$ from a line $(Ax + By + C = 0)$:\n",
        "\n",
        "$d = \\frac{|Ax_1 + By_1 + C|}{\\sqrt{A^2 + B^2}}$\n",
        "\n",
        "---\n",
        "\n",
        "#### **6. Angle Between Two Lines**\n",
        "The angle (Θ) between two lines with slopes $m_1$ and $m_2$ is given by:\n",
        "$\\tan\\theta = \\left|\\frac{m_2 - m_1}{1 + m_1m_2}\\right|$\n",
        "\n",
        "---\n",
        "\n",
        "#### **7. Horizontal and Vertical Lines**\n",
        "\n",
        "1. **Horizontal Line**:\n",
        "   - Equation: $y = c$ (constant y-coordinate).\n",
        "   - Slope: $m = 0$.\n",
        "\n",
        "2. **Vertical Line**:\n",
        "   - Equation: $x = c$ (constant x-coordinate).\n",
        "   - Slope: Undefined.\n",
        "\n",
        "---\n",
        "\n",
        "#### **8. Collinear Points**\n",
        "Three points $(x_1, y_1)$, $(x_2, y_2)$, and $(x_3, y_3)$ are collinear if the area of the triangle they form is zero. Alternatively, their slopes satisfy:\n",
        "$\\frac{y_2 - y_1}{x_2 - x_1} = \\frac{y_3 - y_2}{x_3 - x_2}$"
      ],
      "metadata": {
        "id": "gQqsB_u2nELB"
      }
    },
    {
      "cell_type": "markdown",
      "source": [
        "## 4\n",
        "Intersection of $y=2x+3$ and $y=3x+2$\n",
        "\n",
        "1. Find the **Intersection Point**= Solve the system of equations:\n",
        "\n",
        "$2x+3=3x+2$\n",
        "\n",
        "$x=1,y=5$\n",
        "\n",
        "2. **Calculate the Angle Between the Lines**: The angle Θ between two lines with slopes $m_1$ and $m_2$ is given by:\n",
        "\n",
        "$m_1=2$ and $m_2=3$:\n",
        "\n",
        "$tanΘ=\\|\\frac{m_1-m_2}{1+m_1m_2}\\|\\$\n",
        "\n",
        "$tanΘ=\\|\\frac{2-3}{1+2⋅3}\\|\\=\\frac{1}{7}\\$\n",
        "\n",
        "**Final Answer**:\n",
        "\n",
        "*Intersection point:(1,5)\n",
        "\n",
        "*Angle:$tan^{-1}(\\frac{1}{7})$\n",
        "\n",
        "\n",
        "\n"
      ],
      "metadata": {
        "id": "1mm6yUMEsnWS"
      }
    },
    {
      "cell_type": "markdown",
      "source": [
        "##5\n",
        "Write the equation of line passing through point $A=(1,2)$ and parallel to the vector $v=[2,3]$.\n",
        "\n",
        "1. **Determine the Slope**: Using the point-slope form:\n",
        "\n",
        "Substitude $m=\\frac{3}{2},x_1=1$, and $y_1=2$:\n",
        "\n",
        "$y-y1=m(x-x1)$\n",
        "\n",
        "$y-2=\\frac{3}{2}(x-1)$\n",
        "\n",
        "$y=\\frac{3}{2}x+\\frac{1}{2}$\n",
        "\n",
        "**Final Asnwer**: The equation of the line is $y=\\frac{3}{2}x+\\frac{1}{2}$\n",
        "https://www.geogebra.org/calculator/pag3vrsr"
      ],
      "metadata": {
        "id": "x0ICgTWTx0kX"
      }
    },
    {
      "cell_type": "markdown",
      "source": [
        "##6\n",
        "$y=2x+3$ and $P=(1,1)$ is a random point that the lines will pass through.\n",
        "\n",
        "For a parallel line:\n",
        "\n",
        "$m=2$\n",
        "\n",
        "$y-1=2⋅(2x-1)$\n",
        "\n",
        "$y=2x-2$\n",
        "\n",
        "For a perpendicular line:\n",
        "\n",
        "$m_{given}=2$\n",
        "\n",
        "$m_{perpendicular}=-\\frac{1}{2}$\n",
        "\n",
        "$y-1=-\\frac{1}{2}(x-1)$\n",
        "\n",
        "$y-1=-\\frac{1}{2}x+\\frac{1}{2}$\n",
        "\n",
        "$y=-\\frac{1}{2}x+\\frac{3}{2}$\n",
        "\n",
        "https://www.geogebra.org/calculator/hmdgwbmd\n",
        "https://www.geogebra.org/calculator/qdvd9rvu"
      ],
      "metadata": {
        "id": "4SmvMRk9hZoK"
      }
    },
    {
      "cell_type": "markdown",
      "source": [
        "##7\n",
        "$y=2x+3$ and $A=(1,2)$\n",
        "\n",
        "$y-2x-3=0$\n",
        "\n",
        "$-2x+y-3=0$\n",
        "\n",
        "$A=-2,B=1,C=-3$\n",
        "\n",
        "$Distance=\\frac{|A_x1+B_y1+C|}{\\sqrt{A^2+B^2}}=\\frac{|-2+2-3|}{\\sqrt4+1}=\\frac{|-3|}{\\sqrt5}=\\frac{3}{\\sqrt5}$\n",
        "\n",
        "To simplify:\n",
        "\n",
        "$Distance=\\frac{3}{\\sqrt5}⋅\\frac{\\sqrt5}{\\sqrt5}=\\frac{3\\sqrt5}{5}$"
      ],
      "metadata": {
        "id": "bZ-7uaGK1wcT"
      }
    },
    {
      "cell_type": "markdown",
      "source": [
        "##8\n",
        "\n",
        "$A(2,0),B=(0,3)$\n",
        "\n",
        "$m=\\frac{3-0}{0-2}=-\\frac{3}{2}$\n",
        "\n",
        "$y-0=-\\frac{3}{2}(x-3)$\n",
        "\n",
        "$y=-\\frac{3}{2}x+3$\n",
        "\n",
        "https://www.geogebra.org/calculator/jt5pvdwa"
      ],
      "metadata": {
        "id": "IeRhySs_rJrk"
      }
    },
    {
      "cell_type": "markdown",
      "source": [
        "##9\n",
        "https://www.geogebra.org/calculator/xkdjd6hx\n"
      ],
      "metadata": {
        "id": "DAhV6YPYr4VL"
      }
    },
    {
      "cell_type": "markdown",
      "source": [],
      "metadata": {
        "id": "oVyc4JzR0Ek2"
      }
    }
  ]
}