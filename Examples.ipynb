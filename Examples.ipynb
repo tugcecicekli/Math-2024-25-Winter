{
  "nbformat": 4,
  "nbformat_minor": 0,
  "metadata": {
    "colab": {
      "provenance": [],
      "toc_visible": true,
      "authorship_tag": "ABX9TyPhAKP2xOii2KyOhcgGJnNt",
      "include_colab_link": true
    },
    "kernelspec": {
      "name": "python3",
      "display_name": "Python 3"
    },
    "language_info": {
      "name": "python"
    }
  },
  "cells": [
    {
      "cell_type": "markdown",
      "metadata": {
        "id": "view-in-github",
        "colab_type": "text"
      },
      "source": [
        "<a href=\"https://colab.research.google.com/github/tugcecicekli/Math-2024-25-Winter/blob/main/Examples.ipynb\" target=\"_parent\"><img src=\"https://colab.research.google.com/assets/colab-badge.svg\" alt=\"Open In Colab\"/></a>"
      ]
    },
    {
      "cell_type": "markdown",
      "source": [
        "# Matrix\n"
      ],
      "metadata": {
        "id": "EMFjMuTaCmv3"
      }
    },
    {
      "cell_type": "markdown",
      "source": [
        "```markdown\n",
        "# Matrix Addition\n",
        "\n",
        "Matrix addition is the process of adding two matrices by adding their corresponding elements. To perform matrix addition, the two matrices must have the same dimensions (i.e., the same number of rows and columns).\n",
        "\n",
        "## Key Points About Matrix Addition\n",
        "1. **Same Dimensions Required**: Matrix addition is only defined for matrices with the same dimensions.\n",
        "2. **Element-Wise Operation**: Each element in the resulting matrix is the sum of the corresponding elements from the two matrices.\n",
        "\n",
        "### Mathematical Representation\n",
        "Let \\( A \\) and \\( B \\) be two matrices with dimensions \\( m \\times n \\):\n",
        "\\[\n",
        "A =\n",
        "\\begin{bmatrix}\n",
        "a_{11} & a_{12} & \\cdots & a_{1n} \\\\\n",
        "a_{21} & a_{22} & \\cdots & a_{2n} \\\\\n",
        "\\vdots & \\vdots & \\ddots & \\vdots \\\\\n",
        "a_{m1} & a_{m2} & \\cdots & a_{mn}\n",
        "\\end{bmatrix},\n",
        "\\quad\n",
        "B =\n",
        "\\begin{bmatrix}\n",
        "b_{11} & b_{12} & \\cdots & b_{1n} \\\\\n",
        "b_{21} & b_{22} & \\cdots & b_{2n} \\\\\n",
        "\\vdots & \\vdots & \\ddots & \\vdots \\\\\n",
        "b_{m1} & b_{m2} & \\cdots & b_{mn}\n",
        "\\end{bmatrix}\n",
        "\\]\n",
        "\n",
        "Their sum \\( C = A + B \\) is:\n",
        "\\[\n",
        "C =\n",
        "\\begin{bmatrix}\n",
        "a_{11} + b_{11} & a_{12} + b_{12} & \\cdots & a_{1n} + b_{1n} \\\\\n",
        "a_{21} + b_{21} & a_{22} + b_{22} & \\cdots & a_{2n} + b_{2n} \\\\\n",
        "\\vdots & \\vdots & \\ddots & \\vdots \\\\\n",
        "a_{m1} + b_{m1} & a_{m2} + b_{m2} & \\cdots & a_{mn} + b_{mn}\n",
        "\\end{bmatrix}\n",
        "\\]\n",
        "\n",
        "### Example\n",
        "Given two matrices:\n",
        "\\[\n",
        "A =\n",
        "\\begin{bmatrix}\n",
        "2 & 4 & 6 \\\\\n",
        "1 & 3 & 5\n",
        "\\end{bmatrix},\n",
        "\\quad\n",
        "B =\n",
        "\\begin{bmatrix}\n",
        "7 & 8 & 9 \\\\\n",
        "0 & 2 & 4\n",
        "\\end{bmatrix}\n",
        "\\]\n",
        "\n",
        "Their sum is:\n",
        "\\[\n",
        "C = A + B =\n",
        "\\begin{bmatrix}\n",
        "2+7 & 4+8 & 6+9 \\\\\n",
        "1+0 & 3+2 & 5+4\n",
        "\\end{bmatrix}\n",
        "=\n",
        "\\begin{bmatrix}\n",
        "9 & 12 & 15 \\\\\n",
        "1 & 5 & 9\n",
        "\\end{bmatrix}\n",
        "\\]\n",
        "\n",
        "### Python Code for Matrix Addition\n",
        "```python\n",
        "# Import the numpy library\n",
        "import numpy as np\n",
        "\n",
        "# Define the matrices\n",
        "A = np.array([[2, 4, 6], [1, 3, 5]])\n",
        "B = np.array([[7, 8, 9], [0, 2, 4]])\n",
        "\n",
        "# Perform matrix addition\n",
        "C = A + B\n",
        "\n",
        "# Print the results\n",
        "print(\"Matrix A:\")\n",
        "print(A)\n",
        "\n",
        "print(\"\\nMatrix B:\")\n",
        "print(B)\n",
        "\n",
        "print(\"\\nSum of A and B (Matrix C):\")\n",
        "print(C)\n",
        "```\n",
        "```"
      ],
      "metadata": {
        "id": "z2N0CNknBIrp"
      }
    },
    {
      "cell_type": "markdown",
      "source": [
        "# Python Commands"
      ],
      "metadata": {
        "id": "gQpLK9l1ClHd"
      }
    },
    {
      "cell_type": "markdown",
      "source": [
        "```markdown\n",
        "# Introduction to Python Commands\n",
        "\n",
        "Here is a table of commonly used Python commands, their descriptions, and examples to help you get started with Python programming.\n",
        "\n",
        "| **Command**         | **Description**                                      | **Example**                                               |\n",
        "|----------------------|------------------------------------------------------|-----------------------------------------------------------|\n",
        "| `print()`           | Outputs text or variables to the console.            | `print(\"Hello, World!\")` → `Hello, World!`               |\n",
        "| `type()`            | Returns the type of a variable or value.             | `type(5)` → `<class 'int'>`                              |\n",
        "| `input()`           | Takes user input as a string.                        | `name = input(\"Enter your name: \")`                      |\n",
        "| `len()`             | Returns the length of a string, list, or other iterable.| `len(\"Python\")` → `6`                                   |\n",
        "| `int()`             | Converts a value to an integer.                      | `int(\"42\")` → `42`                                       |\n",
        "| `float()`           | Converts a value to a floating-point number.         | `float(\"3.14\")` → `3.14`                                 |\n",
        "| `str()`             | Converts a value to a string.                        | `str(123)` → `\"123\"`                                     |\n",
        "| `list()`            | Converts an iterable into a list.                    | `list(\"abc\")` → `['a', 'b', 'c']`                        |\n",
        "| `range()`           | Generates a sequence of numbers.                     | `list(range(5))` → `[0, 1, 2, 3, 4]`                     |\n",
        "| `for` loop          | Iterates over items in a sequence.                   | `for i in range(3): print(i)` → `0\\n1\\n2`                |\n",
        "| `if` statement      | Conditional statement to execute code if condition is true.| `if 5 > 3: print(\"Yes\")` → `Yes`                      |\n",
        "| `def`               | Defines a function.                                  | `def greet(): print(\"Hello\")`                            |\n",
        "| `import`            | Imports a module into your program.                  | `import math`                                            |\n",
        "| `math.sqrt()`       | Computes the square root of a number (requires `math`).| `math.sqrt(16)` → `4.0`                                  |\n",
        "| `open()`            | Opens a file.                                        | `file = open(\"example.txt\", \"r\")`                        |\n",
        "| `with` statement    | Manages resources like files more cleanly.           | `with open(\"example.txt\", \"r\") as f: print(f.read())`    |\n",
        "| `append()`          | Adds an item to a list.                              | `my_list = []; my_list.append(10)` → `[10]`             |\n",
        "| `len()`             | Returns the length of a collection.                  | `len([1, 2, 3])` → `3`                                   |\n",
        "| `help()`            | Provides help for a function or module.              | `help(print)`                                            |\n",
        "\n",
        "Each of these commands is fundamental to understanding Python and is useful for a variety of tasks.\n",
        "```"
      ],
      "metadata": {
        "id": "5lMO3_91CGyh"
      }
    },
    {
      "cell_type": "markdown",
      "source": [
        "# C++ and Python Commands"
      ],
      "metadata": {
        "id": "KiLTbdd9CjwJ"
      }
    },
    {
      "cell_type": "markdown",
      "source": [
        "Here’s a table comparing basic commands in C++ and Python:\n",
        "\n",
        "| **Action**               | **C++ Command**                            | **Python Command**                         | **Description**                                       |\n",
        "|--------------------------|---------------------------------------------|--------------------------------------------|-------------------------------------------------------|\n",
        "| Print output             | `std::cout << \"Hello, World!\";`            | `print(\"Hello, World!\")`                   | Displays output to the console.                      |\n",
        "| Declare a variable       | `int x = 5;`                               | `x = 5`                                    | Declares a variable and assigns a value.             |\n",
        "| Input from user          | `std::cin >> x;`                           | `x = input(\"Enter value: \")`               | Takes input from the user.                           |\n",
        "| Check data type          | `typeid(x).name()`                         | `type(x)`                                  | Gets the type of a variable.                         |\n",
        "| Length of a string       | `std::string str = \"Hello\"; str.size();`    | `len(\"Hello\")`                             | Gets the length of a string or collection.           |\n",
        "| Loop (for)               | `for (int i = 0; i < 5; i++) {}`           | `for i in range(5):`                       | Iterates over a range of values.                     |\n",
        "| Loop (while)             | `while (i < 5) {}`                         | `while i < 5:`                             | Loops while a condition is true.                     |\n",
        "| Conditional (if)         | `if (x > 0) {}`                            | `if x > 0:`                                | Executes code based on a condition.                  |\n",
        "| Function definition      | `int add(int a, int b) { return a + b; }`  | `def add(a, b): return a + b`              | Defines a reusable block of code.                    |\n",
        "| Import library           | `#include <cmath>`                         | `import math`                              | Imports a library or module.                         |\n",
        "| Square root              | `std::sqrt(16)`                            | `math.sqrt(16)`                            | Calculates the square root.                          |\n",
        "| Append to list/array     | `std::vector<int> v; v.push_back(10);`     | `my_list = []; my_list.append(10)`         | Adds an element to a list or vector.                 |\n",
        "| Open a file              | `std::ifstream file(\"example.txt\");`       | `file = open(\"example.txt\", \"r\")`          | Opens a file for reading or writing.                 |\n",
        "| Read from file           | `std::getline(file, line);`                | `file.read()`                              | Reads content from a file.                           |\n",
        "| Comment (single-line)    | `// This is a comment`                     | `# This is a comment`                      | Adds a single-line comment.                          |\n",
        "| Comment (multi-line)     | `/* Multi-line comment */`                 | `''' Multi-line comment '''`               | Adds a multi-line comment.                           |\n",
        "| Exit program             | `return 0;`                                | `exit()`                                   | Exits the program.                                   |\n",
        "\n",
        "This table highlights basic similarities and differences between C++ and Python commands for common programming tasks."
      ],
      "metadata": {
        "id": "Ld7ViiOxDW8v"
      }
    },
    {
      "cell_type": "markdown",
      "source": [
        "# Basic Matrix Operations"
      ],
      "metadata": {
        "id": "JvavoLxIDYMn"
      }
    },
    {
      "cell_type": "code",
      "source": [
        "# Exercise 1: Matrix addition\n",
        "import sympy as sp\n",
        "\n",
        "A=sp.Matrix([[1,2],[3,4]])\n",
        "B=sp.Matrix([[5,6],[7,8]])\n",
        "A+B # add matrices A and B"
      ],
      "metadata": {
        "colab": {
          "base_uri": "https://localhost:8080/",
          "height": 58
        },
        "id": "L-TGP03XPkAj",
        "outputId": "cb0cf08f-ed9e-484b-bc74-4248bb6fe15f"
      },
      "execution_count": 2,
      "outputs": [
        {
          "output_type": "execute_result",
          "data": {
            "text/plain": [
              "Matrix([\n",
              "[ 6,  8],\n",
              "[10, 12]])"
            ],
            "text/latex": "$\\displaystyle \\left[\\begin{matrix}6 & 8\\\\10 & 12\\end{matrix}\\right]$"
          },
          "metadata": {},
          "execution_count": 2
        }
      ]
    },
    {
      "cell_type": "code",
      "source": [
        "# Exercise 2: Multiplication of a scalar and matrix\n",
        "import sympy as sp\n",
        "\n",
        "A=sp.Matrix([[4,2],[12,4]]) # define matrix A\n",
        "k=sp.Rational(1,4) # define scalar k\n",
        "A*k # multiply matrix A and scalar k\n"
      ],
      "metadata": {
        "colab": {
          "base_uri": "https://localhost:8080/",
          "height": 58
        },
        "id": "gJktELTQQ89u",
        "outputId": "b750e7c7-f840-405d-b0e6-844823f49313"
      },
      "execution_count": 3,
      "outputs": [
        {
          "output_type": "execute_result",
          "data": {
            "text/plain": [
              "Matrix([\n",
              "[1, 1/2],\n",
              "[3,   1]])"
            ],
            "text/latex": "$\\displaystyle \\left[\\begin{matrix}1 & \\frac{1}{2}\\\\3 & 1\\end{matrix}\\right]$"
          },
          "metadata": {},
          "execution_count": 3
        }
      ]
    }
  ]
}