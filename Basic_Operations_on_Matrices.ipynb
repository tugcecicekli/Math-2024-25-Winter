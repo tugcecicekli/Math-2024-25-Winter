{
  "cells": [
    {
      "cell_type": "markdown",
      "metadata": {
        "id": "view-in-github",
        "colab_type": "text"
      },
      "source": [
        "<a href=\"https://colab.research.google.com/github/tugcecicekli/Math-2024-25-Winter/blob/main/Basic_Operations_on_Matrices.ipynb\" target=\"_parent\"><img src=\"https://colab.research.google.com/assets/colab-badge.svg\" alt=\"Open In Colab\"/></a>"
      ]
    },
    {
      "cell_type": "markdown",
      "metadata": {
        "id": "CUqjT8kiJB1j"
      },
      "source": [
        "# Basic Matrix Operations\n",
        "\n",
        "### Matrix Addition\n",
        "\n",
        "Let $A=[a_{ij}]$ and $B=[b_{ij}]$ be two matrices of dimensions $m \\times n$. Then the sum of matrices $A$ and $B$ is the matrix $C=[c_{ij}]$ of dimensions $m \\times n$, where $c_{ij}=a_{ij}+b_{ij}$.\n",
        "\n",
        "### Matrix Scalar Multiplication\n",
        "\n",
        "Let $A=[a_{ij}]$ be a matrix of dimensions $m \\times n$, and let $k$ be a scalar. Then the product of matrix $A$ and scalar $k$ is the matrix $B=[b_{ij}]$ of dimensions $m \\times n$, where $b_{ij}=k \\cdot a_{ij}$.\n",
        "\n",
        "### Matrix Multiplication\n",
        "\n",
        "Let $A=[a_{ij}]$ be a matrix of dimensions $m \\times n$, and $B=[b_{ij}]$ be a matrix of dimensions $n \\times p$. Then the product of matrices $A$ and $B$ is the matrix $C=[c_{ij}]$ of dimensions $m \\times p$, where $c_{ij}=\\sum_{k=1}^{n} a_{ik} \\cdot b_{kj}$.\n",
        "\n",
        "\n",
        "### Example 1\n",
        "\n",
        "Let $A=\\begin{bmatrix} 1 & 2 \\\\ 3 & 4 \\end{bmatrix}$ and $B=\\begin{bmatrix} 5 & 6 \\\\ 7 & 8 \\end{bmatrix}$.\n",
        "Then the sum of matrices $A$ and $B$ is\n",
        "\n",
        "$$\n",
        "C=\n",
        "A+B=\\begin{bmatrix} 1+5 & 2+6 \\\\ 3+7 & 4+8 \\end{bmatrix}=\\begin{bmatrix} 6 & 8 \\\\ 10 & 12 \\end{bmatrix}.\n",
        "$$\n",
        "\n",
        "### Example 2\n",
        "\n",
        "Let $A=\\begin{bmatrix} 1 & 2 \\\\ 3 & 4 \\end{bmatrix}$ and $k=2$.\n",
        "\n",
        "Then the product of matrix $A$ and scalar $k$ is\n",
        "\n",
        "$$\n",
        "B=\n",
        "k \\cdot A=2 \\cdot \\begin{bmatrix} 1 & 2 \\\\ 3 & 4 \\end{bmatrix}=\\begin{bmatrix} 2*1 & 2*2 \\\\ 2*3 & 2*4 \\end{bmatrix}=\\begin{bmatrix} 2 & 4 \\\\ 6 & 8 \\end{bmatrix}.\n",
        "$$\n",
        "\n",
        "### Example 3\n",
        "\n",
        "Let\n",
        "$A=\\begin{bmatrix} 1 & 2 \\\\ 3 & 4 \\end{bmatrix}$\n",
        "and\n",
        "$B=\\begin{bmatrix} 5 & 6 \\\\ 7 & 8 \\end{bmatrix}$.\n",
        "\n",
        "Then the product of matrices $A$ and $B$ is\n",
        "\n",
        "$$\n",
        "C=\n",
        "A \\cdot B=\\begin{bmatrix} 1*5+2*7 & 1*6+2*8 \\\\ 3*5+4*7 & 3*6+4*8 \\end{bmatrix}=\\begin{bmatrix} 19 & 22 \\\\ 43 & 50 \\end{bmatrix}.\n",
        "$$"
      ]
    },
    {
      "cell_type": "code",
      "execution_count": null,
      "metadata": {
        "colab": {
          "base_uri": "https://localhost:8080/",
          "height": 58
        },
        "id": "0Fpl0LW8JB1l",
        "outputId": "6b7ca65e-e2e5-40d4-f2e9-959d3062bb86"
      },
      "outputs": [
        {
          "output_type": "execute_result",
          "data": {
            "text/plain": [
              "Matrix([\n",
              "[1, 2],\n",
              "[3, 4]])"
            ],
            "text/latex": "$\\displaystyle \\left[\\begin{matrix}1 & 2\\\\3 & 4\\end{matrix}\\right]$"
          },
          "metadata": {},
          "execution_count": 7
        }
      ],
      "source": [
        "# Example 1: Matrix addition in sympy\n",
        "import sympy as sp\n",
        "\n",
        "A=sp.Matrix([[1,2],[3,4]])\n",
        "B=sp.Matrix([[5,6],[7,8]])\n",
        "A # display matrix A"
      ]
    },
    {
      "cell_type": "code",
      "execution_count": null,
      "metadata": {
        "colab": {
          "base_uri": "https://localhost:8080/",
          "height": 58
        },
        "id": "nvmMpj4-JB1l",
        "outputId": "a4ba65ff-9570-4499-ccf0-02f5e5ff3d63"
      },
      "outputs": [
        {
          "output_type": "execute_result",
          "data": {
            "text/plain": [
              "Matrix([\n",
              "[5, 6],\n",
              "[7, 8]])"
            ],
            "text/latex": "$\\displaystyle \\left[\\begin{matrix}5 & 6\\\\7 & 8\\end{matrix}\\right]$"
          },
          "metadata": {},
          "execution_count": 8
        }
      ],
      "source": [
        "B # display matrix B"
      ]
    },
    {
      "cell_type": "code",
      "execution_count": null,
      "metadata": {
        "colab": {
          "base_uri": "https://localhost:8080/"
        },
        "id": "JXxAr9G5JB1l",
        "outputId": "7714864b-c3fd-45e4-d16f-09ce8244a613"
      },
      "outputs": [
        {
          "output_type": "execute_result",
          "data": {
            "text/plain": [
              "True"
            ]
          },
          "metadata": {},
          "execution_count": 9
        }
      ],
      "source": [
        "sp.Matrix([[6,8],[10,12]])==A+B # verify matrix addition"
      ]
    },
    {
      "cell_type": "code",
      "execution_count": null,
      "metadata": {
        "id": "P_IzKHwCJB1m"
      },
      "outputs": [],
      "source": [
        "# Example 2: Scalar multiplication\n",
        "A=sp.Matrix([[1,2],[3,4]]) # define matrix A\n",
        "\n",
        "sp.Matrix([[2,4],[6,8]])==2*A # verify scalar multiplication"
      ]
    },
    {
      "cell_type": "code",
      "execution_count": null,
      "metadata": {
        "id": "ZhdgwoRfJB1m"
      },
      "outputs": [],
      "source": [
        "# Example 3: Multiplication of two matrices\n",
        "\n",
        "A=sp.Matrix([[1,2],[3,4]]) # define matrix A\n",
        "B=sp.Matrix([[5,6],[7,8]]) # define matrix B\n",
        "\n",
        "sp.Matrix([[19,22],[43,50]])==A*B # verify matrix multiplication"
      ]
    },
    {
      "cell_type": "markdown",
      "metadata": {
        "id": "LteC0AD1JB1m"
      },
      "source": [
        "### Necessary Condition for Matrix Multiplication\n",
        "\n",
        "Remember that matrices can have different numbers of rows and columns.\n",
        "\n",
        "To multiply two matrices $A_{m \\times n}$ and $B_{n \\times k}$, where $A$ has dimensions $m \\times n$ and $B$ has dimensions $n \\times k$, the number of columns of matrix $A$ must equal the number of rows of matrix $B$. Otherwise, matrix multiplication is not possible.\n",
        "\n",
        "$$\n",
        "A_{m \\times n} \\cdot B_{n \\times k} = C_{m \\times k}\n",
        "$$\n",
        "\n",
        "For example, if $A_{3 \\times 3}$ and $B_{3 \\times 3}$, then the resulting matrix $C_{3 \\times 3}$.\n",
        "\n",
        "<img src=\"https://www.mscroggs.co.uk/img/full/multiply_matrices.gif\" alt=\"Matrix Multiplication GIF\" width=\"400\">\n",
        "\n",
        "### Matrix Multiplication is Not Commutative\n",
        "\n",
        "Matrix multiplication is not commutative, i.e., in general $A \\cdot B \\neq B \\cdot A$."
      ]
    },
    {
      "cell_type": "code",
      "execution_count": null,
      "metadata": {
        "id": "CQ8ql0Y-JB1m"
      },
      "outputs": [],
      "source": [
        "# Example of multiplying rectangular matrices\n",
        "import sympy as sp\n",
        "A=sp.Matrix([[1,2],[3,4],[5,6]]) # define matrix A_{3 x 2}\n",
        "B=sp.Matrix([[1,2,3],[4,5,6]]) # define matrix B_{2 x 3}\n",
        "C=sp.Matrix([[9,12,15],[19,26,33],[29,40,51]]) # define matrix C_{3 x 3}\n",
        "\n",
        "A*B # multiply matrices A and B to get a 3x3 matrix"
      ]
    },
    {
      "cell_type": "code",
      "execution_count": null,
      "metadata": {
        "id": "7_ejf2o_JB1m"
      },
      "outputs": [],
      "source": [
        "B*A # multiply matrices B and A to get a 2x2 matrix"
      ]
    },
    {
      "cell_type": "code",
      "execution_count": null,
      "metadata": {
        "id": "nmxDX1BbJB1n"
      },
      "outputs": [],
      "source": [
        "B*C # multiply matrices B and C to get a 2x3 matrix"
      ]
    },
    {
      "cell_type": "markdown",
      "metadata": {
        "id": "7Zc3x0V5JB1n"
      },
      "source": [
        "---\n",
        "## Exercises for Students (old version)\n",
        "\n",
        "1. Calculate the sum of matrices $A=\\begin{bmatrix} 1 & 2 \\\\ 3 & 4 \\end{bmatrix}$ and $B=\\begin{bmatrix} 5 & 6 \\\\ 7 & 8 \\end{bmatrix}$.\n",
        "\n",
        "2. Calculate the product of matrix $A=\\begin{bmatrix} 4 & 2 \\\\ 12 & 4 \\end{bmatrix}$ and scalar $k=\\frac{1}{4}$.\n",
        "\n",
        "3. Calculate the products $A\\cdot B$ and $B \\cdot A$ for matrices $A=\\begin{bmatrix} 3 & 2 \\\\ 2 & 4 \\end{bmatrix}$ and $B=\\begin{bmatrix} 4 & 1 \\\\ 6 & 4 \\end{bmatrix}$."
      ]
    },
    {
      "cell_type": "code",
      "source": [
        "import numpy as np\n",
        "\n",
        "c= np.array([[6,8],[10,12]])\n",
        "\n",
        "print(c)"
      ],
      "metadata": {
        "colab": {
          "base_uri": "https://localhost:8080/"
        },
        "id": "6IUR8OzsZOUH",
        "outputId": "4a639a50-7f9e-4d40-e4b3-0149e73317e5"
      },
      "execution_count": null,
      "outputs": [
        {
          "output_type": "stream",
          "name": "stdout",
          "text": [
            "[[ 6  8]\n",
            " [10 12]]\n"
          ]
        }
      ]
    },
    {
      "cell_type": "code",
      "source": [
        "import sympy as sp\n",
        "\n",
        "A = sp.Matrix([[4,2],[12,4]])\n",
        "k= sp.Rational(1,4) # Represents 1\\4 as a rational number\n",
        "B= k*A"
      ],
      "metadata": {
        "id": "HkwYErJZahfF"
      },
      "execution_count": null,
      "outputs": []
    },
    {
      "cell_type": "code",
      "source": [
        "import numpy as np\n",
        "C=np.array([[24,11],[32,18]])\n",
        "D=np.array([[14,12],[26,28]])\n",
        "print(\"Matrix C:\")\n",
        "print(C)\n",
        "\n",
        "print(\"Matrix D:\")\n",
        "print(D)"
      ],
      "metadata": {
        "colab": {
          "base_uri": "https://localhost:8080/"
        },
        "id": "WgSqB23WxwH9",
        "outputId": "20fc663b-d445-4232-ba1d-f6eab2272f68"
      },
      "execution_count": null,
      "outputs": [
        {
          "output_type": "stream",
          "name": "stdout",
          "text": [
            "Matrix C:\n",
            "[[24 11]\n",
            " [32 18]]\n",
            "Matrix D:\n",
            "[[14 12]\n",
            " [26 28]]\n"
          ]
        }
      ]
    },
    {
      "cell_type": "markdown",
      "metadata": {
        "id": "KgPpwwvrJB1n"
      },
      "source": [
        "\n",
        "## Exercises for Students (new version)\n",
        "\n",
        "For follwing matrices\n",
        "\n",
        "$$\n",
        "\\mathbf{A}=\n",
        "\\begin{pmatrix}\n",
        "1 & 2 \\\\\n",
        "3 & 4\n",
        "\\end{pmatrix}\n",
        "\\qquad\n",
        "\\mathbf{B}=\n",
        "\\begin{pmatrix}\n",
        "5 & 6 \\\\\n",
        "7 & 8\n",
        "\\end{pmatrix}\n",
        "\\quad\n",
        "\\mathbf{C}=\n",
        "\\begin{pmatrix}\n",
        "-1 & 2 \\\\\n",
        "3 & 0\n",
        "\\end{pmatrix}\n",
        "\\qquad\n",
        "\\mathbf{D}=\n",
        "\\begin{pmatrix}\n",
        "-1 & 2 & 3 \\\\\n",
        "4 & 0 & 6\n",
        "\\end{pmatrix}\n",
        "\\qquad\n",
        "\\mathbf{E}=\n",
        "\\begin{pmatrix}\n",
        "1 & 2\\\\\n",
        "4 & 5\\\\\n",
        "7 & 8\n",
        "\\end{pmatrix}\n",
        "$$\n",
        "\n",
        "1. Calculate: $\\mathbf{A}+\\mathbf{B}$;  $\\mathbf{B}-\\mathbf{A}$;  $\\mathbf{A}+\\mathbf{C}$; $\\mathbf{D}+\\mathbf{E}$.\n",
        "\n",
        "2. Calculate $\\frac{1}{2}\\mathbf{A}$, $2\\mathbf{B}$, $-3\\mathbf{C}$, and $4\\mathbf{D}$.\n",
        "\n",
        "3. Calculate the products $\\mathbf{A}\\cdot \\mathbf{B}$; $\\mathbf{B} \\cdot \\mathbf{A}$; $\\mathbf{A} \\cdot \\mathbf{D}$; $\\mathbf{D} \\cdot \\mathbf{E}$."
      ]
    },
    {
      "cell_type": "markdown",
      "source": [
        "1. a) $A+B=\\begin{bmatrix} 1+5 & 2+6 \\\\ 3+ 7& 4+ 8\\end{bmatrix}=\\begin{bmatrix} 6&8\\\\10&12\\end{bmatrix}$\n",
        "\n",
        "\n",
        "1. b) $B-A=\\begin{bmatrix} 5-1 & 6-2 \\\\ 7-3 & 8-4 \\end{bmatrix}=\\begin{bmatrix} 4&4 \\\\4&4\\end{bmatrix}$\n",
        "\n",
        "\n",
        "1. c) $A+C=\\begin{bmatrix} 1-1 & 2+2 \\\\ 3+3 & 4+0 \\end{bmatrix}=\\begin{bmatrix} 0&2\\\\6&4\\end{bmatrix}$\n",
        "\n",
        "\n",
        "1. d) D+E are not the same dimension, you can't add two matrices if they don't have the same dimension."
      ],
      "metadata": {
        "id": "iEUs-qeqyo28"
      }
    },
    {
      "cell_type": "markdown",
      "source": [
        " 2. a) $\\frac{1}{2}\\mathbf{A}=\\frac{1}{2} \\begin{pmatrix} 1&2 \\\\ 3&4 \\end{pmatrix}=\\begin{pmatrix} \\frac{1}{2}*1 & \\frac{1}{2}*2 \\\\ \\frac{1}{2}*3 & \\frac{1}{2}*4\\end{pmatrix}=\\begin{pmatrix} \\frac{1}{2} & 1\\\\ \\frac{3}{2} &2\\end{pmatrix}$\n",
        "\n",
        "\n",
        "2. b) $2B=2\\begin{pmatrix} 5&6\\\\7&8\\end{pmatrix}=\\begin{pmatrix} 2*5 & 2*6 \\\\ 2*7&2*8\\end{pmatrix}=\\begin{pmatrix} 10&12\\\\14&16\\end{pmatrix}$\n",
        "\n",
        "\n",
        "2. c) $-3C=-3\\begin{pmatrix} -1&2\\\\3&0\\end{pmatrix}=\\begin{pmatrix} (-3)*(-1) & (-3)*2\\\\ (-3)*3 & (-3)*0\\end{pmatrix}=\\begin{pmatrix} 3&-6\\\\ -9&0\\end{pmatrix}$\n",
        "\n",
        "\n",
        "2. d) $4B=4\\begin{pmatrix} -1&2&3\\\\4&0&6\\end{pmatrix}=\\begin{pmatrix}4*(-1)&4*2&4*3\\\\4*4&4*0&4*6\\end{pmatrix}=\\begin{pmatrix} -4&8&12\\\\16&0&24\\end{pmatrix}$\n",
        "\n"
      ],
      "metadata": {
        "id": "gQfTekwq5lhH"
      }
    },
    {
      "cell_type": "markdown",
      "metadata": {
        "id": "9aQy1LbLJB1n"
      },
      "source": [
        "3. a) $A⋅B=\\begin{bmatrix} 1&2 \\\\ 3&4 \\end{bmatrix} ⋅\\begin{bmatrix} 5&6 \\\\ 7&8 \\end{bmatrix}= \\begin{bmatrix} 1*5 + 2*7 & 1*6 + 2*8\\\\ 3*5 + 4*7 & 3*6 + 4*8 \\end{bmatrix}=\\begin{bmatrix} 5+12 & 6+16 \\\\ 15+28 & 18+32 \\end{bmatrix}=\\begin{bmatrix} 17 & 22\\\\ 43 &50 \\end{bmatrix}$\n",
        "\n",
        "\n",
        "3. b) $B⋅A=\\begin{bmatrix} 5&6 \\\\ 7&8 \\end{bmatrix} ⋅\\begin{bmatrix} 1&2 \\\\ 3&4 \\end{bmatrix}=\\begin{bmatrix} 5*1 + 6*3 & 5*2 + 6*4 \\\\ 7*1 + 8*3 & 7*2 + 8*4 \\end{bmatrix}=\\begin{bmatrix} 5+18 & 10+24 \\\\ 7+24 & 14+32 \\end{bmatrix}=\\begin{bmatrix} 23 & 32 \\\\ 31 & 46\\end{bmatrix}$\n",
        "\n",
        "\n",
        "3. c) $A⋅D=\\begin{bmatrix} 1&2\\\\3&4\\end{bmatrix} ⋅\\begin{bmatrix} -1&2&3\\\\4&0&6\\end{bmatrix}=\\begin{bmatrix} 1*(-1)+2*4 & 1*2+2*0 & 1*3+2*6 \\\\3*(-1)+4*4 & 3*2+4*0 & 3*3+4*6\\end{bmatrix}=\\begin{bmatrix} (-1)+8 & 2+0 & 3+12\\\\(-3)+16&6+0&9+24\\end{bmatrix}=\\begin{bmatrix} 7&2&15\\\\13&6&33\\end{bmatrix}$\n",
        "\n",
        "\n",
        "3. d) $D⋅E=\\begin{bmatrix} -1&2&3\\\\4&0&6\\end{bmatrix}⋅\\begin{bmatrix} 1&2\\\\4&5\\\\7&8\\end{bmatrix}=\\begin{bmatrix} -1*1+2*4+3*7&-1*2+2*5+3*8\\\\4*1+0*4+6*7&4*2+0*5+6*8\\end{bmatrix}=\\begin{bmatrix} -1+8+21&-2+10+24\\\\4+0+42&8+0+48\\end{bmatrix}=\\begin{bmatrix} 28&32\\\\46&56\\end{bmatrix}$"
      ]
    },
    {
      "cell_type": "code",
      "source": [],
      "metadata": {
        "id": "NfopNdwkszxR"
      },
      "execution_count": null,
      "outputs": []
    }
  ],
  "metadata": {
    "kernelspec": {
      "display_name": "Python 3",
      "language": "python",
      "name": "python3"
    },
    "language_info": {
      "name": "python",
      "version": "3.11.9"
    },
    "colab": {
      "provenance": [],
      "include_colab_link": true
    }
  },
  "nbformat": 4,
  "nbformat_minor": 0
}