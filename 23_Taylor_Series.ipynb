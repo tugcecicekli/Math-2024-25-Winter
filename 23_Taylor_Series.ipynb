{
  "nbformat": 4,
  "nbformat_minor": 0,
  "metadata": {
    "colab": {
      "provenance": [],
      "toc_visible": true,
      "authorship_tag": "ABX9TyPDwqB2kUdvh2yNigE2tNmr",
      "include_colab_link": true
    },
    "kernelspec": {
      "name": "python3",
      "display_name": "Python 3"
    },
    "language_info": {
      "name": "python"
    }
  },
  "cells": [
    {
      "cell_type": "markdown",
      "metadata": {
        "id": "view-in-github",
        "colab_type": "text"
      },
      "source": [
        "<a href=\"https://colab.research.google.com/github/tugcecicekli/Math-2024-25-Winter/blob/main/23_Taylor_Series.ipynb\" target=\"_parent\"><img src=\"https://colab.research.google.com/assets/colab-badge.svg\" alt=\"Open In Colab\"/></a>"
      ]
    },
    {
      "cell_type": "markdown",
      "source": [
        "##Taylor Series\n",
        "\n",
        "A **Taylor series** is an infinite series expansion of a function around a point. It provides an approximation of a function as a sum of its derivatives at a specific point, multiplied by powers of the input variable.\n",
        "\n",
        "#### 1. **General Form of Taylor Series**\n",
        "Given a function $f(x)$, the Taylor series expansion of $f(x)$ around a point $a$ is:\n",
        "\n",
        "$f(x) = f(a) + \\frac{f'(a)}{1!}(x - a) + \\frac{f''(a)}{2!}(x - a)^2 + \\frac{f^{(3)}(a)}{3!}(x - a)^3 + \\cdots$\n",
        "\n",
        "Or, in summation notation:\n",
        "\n",
        "$f(x) = \\sum_{n=0}^{\\infty} \\frac{f^{(n)}(a)}{n!} (x - a)^n$\n",
        "\n",
        "Where:\n",
        "- $f^{(n)}(a)$ is the $n$-th derivative of $f$ evaluated at $x = a$\n",
        "- $(x - a)^n$ is the power of $(x - a)$\n",
        "- $n!$ is the factorial of $n$\n",
        "\n",
        "#### 2. **Key Components of Taylor Series**\n",
        "- **$a$**: The point around which the series is expanded (often taken as $a = 0$, leading to the **Maclaurin series**).\n",
        "- **Derivatives**: The coefficients of each term are determined by the derivatives of $f(x)$ at the point $a$.\n",
        "- **Factorial terms**: The factorial in the denominator normalizes the series for each term.\n",
        "  \n",
        "#### 3. **Maclaurin Series**\n",
        "When $a = 0$, the Taylor series is called the **Maclaurin series**:\n",
        "\n",
        "$f(x) = f(0) + \\frac{f'(0)}{1!}x + \\frac{f''(0)}{2!}x^2 + \\frac{f^{(3)}(0)}{3!}x^3 + \\cdots$\n",
        "\n",
        "Some common Maclaurin series expansions:\n",
        "- $e^x = 1 + x + \\frac{x^2}{2!} + \\frac{x^3}{3!} + \\cdots$\n",
        "- $\\sin(x) = x - \\frac{x^3}{3!} + \\frac{x^5}{5!} - \\cdots$\n",
        "- $\\cos(x) = 1 - \\frac{x^2}{2!} + \\frac{x^4}{4!} - \\cdots$\n",
        "- $\\ln(1+x) = x - \\frac{x^2}{2} + \\frac{x^3}{3} - \\cdots$ (valid for $|x| < 1 )$\n",
        "\n",
        "#### 4. **Convergence of Taylor Series**\n",
        "Not all functions have a Taylor series that converges to the function for all values of $x$. The **radius of convergence** of the Taylor series is the distance from the center of expansion $a$ to the nearest singularity of the function in the complex plane. The Taylor series converges within this radius.\n",
        "\n",
        "- **Absolute Convergence**: The Taylor series converges to the function if the series converges absolutely at $x$.\n",
        "- **Interval of Convergence**: The interval within which the Taylor series converges to the function.\n",
        "\n",
        "#### 5. **Error in Approximation (Lagrange Remainder)**\n",
        "The remainder term (or error) in approximating $f(x)$ by truncating the Taylor series after $n$ terms is given by the **Lagrange form** of the remainder:\n",
        "\n",
        "$R_n(x) = \\frac{f^{(n+1)}(c)}{(n+1)!}(x - a)^{n+1}$\n",
        "\n",
        "Where $c$ is some point between $a$ and $x$. The remainder provides an estimate of the error in the approximation.\n",
        "\n",
        "#### 6. **Practical Use**\n",
        "- **Approximation**: Taylor series is often used to approximate functions that are difficult to compute exactly, especially for small values of $x$.\n",
        "- **Solving Differential Equations**: Taylor series is useful for solving linear ordinary differential equations near an equilibrium point.\n"
      ],
      "metadata": {
        "id": "hotmaxHjFZIN"
      }
    },
    {
      "cell_type": "markdown",
      "source": [
        "##Exercises"
      ],
      "metadata": {
        "id": "brEe3HgpG-tV"
      }
    },
    {
      "cell_type": "markdown",
      "source": [
        "###1\n",
        "\n",
        "Find the Taylor series and visualize obtained functions in Geogebra:\n",
        "\n",
        "$f=cos(x)$ around $x=0$ up to the 4th degree.\n",
        "\n",
        "$h(x)=1/(1-x)$ around $x=0$ up to the 4th degree.\n",
        "\n",
        "$g(x)=sin(x)$ around $x=Π$ up to the 4th degree."
      ],
      "metadata": {
        "id": "JkQYlBE2HA8R"
      }
    },
    {
      "cell_type": "markdown",
      "source": [
        "###2\n",
        "\n",
        "Find a tangent line $y=f'(x_0)(x-x_0)+f(x_0)$ to the function $f(x)=e^{sin(x)}$ at $x_0=Π$. Hints for Geogebra visualization: define $f(x)$,include slider $s$,define $y=f'(s)(x-s)+f(s)$ and include point $P(s,f(s))$"
      ],
      "metadata": {
        "id": "Tdq0NRQ1H-Ep"
      }
    },
    {
      "cell_type": "code",
      "execution_count": null,
      "metadata": {
        "id": "83VBf5FiFTRz"
      },
      "outputs": [],
      "source": []
    }
  ]
}