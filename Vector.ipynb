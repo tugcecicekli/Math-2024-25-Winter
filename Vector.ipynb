{
  "nbformat": 4,
  "nbformat_minor": 0,
  "metadata": {
    "colab": {
      "provenance": [],
      "toc_visible": true,
      "authorship_tag": "ABX9TyNSFrdCti6jMdjKQ+rB4SbM",
      "include_colab_link": true
    },
    "kernelspec": {
      "name": "python3",
      "display_name": "Python 3"
    },
    "language_info": {
      "name": "python"
    }
  },
  "cells": [
    {
      "cell_type": "markdown",
      "metadata": {
        "id": "view-in-github",
        "colab_type": "text"
      },
      "source": [
        "<a href=\"https://colab.research.google.com/github/tugcecicekli/Math-2024-25-Winter/blob/main/Vector.ipynb\" target=\"_parent\"><img src=\"https://colab.research.google.com/assets/colab-badge.svg\" alt=\"Open In Colab\"/></a>"
      ]
    },
    {
      "cell_type": "code",
      "execution_count": null,
      "metadata": {
        "colab": {
          "base_uri": "https://localhost:8080/",
          "height": 435
        },
        "id": "KigHrpwLmDL9",
        "outputId": "926bb08e-5bc8-442e-8f3b-45872f9cbe0b"
      },
      "outputs": [
        {
          "output_type": "display_data",
          "data": {
            "text/plain": [
              "<Figure size 640x480 with 1 Axes>"
            ],
            "image/png": "[encoded data removed]"
          },
          "metadata": {}
        }
      ],
      "source": [
        "import matplotlib.pyplot as plt # import the matplotlib.pyplot module\n",
        "\n",
        "plt.figure() # create a new figure\n",
        "plt.quiver(0,0,3,4, angles='xy', scale_units='xy', scale=1, color='r') # quick way to plot a vector quiver(x_start, y_start, x_vector_component, y_vector_component)\n",
        "plt.xlim(0,5) # set x-axis range\n",
        "plt.ylim(0,5) # set y-axis range\n",
        "plt.grid(True) # enable grid\n",
        "plt.gca().set_aspect('equal') # set equal scaling on x and y axes\n",
        "plt.show()"
      ]
    },
    {
      "cell_type": "markdown",
      "source": [
        "### More compliacted example"
      ],
      "metadata": {
        "id": "uhbmQ9mxn-HR"
      }
    },
    {
      "cell_type": "code",
      "source": [
        "import matplotlib.pyplot as plt # import the matplotlib.pyplot module #example of vector addition in two-dimensional space\n",
        "\n",
        "plt.figure() # create a new figure\n",
        "plt.quiver(0,0,2,1, angles='xy', scale_units='xy', scale=1, color='r') # quick way to plot a vector quiver(x_start, y_start, x_vector_component, y_vector_component\n",
        "plt.quiver(0,0,1,2, angles='xy', scale_units='xy', scale=1, color='b') # quick way to plot a vector quiver(x_start, y_start, x_vector_component, y_vector_component\n",
        "plt.quiver(0,0,3,3, angles='xy', scale_units='xy', scale=1, color='g') # quick way to plot a vector quiver(x_start, y_start, x_vector_component, y_vector_component\n",
        "plt.quiver(1,2,2,1, angles='xy', scale_units='xy', scale=1, color='y') # quick way to plot a vector quiver(x_start, y_start, x_vector_component, y_vector_component\n",
        "plt.quiver(2,1,1,2, angles='xy', scale_units='xy', scale=1, color='m') # quick way to plot a vector quiver(x_start, y_start, x_vector_component, y_vector_component\n",
        "plt.xlim(-1,4) # set x-axis range\n",
        "plt.ylim(-1,4) # set y-axis ranfe\n",
        "plt.grid(True) # enable grid\n",
        "plt.gca().set_aspect ('equal') # set equal scaling on x and y axes\n",
        "plt.show()"
      ],
      "metadata": {
        "colab": {
          "base_uri": "https://localhost:8080/",
          "height": 435
        },
        "id": "yjNW6Ff7n9J0",
        "outputId": "cdca4f8b-987f-47c3-b2e2-6f8c3b49c539"
      },
      "execution_count": null,
      "outputs": [
        {
          "output_type": "display_data",
          "data": {
            "text/plain": [
              "<Figure size 640x480 with 1 Axes>"
            ],
            "image/png": "[encoded data removed]"
          },
          "metadata": {}
        }
      ]
    },
    {
      "cell_type": "markdown",
      "source": [
        "#Vectors-Introduction"
      ],
      "metadata": {
        "id": "_3vZ1hqxgW9Q"
      }
    },
    {
      "cell_type": "markdown",
      "source": [
        "## Student Exercises\n",
        "\n",
        "A. By what number should vector $\\mathbf{a} = [3, 4]$ be multiplied so that its length is equal to 1?\n",
        "\n",
        "B. Calculate the length of vector $\\mathbf{b} = [1, 1]$ and find the unit vector of this vector.\n",
        "\n",
        "C. Plot the vector and the unit vector from the previous exercise.\n",
        "\n",
        "D. Calculate the length of vector $\\mathbf{c} = [1, 2, 3]$ and find the unit vector of this vector.\n",
        "\n",
        "E. Find the Cartesian coordinates of vector $\\mathbf{v} = [2, 3, 4]$ in the basis $\\{\\mathbf{b_1} = [1, 0, 1], \\mathbf{b_2} = [0, 1, 0], \\mathbf{b_3} = [1, 0, -1]\\}$."
      ],
      "metadata": {
        "id": "oPs8Aqmywpmn"
      }
    },
    {
      "cell_type": "markdown",
      "source": [
        "###A"
      ],
      "metadata": {
        "id": "o7O1X_xCHhaa"
      }
    },
    {
      "cell_type": "code",
      "source": [
        "\n",
        "import sympy as sp\n",
        "print(\"To make the length of the vector A equal to 1 we need to multiply this vector by fraction 1/c, where c - is the magnitude of vector A/n\")\n",
        "a_x = 3\n",
        "a_y= 4\n",
        "print(f\"Vector A is A=[{a_x},{a_y}]\")\n",
        "magnitude_a=sp.sqrt(a_x**2+a_y**2)\n",
        "print(f\"Magnitude of vector A is {magnitude_a}\")\n",
        "print(f\"To make the length of the vector A equal to 1 we need to multiply this vector by fraction 1/c, where c - is the magnitude of vector A/n\")\n",
        "a_x1=3*1/magnitude_a\n",
        "a_y1=4*1/magnitude_a\n",
        "print(f\"\\nNew vector A_1 is A/{magnitude_a}=[{a_x1},{a_y1}]\")\n",
        "magnitude_a1=sp.sqrt(a_x1**2+a_y1**2)\n",
        "print(f\"Magnitude of vector A1 is {magnitude_a1}\")\n",
        "\n"
      ],
      "metadata": {
        "colab": {
          "base_uri": "https://localhost:8080/"
        },
        "id": "-E3OLAb8xIy8",
        "outputId": "6a732716-5b2f-45ea-8295-86e2581d2afd"
      },
      "execution_count": null,
      "outputs": [
        {
          "output_type": "stream",
          "name": "stdout",
          "text": [
            "To make the length of the vector A equal to 1 we need to multiply this vector by fraction 1/c, where c - is the magnitude of vector A/n\n",
            "Vector A is A=[3,4]\n",
            "Magnitude of vector A is 5\n",
            "To make the length of the vector A equal to 1 we need to multiply this vector by fraction 1/c, where c - is the magnitude of vector A/n\n",
            "\n",
            "New vector A_1 is A/5=[3/5,4/5]\n",
            "Magnitude of vector A1 is 1\n"
          ]
        }
      ]
    },
    {
      "cell_type": "markdown",
      "source": [],
      "metadata": {
        "id": "laVxGzKfxFKo"
      }
    },
    {
      "cell_type": "markdown",
      "source": [
        "###B"
      ],
      "metadata": {
        "id": "9AELjI8PHlhc"
      }
    },
    {
      "cell_type": "code",
      "source": [
        "import sympy as sp\n",
        "b_x,b_y=sp.symbols('b_x b_y')\n",
        "b_x=1\n",
        "b_y=1\n",
        "magnitude_b=sp.sqrt(b_x**2+b_y**2)\n",
        "magnitude_b"
      ],
      "metadata": {
        "colab": {
          "base_uri": "https://localhost:8080/",
          "height": 38
        },
        "id": "VY0jkF0gHdKA",
        "outputId": "75bc5eed-e1e3-4707-ae7d-9a6711bc4e95"
      },
      "execution_count": null,
      "outputs": [
        {
          "output_type": "execute_result",
          "data": {
            "text/plain": [
              "sqrt(2)"
            ],
            "text/latex": "$\\displaystyle \\sqrt{2}$"
          },
          "metadata": {},
          "execution_count": 16
        }
      ]
    },
    {
      "cell_type": "code",
      "source": [
        "b=[1,1]\n",
        "b_0=(b[0]/magnitude_b)\n",
        "b_1=(b[1]/magnitude_b)\n",
        "c=[b_0,b_1]\n",
        "c # If you multiply the down part to the same number for taking out the square root you get the square root in the upper part"
      ],
      "metadata": {
        "colab": {
          "base_uri": "https://localhost:8080/"
        },
        "id": "yGSRdIKUKT1P",
        "outputId": "2881797e-5003-49a8-db4f-a3aaaebd49a7"
      },
      "execution_count": null,
      "outputs": [
        {
          "output_type": "execute_result",
          "data": {
            "text/plain": [
              "[sqrt(2)/2, sqrt(2)/2]"
            ]
          },
          "metadata": {},
          "execution_count": 17
        }
      ]
    },
    {
      "cell_type": "code",
      "source": [
        "1/sp.sqrt(2)"
      ],
      "metadata": {
        "colab": {
          "base_uri": "https://localhost:8080/",
          "height": 55
        },
        "id": "UkP1y8TXMAiO",
        "outputId": "42e34781-1338-4c0b-8a64-761c31e30a05"
      },
      "execution_count": null,
      "outputs": [
        {
          "output_type": "execute_result",
          "data": {
            "text/plain": [
              "sqrt(2)/2"
            ],
            "text/latex": "$\\displaystyle \\frac{\\sqrt{2}}{2}$"
          },
          "metadata": {},
          "execution_count": 18
        }
      ]
    },
    {
      "cell_type": "code",
      "source": [
        "import matplotlib.pyplot as plt\n",
        "import sympy as sp\n",
        "import math\n",
        "plt.figure()\n",
        "plt.quiver(0,0,1,1,angles='xy',scale_units='xy',scale=1,color='r', label='Vector b=[1,1]')\n",
        "magnitude_b=math.sqrt(2)\n",
        "b_xy=1/magnitude_b\n",
        "plt.quiver(0,0, b_xy, b_xy, angles='xy', scale_units='xy',scale=1,color='b',label='Unit vector b-hat')\n",
        "\n",
        "plt.xlim(0,2)\n",
        "plt.ylim(0,2)\n",
        "plt.grid(True)\n",
        "plt.gca().set_aspect('equal')\n",
        "\n",
        "plt.show()\n"
      ],
      "metadata": {
        "colab": {
          "base_uri": "https://localhost:8080/",
          "height": 435
        },
        "id": "7o9pEM8HLReb",
        "outputId": "c61b5bfd-0dfc-4635-8016-7e50f4a75e48"
      },
      "execution_count": null,
      "outputs": [
        {
          "output_type": "display_data",
          "data": {
            "text/plain": [
              "<Figure size 640x480 with 1 Axes>"
            ],
            "image/png": "[encoded data removed]"
          },
          "metadata": {}
        }
      ]
    },
    {
      "cell_type": "markdown",
      "source": [
        "D. The length of vector $c=[1,2,3]$\n",
        "\n",
        "$|c|=\\sqrt{1^2+2^2+3^2}=\\sqrt{1+4+9}=\\sqrt{14}$"
      ],
      "metadata": {
        "id": "2xPmGQiab9GQ"
      }
    },
    {
      "cell_type": "markdown",
      "source": [
        "E. $\\mathbf{v} = [2, 3, 4]$ in the basis $\\{\\mathbf{b_1} = [1, 0, 1], \\mathbf{b_2} = [0, 1, 0], \\mathbf{b_3} = [1, 0, -1]\\}$ is\n",
        "$\\mathbf{v}=c_1⋅\\mathbf{b_1}+c_2⋅\\mathbf{b_2}+c_3+\\mathbf{b_3}=2⋅[1,0,1]+3⋅[0,1,0]+4⋅[1,0,-1]=[2,0,2]+[0,3,0]+[4,0,-4]=[6,3,-2]$"
      ],
      "metadata": {
        "id": "FNSgdx47dIuC"
      }
    },
    {
      "cell_type": "markdown",
      "source": [
        "# Vectors-Products"
      ],
      "metadata": {
        "id": "NsvTcv1AgSsE"
      }
    },
    {
      "cell_type": "markdown",
      "source": [
        "## Student Exercises\n",
        "\n",
        "A. Perform the addition of vector $[2, 1]$ to vector $[-1, 1]$. Plot both vectors and their sum on a graph.\n",
        "\n",
        "B. Calculate the area of the triangle spanned by vectors $[2, 1]$ and $[-1, 1]$.\n",
        "\n",
        "C. Calculate the volume of the parallelepiped spanned by vectors $[2, 1]$, $[-1, 1]$, and $[1, 2]$.\n",
        "\n",
        "D. Check if vectors $[2, 1]$ and $[-1, 1]$ are perpendicular.\n",
        "\n",
        "E. Calculate the angle in degrees between vectors $[4,2,1]$ and $[1,3,2]$.\n",
        "\n",
        "F. For three-dimensional vectors: $\\mathbf{a}=[a_x, a_y, a_z]$, $\\mathbf{b}=[b_x, b_y, b_z]$, $\\mathbf{c}=[c_x, c_y, c_z]$, prove that the following identity is satisfied:\n",
        "\n",
        "$$\n",
        "\\mathbf{a} \\times (\\mathbf{b} \\times \\mathbf{c}) = (\\mathbf{a} \\cdot \\mathbf{c}) \\mathbf{b} - (\\mathbf{a} \\cdot \\mathbf{b}) \\mathbf{c}.\n",
        "$$"
      ],
      "metadata": {
        "id": "nR397_AsgPjS"
      }
    },
    {
      "cell_type": "markdown",
      "source": [
        "### A"
      ],
      "metadata": {
        "id": "1alAXTKDgmd9"
      }
    },
    {
      "cell_type": "code",
      "source": [
        "# Vector addition\n",
        "import sympy as sp\n",
        "a=sp.Matrix([2,1])\n",
        "b=sp.Matrix([-1,1])\n",
        "c=[a[0]+b[0],a[1]+b[1]]\n",
        "c"
      ],
      "metadata": {
        "colab": {
          "base_uri": "https://localhost:8080/"
        },
        "id": "BI54bhTugAYE",
        "outputId": "e44e0158-6acc-4617-ad14-97f18f04b2ca"
      },
      "execution_count": null,
      "outputs": [
        {
          "output_type": "execute_result",
          "data": {
            "text/plain": [
              "[1, 2]"
            ]
          },
          "metadata": {},
          "execution_count": 21
        }
      ]
    },
    {
      "cell_type": "code",
      "source": [
        "import matplotlib.pyplot as plt # import matplotlib.pyplot module\n",
        "plt.figure() # create a new figure\n",
        "plt.quiver(0,0,2,1,angles='xy',scale_units='xy',scale=1,color='r') # plot vectors quiver\n",
        "plt.quiver(0,0,-1,1,angles='xy',scale_units='xy',scale=1,color='b') # plot vectors quiver\n",
        "plt.quiver(0,0,1,2,angles='xy',scale_units='xy',scale=1,color='g') # plot vectors quiver\n",
        "plt.xlim(-2,4) # set x-axis range\n",
        "plt.ylim(-2,4) # set y-axis range\n",
        "plt.grid(True) # enable grid\n",
        "plt.gca().set_aspect('equal') # set equal scaling on x and y axes\n",
        "plt.show()"
      ],
      "metadata": {
        "colab": {
          "base_uri": "https://localhost:8080/",
          "height": 435
        },
        "id": "Dl8J0dyWg-Wu",
        "outputId": "ef48332a-6ac2-4bce-e38a-a3972bca97cc"
      },
      "execution_count": null,
      "outputs": [
        {
          "output_type": "display_data",
          "data": {
            "text/plain": [
              "<Figure size 640x480 with 1 Axes>"
            ],
            "image/png": "[encoded data removed]"
          },
          "metadata": {}
        }
      ]
    },
    {
      "cell_type": "markdown",
      "source": [
        "###B\n",
        "Calculate the area of the triangle spanned by vectors [2,1] and[-1,1]\n",
        "Area=$\\frac{1}{2}⋅(det\\begin{bmatrix} a_x&b_x\\\\a_y&b_y\\end{bmatrix})=\\frac{1}{2}⋅(det\\begin{bmatrix} 2&-1\\\\1&1\\end{bmatrix})$\n",
        "\n",
        "Calculate the determinant\n",
        "$\\det=\\begin{bmatrix} 2&-1\\\\1&1\\end{bmatrix}=(2)⋅(1)-(-1)⋅(1)=2+1=3$\n",
        "\n",
        "Calculate the area\n",
        "\n",
        "$\\frac{1}{2}|3|=\\frac{3}{2}=1,5$\n",
        "\n",
        "$Area=1,5$"
      ],
      "metadata": {
        "id": "kMbTMLkIjt5C"
      }
    },
    {
      "cell_type": "markdown",
      "source": [
        "\n",
        "\n",
        "### C\n",
        "Given:\n",
        "$[\\mathbf{a} = [2, 1, 0], \\quad \\mathbf{b} = [-1, 1, 0], \\quad \\mathbf{c} = [1, 2, 3]]$\n",
        "\n",
        "---\n",
        "\n",
        "### Step 1: Compute the cross product $(\\mathbf{b} \\times \\mathbf{c})$\n",
        "The formula for the cross product of two vectors $(\\mathbf{u} = [u_1, u_2, u_3])$ and $(\\mathbf{v} = [v_1, v_2, v_3])$ is:\n",
        "$[\\mathbf{u} \\times \\mathbf{v} = \\begin{vmatrix}\n",
        "\\mathbf{i} & \\mathbf{j} & \\mathbf{k} \\\\u_1 & u_2 & u_3 \\\\v_1 & v_2 & v_3\\end{vmatrix}]$\n",
        "\n",
        "For $(\\mathbf{b} = [-1, 1, 0])$ and $(\\mathbf{c} = [1, 2,3])$:\n",
        "$[\\mathbf{b} \\times \\mathbf{c} = \\begin{vmatrix}\n",
        "\\mathbf{i} & \\mathbf{j} & \\mathbf{k} \\\\\n",
        "-1 & 1 & 0 \\\\1 & 2 & 3\\end{vmatrix}\n",
        "= \\mathbf{i}(1 \\cdot 3 - 0 \\cdot 2) - \\mathbf{j}(-1 \\cdot 3 - 0 \\cdot 1) + \\mathbf{k}(-1 \\cdot 2 - 1 \\cdot 1)]$\n",
        "$[= \\mathbf{i}(3) - \\mathbf{j}(-3) + \\mathbf{k}(-2 - 1)]$\n",
        "$[= [3, 3, -3]$\n",
        "\n",
        "So:\n",
        "\n",
        "$[\\mathbf{b} \\times \\mathbf{c} = [3, 3, -3]]$\n",
        "\n",
        "---\n",
        "\n",
        "### Step 2: Compute the dot product $(\\mathbf{a} \\cdot (\\mathbf{b} \\times \\mathbf{c}))$\n",
        "The formula for the dot product of two vectors $(\\mathbf{u} = [u_1, u_2, u_3])$ and $(\\mathbf{v} = [v_1, v_2, v_3])$ is:\n",
        "$[\\mathbf{u} \\cdot \\mathbf{v} = u_1 v_1 + u_2 v_2 + u_3 v_3]$\n",
        "\n",
        "For\n",
        "$(\\mathbf{a} = [2, 1, 0])$ and $(\\mathbf{b} \\times \\mathbf{c} = [3, 3, -3])$:\n",
        "$[\\mathbf{a} \\cdot (\\mathbf{b} \\times \\mathbf{c}) = (2)(3) + (1)(3) + (0)(-3)]$\n",
        "$[= 6 + 3 + 0 = 9]$\n",
        "\n",
        "---\n",
        "### Step 3: Take the absolute value\n",
        "$\\text{Volume} =\\mathbf{a} \\cdot (\\mathbf{b} \\times \\mathbf{c})| = |9| = 9$\n",
        "\n",
        "---\n",
        "\n",
        "### Final Answer:\n",
        "The volume of the parallelepiped is $(9)$."
      ],
      "metadata": {
        "id": "Wk3WLlLIlwkV"
      }
    },
    {
      "cell_type": "markdown",
      "source": [],
      "metadata": {
        "id": "NFRQhZAbxQyC"
      }
    },
    {
      "cell_type": "markdown",
      "source": [
        "###D\n",
        "Check if the vectors [2,1] and [-1,1] are perpendicular\n",
        "\n",
        "Calculate the dot product\n",
        "\n",
        "$2⋅(-1)+1⋅1=-1$\n",
        "\n",
        "Dot product=$-1$\n",
        "\n",
        "Since the dot product is not zero the vectors are not perpendicular"
      ],
      "metadata": {
        "id": "mgavLBlUzPEJ"
      }
    },
    {
      "cell_type": "markdown",
      "source": [
        "###E\n",
        "\n",
        "Calculate the angle in degrees between vectors [4,2,1],[1,3,2]\n",
        "\n",
        "Calculate the dot product : $[4,2,1]⋅[1,3,2]=4⋅1+2⋅3+1⋅2=4+6+2=12$\n",
        "\n",
        "Calculate the magnitude of the vectors $\\|\\mathbf{b}\\|=\\sqrt{{1}^2+{3}^2+{2}^2}=\\sqrt{1+9+4}=\\sqrt{14}$\n",
        "\n",
        "Calculate the cosine of the angle:\n",
        "\n",
        "$\\cosΘ=\\frac{\\mathbf{a}⋅\\mathbf{b}}{\\|\\mathbf{a}\\|\\|\\mathbf{b}\\|=\\frac{12}{\\sqrt{21}\\sqrt{14}}=\\frac{12}{\\sqrt{294}}}$\n",
        "\n",
        "Calculate the angle in degrees\n",
        "\n",
        "$Θ=\\arccos\\left(\\frac{12}{\\sqrt{294}}\\right)≈0.756\\text{radians}$\n",
        "\n",
        "Converting to degrees\n",
        "\n",
        "$Θ≈0.756⋅\\frac{180}{Π}≈43.31^{∘}$\n",
        "\n",
        "Therefore the angle between the vectors [4,2,1] and [1,3,2] is approximately $43.31^{∘}$\n",
        "\n"
      ],
      "metadata": {
        "id": "-qxGralt0D0v"
      }
    }
  ]
}