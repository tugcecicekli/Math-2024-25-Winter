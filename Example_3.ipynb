{
  "nbformat": 4,
  "nbformat_minor": 0,
  "metadata": {
    "colab": {
      "provenance": [],
      "toc_visible": true,
      "authorship_tag": "ABX9TyMphCu9oMboI6PzuY4ZkxBK",
      "include_colab_link": true
    },
    "kernelspec": {
      "name": "python3",
      "display_name": "Python 3"
    },
    "language_info": {
      "name": "python"
    }
  },
  "cells": [
    {
      "cell_type": "markdown",
      "metadata": {
        "id": "view-in-github",
        "colab_type": "text"
      },
      "source": [
        "<a href=\"https://colab.research.google.com/github/tugcecicekli/Math-2024-25-Winter/blob/main/Example_3.ipynb\" target=\"_parent\"><img src=\"https://colab.research.google.com/assets/colab-badge.svg\" alt=\"Open In Colab\"/></a>"
      ]
    },
    {
      "cell_type": "markdown",
      "source": [
        "# Matrix Inversion\n",
        "\n",
        "The inverse of a matrix $A$ is a matrix $A^{-1}$ such that $A \\cdot A^{-1} = A^{-1} \\cdot A = I$, where $I$ is the identity matrix.\n",
        "\n",
        "**Example 1:**"
      ],
      "metadata": {
        "id": "-rnzLO3BVUku"
      }
    },
    {
      "cell_type": "code",
      "source": [
        "import sympy as sp # import sympy library\n",
        "k1 = sp.Matrix([[2, 1, 2], [5, 3, 1], [1, 1, 5]]) # create matrix k1\n",
        "k1"
      ],
      "metadata": {
        "colab": {
          "base_uri": "https://localhost:8080/",
          "height": 78
        },
        "id": "MmUI0pj_Vjda",
        "outputId": "1cba3d25-649d-4b00-b451-29a352e4ba9f"
      },
      "execution_count": 2,
      "outputs": [
        {
          "output_type": "execute_result",
          "data": {
            "text/plain": [
              "Matrix([\n",
              "[2, 1, 2],\n",
              "[5, 3, 1],\n",
              "[1, 1, 5]])"
            ],
            "text/latex": "$\\displaystyle \\left[\\begin{matrix}2 & 1 & 2\\\\5 & 3 & 1\\\\1 & 1 & 5\\end{matrix}\\right]$"
          },
          "metadata": {},
          "execution_count": 2
        }
      ]
    },
    {
      "cell_type": "code",
      "source": [
        "inverse_k1 = k1.inv() # calculate the inverse of matrix k1\n",
        "inverse_k1"
      ],
      "metadata": {
        "colab": {
          "base_uri": "https://localhost:8080/",
          "height": 78
        },
        "id": "M4iHlCHfVkgg",
        "outputId": "f62705bb-d879-4b41-9cb7-118b1d6b7831"
      },
      "execution_count": 3,
      "outputs": [
        {
          "output_type": "execute_result",
          "data": {
            "text/plain": [
              "Matrix([\n",
              "[7/4, -3/8, -5/8],\n",
              "[ -3,    1,    1],\n",
              "[1/4, -1/8,  1/8]])"
            ],
            "text/latex": "$\\displaystyle \\left[\\begin{matrix}\\frac{7}{4} & - \\frac{3}{8} & - \\frac{5}{8}\\\\-3 & 1 & 1\\\\\\frac{1}{4} & - \\frac{1}{8} & \\frac{1}{8}\\end{matrix}\\right]$"
          },
          "metadata": {},
          "execution_count": 3
        }
      ]
    },
    {
      "cell_type": "code",
      "source": [
        "k1 * inverse_k1 # verify if multiplying the matrix by its inverse yields the identity matrix"
      ],
      "metadata": {
        "colab": {
          "base_uri": "https://localhost:8080/",
          "height": 78
        },
        "id": "rD6Tz1w9Vo5J",
        "outputId": "24318749-1194-4e8e-8eee-27937f3bccf3"
      },
      "execution_count": 4,
      "outputs": [
        {
          "output_type": "execute_result",
          "data": {
            "text/plain": [
              "Matrix([\n",
              "[1, 0, 0],\n",
              "[0, 1, 0],\n",
              "[0, 0, 1]])"
            ],
            "text/latex": "$\\displaystyle \\left[\\begin{matrix}1 & 0 & 0\\\\0 & 1 & 0\\\\0 & 0 & 1\\end{matrix}\\right]$"
          },
          "metadata": {},
          "execution_count": 4
        }
      ]
    },
    {
      "cell_type": "markdown",
      "source": [
        "**Example 2:**"
      ],
      "metadata": {
        "id": "NEdHO9HbVgkH"
      }
    },
    {
      "cell_type": "code",
      "source": [
        "import sympy as sp\n",
        "a, b, c, d, e, f, g, h, i = sp.symbols('a b c d e f g h i') # define variables a-i\n",
        "k = sp.Matrix([[a, b, c], [d, e, f], [g, h, i]]) # create matrix k\n",
        "inverse_k = k.inv()\n",
        "inverse_k"
      ],
      "metadata": {
        "colab": {
          "base_uri": "https://localhost:8080/",
          "height": 89
        },
        "id": "R7QZrzAzWHvM",
        "outputId": "3e094232-c9c5-4e96-bc5c-6046f762a4f6"
      },
      "execution_count": 5,
      "outputs": [
        {
          "output_type": "execute_result",
          "data": {
            "text/plain": [
              "Matrix([\n",
              "[ (e*i - f*h)/(a*e*i - a*f*h - b*d*i + b*f*g + c*d*h - c*e*g), (-b*i + c*h)/(a*e*i - a*f*h - b*d*i + b*f*g + c*d*h - c*e*g),  (b*f - c*e)/(a*e*i - a*f*h - b*d*i + b*f*g + c*d*h - c*e*g)],\n",
              "[(-d*i + f*g)/(a*e*i - a*f*h - b*d*i + b*f*g + c*d*h - c*e*g),  (a*i - c*g)/(a*e*i - a*f*h - b*d*i + b*f*g + c*d*h - c*e*g), (-a*f + c*d)/(a*e*i - a*f*h - b*d*i + b*f*g + c*d*h - c*e*g)],\n",
              "[ (d*h - e*g)/(a*e*i - a*f*h - b*d*i + b*f*g + c*d*h - c*e*g), (-a*h + b*g)/(a*e*i - a*f*h - b*d*i + b*f*g + c*d*h - c*e*g),  (a*e - b*d)/(a*e*i - a*f*h - b*d*i + b*f*g + c*d*h - c*e*g)]])"
            ],
            "text/latex": "$\\displaystyle \\left[\\begin{matrix}\\frac{e i - f h}{a e i - a f h - b d i + b f g + c d h - c e g} & \\frac{- b i + c h}{a e i - a f h - b d i + b f g + c d h - c e g} & \\frac{b f - c e}{a e i - a f h - b d i + b f g + c d h - c e g}\\\\\\frac{- d i + f g}{a e i - a f h - b d i + b f g + c d h - c e g} & \\frac{a i - c g}{a e i - a f h - b d i + b f g + c d h - c e g} & \\frac{- a f + c d}{a e i - a f h - b d i + b f g + c d h - c e g}\\\\\\frac{d h - e g}{a e i - a f h - b d i + b f g + c d h - c e g} & \\frac{- a h + b g}{a e i - a f h - b d i + b f g + c d h - c e g} & \\frac{a e - b d}{a e i - a f h - b d i + b f g + c d h - c e g}\\end{matrix}\\right]$"
          },
          "metadata": {},
          "execution_count": 5
        }
      ]
    },
    {
      "cell_type": "markdown",
      "source": [
        "This complex form results from the formula that allows for the calculation of the elements of the inverse matrix. Before we proceed, let's define a few concepts.\n",
        "\n",
        "**Matrix Transposition** is an operation that swaps rows with columns. The transpose of a matrix $A$ is a matrix $A^T$ such that $A^T_{ij} = A_{ji}$."
      ],
      "metadata": {
        "id": "UyZmwlLFWSiS"
      }
    },
    {
      "cell_type": "code",
      "source": [
        "k"
      ],
      "metadata": {
        "colab": {
          "base_uri": "https://localhost:8080/",
          "height": 78
        },
        "id": "3QSX__74WToj",
        "outputId": "54eabb54-4506-4487-f2ac-190c07c46298"
      },
      "execution_count": 6,
      "outputs": [
        {
          "output_type": "execute_result",
          "data": {
            "text/plain": [
              "Matrix([\n",
              "[a, b, c],\n",
              "[d, e, f],\n",
              "[g, h, i]])"
            ],
            "text/latex": "$\\displaystyle \\left[\\begin{matrix}a & b & c\\\\d & e & f\\\\g & h & i\\end{matrix}\\right]$"
          },
          "metadata": {},
          "execution_count": 6
        }
      ]
    },
    {
      "cell_type": "code",
      "source": [
        "k.transpose() # transpose matrix k"
      ],
      "metadata": {
        "colab": {
          "base_uri": "https://localhost:8080/",
          "height": 78
        },
        "id": "aYZH90wAWV4j",
        "outputId": "e774aaa4-646f-46dc-a370-0f874d057244"
      },
      "execution_count": 7,
      "outputs": [
        {
          "output_type": "execute_result",
          "data": {
            "text/plain": [
              "Matrix([\n",
              "[a, d, g],\n",
              "[b, e, h],\n",
              "[c, f, i]])"
            ],
            "text/latex": "$\\displaystyle \\left[\\begin{matrix}a & d & g\\\\b & e & h\\\\c & f & i\\end{matrix}\\right]$"
          },
          "metadata": {},
          "execution_count": 7
        }
      ]
    },
    {
      "cell_type": "markdown",
      "source": [
        "**Minor** of a matrix $A$ is the determinant of the matrix obtained by removing the $i$-th row and $j$-th column. We denote it by $M_{ij}$."
      ],
      "metadata": {
        "id": "35pGj4KOWcRx"
      }
    },
    {
      "cell_type": "code",
      "source": [
        "# Minor of matrix $A$ is the determinant of the matrix obtained by removing the $i$-th row and $j$-th column. We denote it by $M_{ij}$.\n",
        "k2 = sp.Matrix([[1, 2, 3], [4, 5, 6], [7, 8, 9]])\n",
        "k2"
      ],
      "metadata": {
        "colab": {
          "base_uri": "https://localhost:8080/",
          "height": 78
        },
        "id": "4vPWN8ohWZdD",
        "outputId": "47ddbad6-5177-451b-f279-799d07090dfa"
      },
      "execution_count": 8,
      "outputs": [
        {
          "output_type": "execute_result",
          "data": {
            "text/plain": [
              "Matrix([\n",
              "[1, 2, 3],\n",
              "[4, 5, 6],\n",
              "[7, 8, 9]])"
            ],
            "text/latex": "$\\displaystyle \\left[\\begin{matrix}1 & 2 & 3\\\\4 & 5 & 6\\\\7 & 8 & 9\\end{matrix}\\right]$"
          },
          "metadata": {},
          "execution_count": 8
        }
      ]
    },
    {
      "cell_type": "code",
      "source": [
        "M01 = k2.minor_submatrix(0, 1) # calculate minor M01\n",
        "M01"
      ],
      "metadata": {
        "colab": {
          "base_uri": "https://localhost:8080/",
          "height": 58
        },
        "id": "Gt2dF_14WgJi",
        "outputId": "c3a41f69-882a-424d-cef1-28add0e70d9d"
      },
      "execution_count": 9,
      "outputs": [
        {
          "output_type": "execute_result",
          "data": {
            "text/plain": [
              "Matrix([\n",
              "[4, 6],\n",
              "[7, 9]])"
            ],
            "text/latex": "$\\displaystyle \\left[\\begin{matrix}4 & 6\\\\7 & 9\\end{matrix}\\right]$"
          },
          "metadata": {},
          "execution_count": 9
        }
      ]
    },
    {
      "cell_type": "code",
      "source": [
        "M22 = k2.minor_submatrix(2, 2) # calculate minor M22\n",
        "M22"
      ],
      "metadata": {
        "colab": {
          "base_uri": "https://localhost:8080/",
          "height": 58
        },
        "id": "IlMfWTlXWj_t",
        "outputId": "8ee5d435-7909-402a-e44a-9f87eadffa7f"
      },
      "execution_count": 10,
      "outputs": [
        {
          "output_type": "execute_result",
          "data": {
            "text/plain": [
              "Matrix([\n",
              "[1, 2],\n",
              "[4, 5]])"
            ],
            "text/latex": "$\\displaystyle \\left[\\begin{matrix}1 & 2\\\\4 & 5\\end{matrix}\\right]$"
          },
          "metadata": {},
          "execution_count": 10
        }
      ]
    },
    {
      "cell_type": "markdown",
      "source": [
        "**Cofactor** of element $a_{ij} = (-1)^{i+j} \\, M_{ij}$, which is the minor multiplied by $(-1)^{i+j}$.\n",
        "\n",
        "**Rank of a Matrix** is the largest degree of a non-zero minor of the matrix. The rank of a matrix is equal to the number of linearly independent rows or columns in the matrix."
      ],
      "metadata": {
        "id": "l1tjZUZ0WoeA"
      }
    },
    {
      "cell_type": "code",
      "source": [
        "k2.rank() # calculate the rank of matrix k2"
      ],
      "metadata": {
        "colab": {
          "base_uri": "https://localhost:8080/"
        },
        "id": "KohIPDfAWllL",
        "outputId": "396affd3-813a-455b-8028-05afa50e9308"
      },
      "execution_count": 11,
      "outputs": [
        {
          "output_type": "execute_result",
          "data": {
            "text/plain": [
              "2"
            ]
          },
          "metadata": {},
          "execution_count": 11
        }
      ]
    },
    {
      "cell_type": "markdown",
      "source": [
        "### Inverse of a 3x3 Matrix\n",
        "\n",
        "Using the transpose of the cofactor matrix (minors):\n",
        "\n",
        "$$K^{-1} =\n",
        "\\begin{bmatrix}\n",
        "a & b & c \\\\\n",
        "d & e & f \\\\\n",
        "g & h & i\n",
        "\\end{bmatrix}^{-1}\n",
        "= \\frac{1}{\\det(\\mathbf{K})}\n",
        "\\begin{bmatrix}\n",
        "A & B & C \\\\\n",
        "D & E & F \\\\\n",
        "G & H & I\n",
        "\\end{bmatrix}^T\n",
        "= \\frac{1}{\\det(\\mathbf{A})}\n",
        "\\begin{bmatrix}\n",
        "A & D & G \\\\\n",
        "B & E & H \\\\\n",
        "C & F & I\n",
        "\\end{bmatrix}\n",
        "$$\n",
        "\n",
        "If the determinant is non-zero, the matrix is invertible, and the elements of the intermediate matrix on the right-hand side of the above formula are determined by:\n",
        "\n",
        "$$\n",
        "\\begin{aligned}\n",
        "A &= \\text{det} \\left( \\begin{bmatrix} e & f \\\\ h & i \\end{bmatrix} \\right) & B &= -\\text{det} \\left( \\begin{bmatrix} d & f \\\\ g & i \\end{bmatrix} \\right) & C &= \\text{det} \\left( \\begin{bmatrix} d & e \\\\ g & h \\end{bmatrix} \\right) \\\\\n",
        "D &= -\\text{det} \\left( \\begin{bmatrix} b & c \\\\ h & i \\end{bmatrix} \\right) & E &= \\text{det} \\left( \\begin{bmatrix} a & c \\\\ g & i \\end{bmatrix} \\right) & F &= -\\text{det} \\left( \\begin{bmatrix} a & b \\\\ g & h \\end{bmatrix} \\right) \\\\\n",
        "G &= \\text{det} \\left( \\begin{bmatrix} b & c \\\\ e & f \\end{bmatrix} \\right) & H &= -\\text{det} \\left( \\begin{bmatrix} a & c \\\\ d & f \\end{bmatrix} \\right) & I &= \\text{det} \\left( \\begin{bmatrix} a & b \\\\ d & e \\end{bmatrix} \\right)\n",
        "\\end{aligned}\n",
        "$$\n",
        "\n",
        "These are the determinants of 2x2 matrices formed by removing the appropriate rows and columns and taking into account the sign $(-1)^{i+j}$.\n",
        "\n",
        "### Inverse of a 2x2 Matrix\n",
        "\n",
        "Similarly, for a 2x2 matrix, the inverse can be calculated using the cofactor matrix:\n",
        "\n",
        "$$\n",
        "\\mathbf{L}^{-1} =\n",
        "\\begin{bmatrix}\n",
        "a & b \\\\\n",
        "c & d\n",
        "\\end{bmatrix}^{-1}\n",
        "= \\frac{1}{\\det(\\mathbf{L})}\n",
        "\\begin{bmatrix}\n",
        "D & C \\\\\n",
        "B & A\n",
        "\\end{bmatrix}^T\n",
        "= \\frac{1}{\\det(\\mathbf{L})}\n",
        "\\begin{bmatrix}\n",
        "D & B \\\\\n",
        "C & A\n",
        "\\end{bmatrix}\n",
        "$$\n",
        "\n",
        "where $\\det(\\mathbf{L}) = ad - bc$\n",
        "\n",
        "If the determinant is non-zero, the matrix is invertible, and the elements of the intermediate matrix are given as:\n",
        "\n",
        "$$\n",
        "\\begin{aligned}\n",
        "A &= \\text{det} \\begin{bmatrix} d \\end{bmatrix} = d, & B &= -\\text{det} \\begin{bmatrix} b \\end{bmatrix} = -b, & C &= -\\text{det} \\begin{bmatrix} c \\end{bmatrix} = -c, &\n",
        "D &= \\text{det} \\begin{bmatrix} a \\end{bmatrix} = a.\n",
        "\\end{aligned}\n",
        "$$\n",
        "\n",
        "These elements are determined by calculating the determinants of 1x1 matrices formed by removing the appropriate rows and columns from the original 2x2 matrix and applying the corresponding signs $(-1)^{i+j}$."
      ],
      "metadata": {
        "id": "BXeVUkYjWsRG"
      }
    },
    {
      "cell_type": "markdown",
      "source": [
        "---\n",
        "\n",
        "## Exercises for Students\n",
        "\n",
        "1. Find the inverse matrix for\n",
        "\n",
        "$$\n",
        "\\begin{bmatrix}\n",
        "2 & 0 & 1 \\\\\n",
        "0 & 1 & 0 \\\\\n",
        "1 & 2 & 0\n",
        "\\end{bmatrix}\n",
        "$$\n",
        "\n",
        "and verify if the result is correct.\n",
        "\n",
        "2. Using the `det()` command, determine the rank of the matrix below\n",
        "$$\n",
        "A =\n",
        "\\begin{bmatrix}\n",
        "4 & -3 & 7 \\\\\n",
        "-1 & 6 & 3 \\\\\n",
        "2 & 9 & 1\n",
        "\\end{bmatrix}\n",
        "$$"
      ],
      "metadata": {
        "id": "ejYLs5djW3jh"
      }
    },
    {
      "cell_type": "markdown",
      "source": [
        "$\n",
        "A=\\begin{bmatrix} 2&0&1\\\\0&1&0\\\\1&2&0\\end{bmatrix}\n",
        "$\n",
        "\n",
        "$\n",
        "A^{-1}=\\frac{1}{\\det(\\mathbf{A})}⋅\\begin{bmatrix} a&b&c\\\\d&e&f\\\\g&h&i\\end{bmatrix}^{T}=\\frac{1}{\\det(\\mathbf{A})}⋅\\begin{bmatrix}det(a)&det(b)&det(c)\\\\det(d)&det(e)&det(f)\\\\det(g)&det(h)&det(i)\\end{bmatrix}^T=\\frac{1}{\\det(\\mathbf{A})}⋅\\begin{bmatrix}det(a)&det(d)&det(g)\\\\det(b)&det(e)&det(h)\\\\det(c)&det(f)&det(i)\\end{bmatrix}\n",
        "$\n",
        "\n",
        "$\n",
        "{\\det(\\mathbf{A})}=2⋅\\begin{bmatrix}1&0\\\\2&0\\end{bmatrix}-01⋅\\begin{bmatrix}0&1\\\\1&2\\end{bmatrix}=0-0-(-1)=-1\n",
        "$\n",
        "\n",
        "$\n",
        "\\begin{bmatrix}\n",
        "+\\begin{pmatrix}1&0\\\\2&0\\end{pmatrix}-\\begin{pmatrix}0&0\\\\1&0\\end{pmatrix}+\\begin{pmatrix}0&1\\\\1&2\\end{pmatrix}\\\\\n",
        "-\\begin{pmatrix}0&1\\\\2&0\\end{pmatrix}+\\begin{pmatrix}2&1\\\\2&0\\end{pmatrix}-\\begin{pmatrix}2&0\\\\1&2\\end{pmatrix}\\\\\n",
        "+\\begin{pmatrix}0&1\\\\1&0\\end{pmatrix}-\\begin{pmatrix}2&1\\\\0&0\\end{pmatrix}+\\begin{pmatrix}2&0\\\\0&1\\end{pmatrix}\\\\\n",
        "\\end{bmatrix}^T= \\begin{bmatrix}0&0&-1\\\\2&-1&-4\\\\-1&0&2\\end{bmatrix}^T=\\begin{bmatrix}0&2&-1\\\\0&-1&0\\\\-1&-4&2\\end{bmatrix}$\n",
        "\n",
        "$\n",
        "A^{-1}=\\frac{1}{-1}⋅\\begin{bmatrix}0&2&-1\\\\0&-1&0\\\\-1&-4&2\\end{bmatrix}=\\begin{bmatrix}0&-2&1\\\\0&1&0\\\\1&4&-2\\end{bmatrix}$"
      ],
      "metadata": {
        "id": "P1bYwbEHW4lf"
      }
    },
    {
      "cell_type": "code",
      "source": [
        "import sympy as sp\n",
        "\n",
        "# Define the matrix A\n",
        "A=sp.Matrix([[2,0,1],[0,1,0],[1,2,0]])\n",
        "\n",
        "# Calculate the inverse of A\n",
        "A_inv=A.inv()\n",
        "\n",
        "# Print the inverse of A\n",
        "print(A_inv)"
      ],
      "metadata": {
        "colab": {
          "base_uri": "https://localhost:8080/"
        },
        "id": "NIkg9ywse-Ef",
        "outputId": "b76035e7-d8cc-4fad-bcfd-543a85828a86"
      },
      "execution_count": 12,
      "outputs": [
        {
          "output_type": "stream",
          "name": "stdout",
          "text": [
            "Matrix([[0, -2, 1], [0, 1, 0], [1, 4, -2]])\n"
          ]
        }
      ]
    },
    {
      "cell_type": "markdown",
      "source": [
        "# **Triangular Matrices:**\n",
        "\n",
        "A **triangular matrix** is a special type of square matrix where all the elements either above or below the main diagonal are zero. The main diagonal of a matrix consists of elements $(a_{ii})$, where the row index equals the column index.\n",
        "\n",
        "There are two main types of triangular matrices:\n",
        "\n",
        "---\n",
        "\n",
        "### **1. Upper Triangular Matrix:**\n",
        "An upper triangular matrix is a square matrix where all the elements below the main diagonal are zero.\n",
        "\n",
        "#### **Definition:**\n",
        "$\\mathbf{A} =\n",
        "\\begin{pmatrix}\n",
        "a_{11} & a_{12} & a_{13} & \\dots & a_{1n} \\\\\n",
        "0 & a_{22} & a_{23} & \\dots & a_{2n} \\\\\n",
        "0 & 0 & a_{33} & \\dots & a_{3n} \\\\\n",
        "\\vdots & \\vdots & \\vdots & \\ddots & \\vdots \\\\\n",
        "0 & 0 & 0 & \\dots & a_{nn}\n",
        "\\end{pmatrix}$\n",
        "\n",
        "Here:\n",
        "$(a_{ij} = 0\\ for all (i > j)$\n",
        "\n",
        "#### **Example:**\n",
        "$\\mathbf{U} =\n",
        "\\begin{pmatrix}\n",
        "1 & 2 & 3 \\\\\n",
        "0 & 4 & 5 \\\\\n",
        "0 & 0 & 6\n",
        "\\end{pmatrix}\n",
        "$\n",
        "\n",
        "---\n",
        "\n",
        "### **2. Lower Triangular Matrix:**\n",
        "A lower triangular matrix is a square matrix where all the elements above the main diagonal are zero.\n",
        "\n",
        "#### **Definition:**\n",
        "$\n",
        "\\mathbf{A} =\n",
        "\\begin{pmatrix}\n",
        "a_{11} & 0 & 0 & \\dots & 0 \\\\\n",
        "a_{21} & a_{22} & 0 & \\dots & 0 \\\\\n",
        "a_{31} & a_{32} & a_{33} & \\dots & 0 \\\\\n",
        "\\vdots & \\vdots & \\vdots & \\ddots & \\vdots \\\\\n",
        "a_{n1} & a_{n2} & a_{n3} & \\dots & a_{nn}\n",
        "\\end{pmatrix}\n",
        "$\n",
        "\n",
        "Here:\n",
        "$(a_{ij} = 0) for all (i < j)$.\n",
        "\n",
        "#### **Example:**\n",
        "$\n",
        "\\mathbf{L} =\n",
        "\\begin{pmatrix}\n",
        "1 & 0 & 0 \\\\\n",
        "2 & 3 & 0 \\\\\n",
        "4 & 5 & 6\n",
        "\\end{pmatrix}\n",
        "$\n",
        "\n",
        "---\n",
        "\n",
        "### **Properties of Triangular Matrices:**\n",
        "1. **Square:** Triangular matrices are always square, meaning the number of rows equals the number of columns.\n",
        "2. **Determinant:**\n",
        "   - The determinant of a triangular matrix is the product of its diagonal elements:\n",
        "     $\n",
        "     \\text{det}(\\mathbf{A}) = \\prod_{i=1}^n a_{ii}.\n",
        "     $\n",
        "3. **Invertibility:**\n",
        "   - A triangular matrix is invertible if and only if all diagonal elements $(a_{ii} \\neq 0)$.\n",
        "4. **Transpose:**\n",
        "   - The transpose of an upper triangular matrix is a lower triangular matrix, and vice versa.\n",
        "\n",
        "---\n",
        "\n",
        "### **Applications of Triangular Matrices:**\n",
        "- **Efficient Computations:** Triangular matrices are easier to work with in numerical algorithms because of the large number of zero elements.\n",
        "- **Linear Algebra:** They are used in LU decomposition, Cholesky decomposition, and solving linear systems of equations.\n",
        "- **Eigenvalue Problems:** Simplify finding eigenvalues when in triangular form.\n"
      ],
      "metadata": {
        "id": "UzSliOOBhVeJ"
      }
    },
    {
      "cell_type": "code",
      "source": [
        "import sympy as sp\n",
        "from sympy import Matrix, symbols, Rational\n",
        "from IPython.display import display, Markdown\n",
        "\n",
        "class SymbolicMatrix:\n",
        "    def __init__(self, matrix):\n",
        "        self.matrix = Matrix(matrix).applyfunc(Rational)\n",
        "        self.operations = []\n",
        "        display(Markdown(\"**Initial Matrix:**\"))\n",
        "        display(self.matrix)  # Display the matrix upon initialization\n",
        "\n",
        "    def __repr__(self):\n",
        "        return repr(self.matrix)  # Use Matrix's repr\n",
        "\n",
        "    def __str__(self):\n",
        "        return str(self.matrix)  # Use Matrix's str\n",
        "\n",
        "    def _repr_latex_(self):\n",
        "        return self.matrix._repr_latex_()  # Delegate LaTeX display\n",
        "\n",
        "    def _validate_row_number(self, row):\n",
        "        if not isinstance(row, int):\n",
        "            raise TypeError(\"Row number must be an integer.\")\n",
        "        if row < 1 or row > self.matrix.rows:\n",
        "            raise IndexError(f\"Row number must be in the range from 1 to {self.matrix.rows}.\")\n",
        "        return row - 1\n",
        "\n",
        "    def _validate_col_number(self, col):\n",
        "        if not isinstance(col, int):\n",
        "            raise TypeError(\"Column number must be an integer.\")\n",
        "        if col < 1 or col > self.matrix.cols:\n",
        "            raise IndexError(f\"Column number must be in the range from 1 to {self.matrix.cols}.\")\n",
        "        return col - 1\n",
        "\n",
        "    # Row operations\n",
        "    def add_row(self, target_row, source_row, coefficient):\n",
        "        target_idx = self._validate_row_number(target_row)\n",
        "        source_idx = self._validate_row_number(source_row)\n",
        "        coefficient = Rational(coefficient)\n",
        "\n",
        "        self.matrix.row_op(target_idx, lambda v, j: v + coefficient * self.matrix[source_idx, j])\n",
        "        operation_str = f\"r{target_row} = r{target_row} + {coefficient}*r{source_row}\"\n",
        "        self.operations.append(operation_str)\n",
        "        display(Markdown(f\"**Operation:** {operation_str}\"))\n",
        "        display(self.matrix)\n",
        "\n",
        "    def multiply_row(self, row, coefficient):\n",
        "        row_idx = self._validate_row_number(row)\n",
        "        coefficient = Rational(coefficient)\n",
        "        self.matrix.row_op(row_idx, lambda v, _: coefficient * v)\n",
        "        operation_str = f\"r{row} = {coefficient}*r{row}\"\n",
        "        self.operations.append(operation_str)\n",
        "        display(Markdown(f\"**Operation:** {operation_str}\"))\n",
        "        display(self.matrix)\n",
        "\n",
        "    def swap_rows(self, row1, row2):\n",
        "        row1_idx = self._validate_row_number(row1)\n",
        "        row2_idx = self._validate_row_number(row2)\n",
        "        self.matrix.row_swap(row1_idx, row2_idx)\n",
        "        operation_str = f\"Swap r{row1} <-> r{row2}\"\n",
        "        self.operations.append(operation_str)\n",
        "        display(Markdown(f\"**Operation:** {operation_str}\"))\n",
        "        display(self.matrix)\n",
        "\n",
        "    # Column operations\n",
        "    def add_col(self, target_col, source_col, coefficient):\n",
        "        target_idx = self._validate_col_number(target_col)\n",
        "        source_idx = self._validate_col_number(source_col)\n",
        "        self.matrix.col_op(target_idx, lambda v, i: v + coefficient * self.matrix[i, source_idx])\n",
        "        operation_str = f\"c{target_col} = c{target_col} + {coefficient}*c{source_col}\"\n",
        "        self.operations.append(operation_str)\n",
        "        display(Markdown(f\"**Operation:** {operation_str}\"))\n",
        "        display(self.matrix)\n",
        "\n",
        "    def multiply_col(self, col, coefficient):\n",
        "        col_idx = self._validate_col_number(col)\n",
        "        self.matrix.col_op(col_idx, lambda v, _: coefficient * v)\n",
        "        operation_str = f\"c{col} = {coefficient}*c{col}\"\n",
        "        self.operations.append(operation_str)\n",
        "        display(Markdown(f\"**Operation:** {operation_str}\"))\n",
        "        display(self.matrix)\n",
        "\n",
        "    def swap_cols(self, col1, col2):\n",
        "        col1_idx = self._validate_col_number(col1)\n",
        "        col2_idx = self._validate_col_number(col2)\n",
        "        self.matrix.col_swap(col1_idx, col2_idx)\n",
        "        operation_str = f\"Swap c{col1} <-> c{col2}\"\n",
        "        self.operations.append(operation_str)\n",
        "        display(Markdown(f\"**Operation:** {operation_str}\"))\n",
        "        display(self.matrix)\n",
        "\n",
        "    # Display the operations performed\n",
        "    def print_operations(self):\n",
        "        display(Markdown(\"**Performed Operations:**\"))\n",
        "        for op in self.operations:\n",
        "            print(op)\n",
        "\n",
        "# Example usage\n",
        "mat = [[1, 2, 3], [2, 5, 3], [3, 2, 1]]\n",
        "\n",
        "m = SymbolicMatrix(mat) # instance of SymbolicMatrix class\n",
        "\n",
        "# define the same matrix for computation check\n",
        "original_matrix = sp.Matrix(mat)"
      ],
      "metadata": {
        "colab": {
          "base_uri": "https://localhost:8080/",
          "height": 107
        },
        "id": "v4DI8KUHhgSY",
        "outputId": "8a25607f-2d06-4f77-a6c5-93fc14e00f5d"
      },
      "execution_count": 1,
      "outputs": [
        {
          "output_type": "display_data",
          "data": {
            "text/plain": [
              "<IPython.core.display.Markdown object>"
            ],
            "text/markdown": "**Initial Matrix:**"
          },
          "metadata": {}
        },
        {
          "output_type": "display_data",
          "data": {
            "text/plain": [
              "Matrix([\n",
              "[1, 2, 3],\n",
              "[2, 5, 3],\n",
              "[3, 2, 1]])"
            ],
            "text/latex": "$\\displaystyle \\left[\\begin{matrix}1 & 2 & 3\\\\2 & 5 & 3\\\\3 & 2 & 1\\end{matrix}\\right]$"
          },
          "metadata": {}
        }
      ]
    },
    {
      "cell_type": "markdown",
      "source": [
        "det(of matrix)=det(matrix with some manipulation)"
      ],
      "metadata": {
        "id": "_8nUU2Hll2v0"
      }
    },
    {
      "cell_type": "code",
      "source": [
        "m.add_row(2, 1, -2)"
      ],
      "metadata": {
        "colab": {
          "base_uri": "https://localhost:8080/",
          "height": 107
        },
        "id": "vmG9yb4Hhyox",
        "outputId": "af49121a-a434-45d0-dacb-63dc04980375"
      },
      "execution_count": 2,
      "outputs": [
        {
          "output_type": "display_data",
          "data": {
            "text/plain": [
              "<IPython.core.display.Markdown object>"
            ],
            "text/markdown": "**Operation:** r2 = r2 + -2*r1"
          },
          "metadata": {}
        },
        {
          "output_type": "display_data",
          "data": {
            "text/plain": [
              "Matrix([\n",
              "[1, 2,  3],\n",
              "[0, 1, -3],\n",
              "[3, 2,  1]])"
            ],
            "text/latex": "$\\displaystyle \\left[\\begin{matrix}1 & 2 & 3\\\\0 & 1 & -3\\\\3 & 2 & 1\\end{matrix}\\right]$"
          },
          "metadata": {}
        }
      ]
    },
    {
      "cell_type": "code",
      "source": [
        "m.add_row(3, 1, -3)"
      ],
      "metadata": {
        "colab": {
          "base_uri": "https://localhost:8080/",
          "height": 107
        },
        "id": "yAmitQhSh0Mj",
        "outputId": "5e4ecb9d-e2ea-4df7-e50d-5cbb921d0e7b"
      },
      "execution_count": 3,
      "outputs": [
        {
          "output_type": "display_data",
          "data": {
            "text/plain": [
              "<IPython.core.display.Markdown object>"
            ],
            "text/markdown": "**Operation:** r3 = r3 + -3*r1"
          },
          "metadata": {}
        },
        {
          "output_type": "display_data",
          "data": {
            "text/plain": [
              "Matrix([\n",
              "[1,  2,  3],\n",
              "[0,  1, -3],\n",
              "[0, -4, -8]])"
            ],
            "text/latex": "$\\displaystyle \\left[\\begin{matrix}1 & 2 & 3\\\\0 & 1 & -3\\\\0 & -4 & -8\\end{matrix}\\right]$"
          },
          "metadata": {}
        }
      ]
    },
    {
      "cell_type": "code",
      "source": [
        "m.add_row(3, 2, 4)"
      ],
      "metadata": {
        "colab": {
          "base_uri": "https://localhost:8080/",
          "height": 107
        },
        "id": "GY5Jj3Fxh6TM",
        "outputId": "74666ba5-cae9-472f-9968-f369364ce021"
      },
      "execution_count": 4,
      "outputs": [
        {
          "output_type": "display_data",
          "data": {
            "text/plain": [
              "<IPython.core.display.Markdown object>"
            ],
            "text/markdown": "**Operation:** r3 = r3 + 4*r2"
          },
          "metadata": {}
        },
        {
          "output_type": "display_data",
          "data": {
            "text/plain": [
              "Matrix([\n",
              "[1, 2,   3],\n",
              "[0, 1,  -3],\n",
              "[0, 0, -20]])"
            ],
            "text/latex": "$\\displaystyle \\left[\\begin{matrix}1 & 2 & 3\\\\0 & 1 & -3\\\\0 & 0 & -20\\end{matrix}\\right]$"
          },
          "metadata": {}
        }
      ]
    },
    {
      "cell_type": "markdown",
      "source": [
        "The resulting matrix is an upper triangular matrix.\n",
        "\n",
        "### Determinant of a Triangular Matrix\n",
        "\n",
        "For a triangular matrix, the determinant is equal to the product of the elements on its diagonal."
      ],
      "metadata": {
        "id": "3sU5-tusi5f2"
      }
    },
    {
      "cell_type": "code",
      "source": [
        "original_matrix.det()"
      ],
      "metadata": {
        "colab": {
          "base_uri": "https://localhost:8080/",
          "height": 37
        },
        "id": "O8zNir0A0WvG",
        "outputId": "ece81ec8-df43-46b4-e012-a8822094a294"
      },
      "execution_count": 6,
      "outputs": [
        {
          "output_type": "execute_result",
          "data": {
            "text/plain": [
              "-20"
            ],
            "text/latex": "$\\displaystyle -20$"
          },
          "metadata": {},
          "execution_count": 6
        }
      ]
    },
    {
      "cell_type": "code",
      "source": [
        "1*1*(-20)"
      ],
      "metadata": {
        "colab": {
          "base_uri": "https://localhost:8080/"
        },
        "id": "wh1CfJdVj3CV",
        "outputId": "ec0927c8-b0a0-4b51-c40b-eb6a8b4625bb"
      },
      "execution_count": 1,
      "outputs": [
        {
          "output_type": "execute_result",
          "data": {
            "text/plain": [
              "-20"
            ]
          },
          "metadata": {},
          "execution_count": 1
        }
      ]
    },
    {
      "cell_type": "code",
      "source": [
        "# The determinant of a triangular matrix is the product of the diagonal elements!\n",
        "original_matrix.det() == 1 * 1 * (-20)"
      ],
      "metadata": {
        "colab": {
          "base_uri": "https://localhost:8080/"
        },
        "id": "oSH4W1Zli6i6",
        "outputId": "18b39d63-75f2-47bb-9fd1-433cec32b169"
      },
      "execution_count": 5,
      "outputs": [
        {
          "output_type": "execute_result",
          "data": {
            "text/plain": [
              "True"
            ]
          },
          "metadata": {},
          "execution_count": 5
        }
      ]
    },
    {
      "cell_type": "markdown",
      "source": [
        "Here’s a Markdown guide on how to change a matrix into a triangular matrix:\n",
        "\n",
        "---\n",
        "\n",
        "## **How to Convert a Matrix into a Triangular Matrix**\n",
        "\n",
        "To transform a given square matrix into an upper or lower triangular matrix, you typically use **Gaussian elimination**. This involves performing row operations to make elements either above or below the main diagonal zero.\n",
        "\n",
        "### **Steps for Upper Triangular Matrix**\n",
        "\n",
        "To convert a matrix into an **upper triangular matrix**, the goal is to make all elements below the main diagonal zero.\n",
        "\n",
        "1. **Start with the first row:**\n",
        "   - Use the first element $(a_{11})$ as the pivot.\n",
        "   - Eliminate all elements below $(a_{11})$ by subtracting multiples of the first row from the rows below.\n",
        "\n",
        "2. **Move to the second row:**\n",
        "   - Use $(a_{22})$ as the pivot and eliminate all elements below it.\n",
        "\n",
        "3. **Repeat for each row:**\n",
        "   - Continue this process for each row, moving downward, until all elements below the main diagonal are zero.\n",
        "\n",
        "### **Steps for Lower Triangular Matrix**\n",
        "\n",
        "To convert a matrix into a **lower triangular matrix**, the goal is to make all elements above the main diagonal zero. The steps are similar, but you eliminate elements above the pivots instead of below.\n",
        "\n",
        "---\n",
        "\n",
        "### **Example: Upper Triangular Matrix**\n",
        "\n",
        "Let the matrix be:\n",
        "\n",
        "$\n",
        "\\mathbf{A} =\n",
        "\\begin{pmatrix}\n",
        "2 & 1 & -1 \\\\\n",
        "-3 & -1 & 2 \\\\\n",
        "-2 & 1 & 2\n",
        "\\end{pmatrix}.\n",
        "$\n",
        "\n",
        "#### Step 1: Eliminate elements below $(a_{11} = 2)$.\n",
        "- Multiply the first row by $(\\frac{3}{2})$ and add to the second row.\n",
        "- Multiply the first row by $(1)$ and add to the third row.\n",
        "\n",
        "$\n",
        "\\begin{pmatrix}\n",
        "2 & 1 & -1 \\\\\n",
        "0 & 0.5 & 0.5 \\\\\n",
        "0 & 2 & 1\n",
        "\\end{pmatrix}.\n",
        "$\n",
        "\n",
        "#### Step 2: Eliminate element below $(a_{22} = 0.5)$.\n",
        "- Multiply the second row by $(-4)$ and add to the third row.\n",
        "\n",
        "$\n",
        "\\mathbf{U} =\n",
        "\\begin{pmatrix}\n",
        "2 & 1 & -1 \\\\\n",
        "0 & 0.5 & 0.5 \\\\\n",
        "0 & 0 & -1\n",
        "\\end{pmatrix}.\n",
        "$\n",
        "\n",
        "Now, $(\\mathbf{U})$ is the upper triangular matrix.\n",
        "\n",
        "---\n",
        "\n",
        "### **Example: Lower Triangular Matrix**\n",
        "\n",
        "Let the same matrix be:\n",
        "\n",
        "$\n",
        "\\mathbf{A} =\n",
        "\\begin{pmatrix}\n",
        "2 & 1 & -1 \\\\\n",
        "-3 & -1 & 2 \\\\\n",
        "-2 & 1 & 2\n",
        "\\end{pmatrix}.\n",
        "$\n",
        "\n",
        "#### Step 1: Eliminate elements above $(a_{21})$ and $(a_{31})$.\n",
        "- Use row operations to zero out elements in the first row above the pivot $(a_{21})$ and $(a_{31})$.\n",
        "\n",
        "#### Continue for remaining rows, eliminating elements above each pivot.\n",
        "\n",
        "---\n",
        "\n",
        "### **Key Notes:**\n",
        "- **Row Operations Allowed:**\n",
        "  - Swap two rows.\n",
        "  - Multiply a row by a nonzero scalar.\n",
        "  - Add or subtract a multiple of one row from another.\n",
        "- These transformations do not change the fundamental properties of the matrix, such as its determinant (up to a scalar multiple).\n",
        "\n",
        "By systematically applying these steps, you can convert any square matrix into an upper or lower triangular matrix."
      ],
      "metadata": {
        "id": "ZJZOnO8DhY6-"
      }
    },
    {
      "cell_type": "markdown",
      "source": [
        "---\n",
        "\n",
        "## Exercises for Students\n",
        "\n",
        "Perform row and column operations to reduce the following matrices to an upper triangular form and calculate their determinants by taking the product of the diagonal elements.\n",
        "\n",
        "1.\n",
        "$$\n",
        "A = \\begin{bmatrix}\n",
        "12 & 3 \\\\\n",
        "-18 & -4\n",
        "\\end{bmatrix}\n",
        "$$\n",
        "\n",
        "2.\n",
        "\n",
        "$$\n",
        "B = \\begin{bmatrix}\n",
        "1 & 2 & 3 \\\\\n",
        "4 & 5 & 6 \\\\\n",
        "7 & 8 & 9\n",
        "\\end{bmatrix}\n",
        "$$"
      ],
      "metadata": {
        "id": "s_Tpj7tXqW2M"
      }
    },
    {
      "cell_type": "code",
      "source": [
        "det(A)= det(B)"
      ],
      "metadata": {
        "id": "40Om5hUhqYYa"
      },
      "execution_count": null,
      "outputs": []
    }
  ]
}