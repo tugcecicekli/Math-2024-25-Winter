{
  "nbformat": 4,
  "nbformat_minor": 0,
  "metadata": {
    "colab": {
      "provenance": [],
      "toc_visible": true,
      "authorship_tag": "ABX9TyOh0sfmH94IQo4Oyj4WCJ48",
      "include_colab_link": true
    },
    "kernelspec": {
      "name": "python3",
      "display_name": "Python 3"
    },
    "language_info": {
      "name": "python"
    }
  },
  "cells": [
    {
      "cell_type": "markdown",
      "metadata": {
        "id": "view-in-github",
        "colab_type": "text"
      },
      "source": [
        "<a href=\"https://colab.research.google.com/github/tugcecicekli/Math-2024-25-Winter/blob/main/Copy_of_Examples.ipynb\" target=\"_parent\"><img src=\"https://colab.research.google.com/assets/colab-badge.svg\" alt=\"Open In Colab\"/></a>"
      ]
    },
    {
      "cell_type": "markdown",
      "source": [
        "# Matrix\n"
      ],
      "metadata": {
        "id": "EMFjMuTaCmv3"
      }
    },
    {
      "cell_type": "markdown",
      "source": [
        "```markdown\n",
        "# Matrix Addition\n",
        "\n",
        "Matrix addition is the process of adding two matrices by adding their corresponding elements. To perform matrix addition, the two matrices must have the same dimensions (i.e., the same number of rows and columns).\n",
        "\n",
        "## Key Points About Matrix Addition\n",
        "1. **Same Dimensions Required**: Matrix addition is only defined for matrices with the same dimensions.\n",
        "2. **Element-Wise Operation**: Each element in the resulting matrix is the sum of the corresponding elements from the two matrices.\n",
        "\n",
        "### Mathematical Representation\n",
        "Let \\( A \\) and \\( B \\) be two matrices with dimensions \\( m \\times n \\):\n",
        "\\[\n",
        "A =\n",
        "\\begin{bmatrix}\n",
        "a_{11} & a_{12} & \\cdots & a_{1n} \\\\\n",
        "a_{21} & a_{22} & \\cdots & a_{2n} \\\\\n",
        "\\vdots & \\vdots & \\ddots & \\vdots \\\\\n",
        "a_{m1} & a_{m2} & \\cdots & a_{mn}\n",
        "\\end{bmatrix},\n",
        "\\quad\n",
        "B =\n",
        "\\begin{bmatrix}\n",
        "b_{11} & b_{12} & \\cdots & b_{1n} \\\\\n",
        "b_{21} & b_{22} & \\cdots & b_{2n} \\\\\n",
        "\\vdots & \\vdots & \\ddots & \\vdots \\\\\n",
        "b_{m1} & b_{m2} & \\cdots & b_{mn}\n",
        "\\end{bmatrix}\n",
        "\\]\n",
        "\n",
        "Their sum \\( C = A + B \\) is:\n",
        "\\[\n",
        "C =\n",
        "\\begin{bmatrix}\n",
        "a_{11} + b_{11} & a_{12} + b_{12} & \\cdots & a_{1n} + b_{1n} \\\\\n",
        "a_{21} + b_{21} & a_{22} + b_{22} & \\cdots & a_{2n} + b_{2n} \\\\\n",
        "\\vdots & \\vdots & \\ddots & \\vdots \\\\\n",
        "a_{m1} + b_{m1} & a_{m2} + b_{m2} & \\cdots & a_{mn} + b_{mn}\n",
        "\\end{bmatrix}\n",
        "\\]\n",
        "\n",
        "### Example\n",
        "Given two matrices:\n",
        "\\[\n",
        "A =\n",
        "\\begin{bmatrix}\n",
        "2 & 4 & 6 \\\\\n",
        "1 & 3 & 5\n",
        "\\end{bmatrix},\n",
        "\\quad\n",
        "B =\n",
        "\\begin{bmatrix}\n",
        "7 & 8 & 9 \\\\\n",
        "0 & 2 & 4\n",
        "\\end{bmatrix}\n",
        "\\]\n",
        "\n",
        "Their sum is:\n",
        "\\[\n",
        "C = A + B =\n",
        "\\begin{bmatrix}\n",
        "2+7 & 4+8 & 6+9 \\\\\n",
        "1+0 & 3+2 & 5+4\n",
        "\\end{bmatrix}\n",
        "=\n",
        "\\begin{bmatrix}\n",
        "9 & 12 & 15 \\\\\n",
        "1 & 5 & 9\n",
        "\\end{bmatrix}\n",
        "\\]\n",
        "\n",
        "### Python Code for Matrix Addition\n",
        "```python\n",
        "# Import the numpy library\n",
        "import numpy as np\n",
        "\n",
        "# Define the matrices\n",
        "A = np.array([[2, 4, 6], [1, 3, 5]])\n",
        "B = np.array([[7, 8, 9], [0, 2, 4]])\n",
        "\n",
        "# Perform matrix addition\n",
        "C = A + B\n",
        "\n",
        "# Print the results\n",
        "print(\"Matrix A:\")\n",
        "print(A)\n",
        "\n",
        "print(\"\\nMatrix B:\")\n",
        "print(B)\n",
        "\n",
        "print(\"\\nSum of A and B (Matrix C):\")\n",
        "print(C)\n",
        "```\n",
        "```"
      ],
      "metadata": {
        "id": "z2N0CNknBIrp"
      }
    },
    {
      "cell_type": "markdown",
      "source": [
        "# Python Commands"
      ],
      "metadata": {
        "id": "gQpLK9l1ClHd"
      }
    },
    {
      "cell_type": "markdown",
      "source": [
        "```markdown\n",
        "# Introduction to Python Commands\n",
        "\n",
        "Here is a table of commonly used Python commands, their descriptions, and examples to help you get started with Python programming.\n",
        "\n",
        "| **Command**         | **Description**                                      | **Example**                                               |\n",
        "|----------------------|------------------------------------------------------|-----------------------------------------------------------|\n",
        "| `print()`           | Outputs text or variables to the console.            | `print(\"Hello, World!\")` → `Hello, World!`               |\n",
        "| `type()`            | Returns the type of a variable or value.             | `type(5)` → `<class 'int'>`                              |\n",
        "| `input()`           | Takes user input as a string.                        | `name = input(\"Enter your name: \")`                      |\n",
        "| `len()`             | Returns the length of a string, list, or other iterable.| `len(\"Python\")` → `6`                                   |\n",
        "| `int()`             | Converts a value to an integer.                      | `int(\"42\")` → `42`                                       |\n",
        "| `float()`           | Converts a value to a floating-point number.         | `float(\"3.14\")` → `3.14`                                 |\n",
        "| `str()`             | Converts a value to a string.                        | `str(123)` → `\"123\"`                                     |\n",
        "| `list()`            | Converts an iterable into a list.                    | `list(\"abc\")` → `['a', 'b', 'c']`                        |\n",
        "| `range()`           | Generates a sequence of numbers.                     | `list(range(5))` → `[0, 1, 2, 3, 4]`                     |\n",
        "| `for` loop          | Iterates over items in a sequence.                   | `for i in range(3): print(i)` → `0\\n1\\n2`                |\n",
        "| `if` statement      | Conditional statement to execute code if condition is true.| `if 5 > 3: print(\"Yes\")` → `Yes`                      |\n",
        "| `def`               | Defines a function.                                  | `def greet(): print(\"Hello\")`                            |\n",
        "| `import`            | Imports a module into your program.                  | `import math`                                            |\n",
        "| `math.sqrt()`       | Computes the square root of a number (requires `math`).| `math.sqrt(16)` → `4.0`                                  |\n",
        "| `open()`            | Opens a file.                                        | `file = open(\"example.txt\", \"r\")`                        |\n",
        "| `with` statement    | Manages resources like files more cleanly.           | `with open(\"example.txt\", \"r\") as f: print(f.read())`    |\n",
        "| `append()`          | Adds an item to a list.                              | `my_list = []; my_list.append(10)` → `[10]`             |\n",
        "| `len()`             | Returns the length of a collection.                  | `len([1, 2, 3])` → `3`                                   |\n",
        "| `help()`            | Provides help for a function or module.              | `help(print)`                                            |\n",
        "\n",
        "Each of these commands is fundamental to understanding Python and is useful for a variety of tasks.\n",
        "```"
      ],
      "metadata": {
        "id": "5lMO3_91CGyh"
      }
    },
    {
      "cell_type": "markdown",
      "source": [
        "# C++ and Python Commands"
      ],
      "metadata": {
        "id": "KiLTbdd9CjwJ"
      }
    },
    {
      "cell_type": "markdown",
      "source": [
        "Here’s a table comparing basic commands in C++ and Python:\n",
        "\n",
        "| **Action**               | **C++ Command**                            | **Python Command**                         | **Description**                                       |\n",
        "|--------------------------|---------------------------------------------|--------------------------------------------|-------------------------------------------------------|\n",
        "| Print output             | `std::cout << \"Hello, World!\";`            | `print(\"Hello, World!\")`                   | Displays output to the console.                      |\n",
        "| Declare a variable       | `int x = 5;`                               | `x = 5`                                    | Declares a variable and assigns a value.             |\n",
        "| Input from user          | `std::cin >> x;`                           | `x = input(\"Enter value: \")`               | Takes input from the user.                           |\n",
        "| Check data type          | `typeid(x).name()`                         | `type(x)`                                  | Gets the type of a variable.                         |\n",
        "| Length of a string       | `std::string str = \"Hello\"; str.size();`    | `len(\"Hello\")`                             | Gets the length of a string or collection.           |\n",
        "| Loop (for)               | `for (int i = 0; i < 5; i++) {}`           | `for i in range(5):`                       | Iterates over a range of values.                     |\n",
        "| Loop (while)             | `while (i < 5) {}`                         | `while i < 5:`                             | Loops while a condition is true.                     |\n",
        "| Conditional (if)         | `if (x > 0) {}`                            | `if x > 0:`                                | Executes code based on a condition.                  |\n",
        "| Function definition      | `int add(int a, int b) { return a + b; }`  | `def add(a, b): return a + b`              | Defines a reusable block of code.                    |\n",
        "| Import library           | `#include <cmath>`                         | `import math`                              | Imports a library or module.                         |\n",
        "| Square root              | `std::sqrt(16)`                            | `math.sqrt(16)`                            | Calculates the square root.                          |\n",
        "| Append to list/array     | `std::vector<int> v; v.push_back(10);`     | `my_list = []; my_list.append(10)`         | Adds an element to a list or vector.                 |\n",
        "| Open a file              | `std::ifstream file(\"example.txt\");`       | `file = open(\"example.txt\", \"r\")`          | Opens a file for reading or writing.                 |\n",
        "| Read from file           | `std::getline(file, line);`                | `file.read()`                              | Reads content from a file.                           |\n",
        "| Comment (single-line)    | `// This is a comment`                     | `# This is a comment`                      | Adds a single-line comment.                          |\n",
        "| Comment (multi-line)     | `/* Multi-line comment */`                 | `''' Multi-line comment '''`               | Adds a multi-line comment.                           |\n",
        "| Exit program             | `return 0;`                                | `exit()`                                   | Exits the program.                                   |\n",
        "\n",
        "This table highlights basic similarities and differences between C++ and Python commands for common programming tasks."
      ],
      "metadata": {
        "id": "Ld7ViiOxDW8v"
      }
    },
    {
      "cell_type": "markdown",
      "source": [
        "# Basic Matrix Operations"
      ],
      "metadata": {
        "id": "JvavoLxIDYMn"
      }
    },
    {
      "cell_type": "code",
      "source": [
        "# Exercise 1: Matrix addition\n",
        "import sympy as sp\n",
        "\n",
        "A=sp.Matrix([[1,2],[3,4]])\n",
        "B=sp.Matrix([[5,6],[7,8]])\n",
        "A+B # add matrices A and B"
      ],
      "metadata": {
        "colab": {
          "base_uri": "https://localhost:8080/",
          "height": 58
        },
        "id": "L-TGP03XPkAj",
        "outputId": "cb0cf08f-ed9e-484b-bc74-4248bb6fe15f"
      },
      "execution_count": null,
      "outputs": [
        {
          "output_type": "execute_result",
          "data": {
            "text/plain": [
              "Matrix([\n",
              "[ 6,  8],\n",
              "[10, 12]])"
            ],
            "text/latex": "$\\displaystyle \\left[\\begin{matrix}6 & 8\\\\10 & 12\\end{matrix}\\right]$"
          },
          "metadata": {},
          "execution_count": 2
        }
      ]
    },
    {
      "cell_type": "code",
      "source": [
        "# Exercise 2: Multiplication of a scalar and matrix\n",
        "import sympy as sp\n",
        "\n",
        "A=sp.Matrix([[4,2],[12,4]]) # define matrix A\n",
        "k=sp.Rational(1,4) # define scalar k\n",
        "A*k # multiply matrix A and scalar k\n"
      ],
      "metadata": {
        "colab": {
          "base_uri": "https://localhost:8080/",
          "height": 58
        },
        "id": "gJktELTQQ89u",
        "outputId": "b750e7c7-f840-405d-b0e6-844823f49313"
      },
      "execution_count": null,
      "outputs": [
        {
          "output_type": "execute_result",
          "data": {
            "text/plain": [
              "Matrix([\n",
              "[1, 1/2],\n",
              "[3,   1]])"
            ],
            "text/latex": "$\\displaystyle \\left[\\begin{matrix}1 & \\frac{1}{2}\\\\3 & 1\\end{matrix}\\right]$"
          },
          "metadata": {},
          "execution_count": 3
        }
      ]
    },
    {
      "cell_type": "markdown",
      "source": [
        "## Exercises for Students (old version)\n",
        "\n",
        "1. Calculate the sum of matrices $A=\\begin{bmatrix} 1 & 2 \\\\ 3 & 4 \\end{bmatrix}$ and $B=\\begin{bmatrix} 5 & 6 \\\\ 7 & 8 \\end{bmatrix}$.\n",
        "\n",
        "2. Calculate the product of matrix $A=\\begin{bmatrix} 4 & 2 \\\\ 12 & 4 \\end{bmatrix}$ and scalar $k=\\frac{1}{4}$.\n",
        "\n",
        "3. Calculate the products $A\\cdot B$ and $B \\cdot A$ for matrices $A=\\begin{bmatrix} 3 & 2 \\\\ 2 & 4 \\end{bmatrix}$ and $B=\\begin{bmatrix} 4 & 1 \\\\ 6 & 4 \\end{bmatrix}$."
      ],
      "metadata": {
        "id": "NBoWHUuefuLj"
      }
    },
    {
      "cell_type": "code",
      "source": [
        "import numpy as np\n",
        "\n",
        "c = np.array([[6,8],[10,12]])\n",
        "print(c)\n"
      ],
      "metadata": {
        "colab": {
          "base_uri": "https://localhost:8080/"
        },
        "id": "o4QMAYGcf5Lm",
        "outputId": "f5e6ca41-64e7-4e69-d5d8-75e63e263227"
      },
      "execution_count": null,
      "outputs": [
        {
          "output_type": "stream",
          "name": "stdout",
          "text": [
            "[[ 6  8]\n",
            " [10 12]]\n"
          ]
        }
      ]
    },
    {
      "cell_type": "code",
      "source": [
        "import sympy as sp\n",
        "A=sp.Matrix([[4,2],[12,4]])\n",
        "k=sp.Rational(1,4) # Represents 1\\4 as a rational number\n",
        "B=k*A\n",
        "print(B)\n"
      ],
      "metadata": {
        "colab": {
          "base_uri": "https://localhost:8080/"
        },
        "id": "LVOpRapjgRDL",
        "outputId": "6d0cd3d8-c402-482e-8fde-81cb99e2ef82"
      },
      "execution_count": null,
      "outputs": [
        {
          "output_type": "stream",
          "name": "stdout",
          "text": [
            "Matrix([[1, 1/2], [3, 1]])\n"
          ]
        }
      ]
    },
    {
      "cell_type": "code",
      "source": [
        "import numpy as np\n",
        "C=np.array([[24,11],[32,18]])\n",
        "D=np.array([[14,12],[26,28]])\n",
        "print(\"Matrix C:\")\n",
        "print(C)\n",
        "\n",
        "print(\"Matrix D:\")\n",
        "print(D)"
      ],
      "metadata": {
        "colab": {
          "base_uri": "https://localhost:8080/"
        },
        "id": "1NwSnQEKhEd4",
        "outputId": "e5fc8ca0-a75d-4a85-fcfc-54e9a843c0db"
      },
      "execution_count": null,
      "outputs": [
        {
          "output_type": "stream",
          "name": "stdout",
          "text": [
            "Matrix C:\n",
            "[[24 11]\n",
            " [32 18]]\n",
            "Matrix D:\n",
            "[[14 12]\n",
            " [26 28]]\n"
          ]
        }
      ]
    },
    {
      "cell_type": "markdown",
      "source": [
        "## Exercises for Students (new version)\n",
        "\n",
        "For follwing matrices\n",
        "\n",
        "$$\n",
        "\\mathbf{A}=\n",
        "\\begin{pmatrix}\n",
        "1 & 2 \\\\\n",
        "3 & 4\n",
        "\\end{pmatrix}\n",
        "\\qquad\n",
        "\\mathbf{B}=\n",
        "\\begin{pmatrix}\n",
        "5 & 6 \\\\\n",
        "7 & 8\n",
        "\\end{pmatrix}\n",
        "\\quad\n",
        "\\mathbf{C}=\n",
        "\\begin{pmatrix}\n",
        "-1 & 2 \\\\\n",
        "3 & 0\n",
        "\\end{pmatrix}\n",
        "\\qquad\n",
        "\\mathbf{D}=\n",
        "\\begin{pmatrix}\n",
        "-1 & 2 & 3 \\\\\n",
        "4 & 0 & 6\n",
        "\\end{pmatrix}\n",
        "\\qquad\n",
        "\\mathbf{E}=\n",
        "\\begin{pmatrix}\n",
        "1 & 2\\\\\n",
        "4 & 5\\\\\n",
        "7 & 8\n",
        "\\end{pmatrix}\n",
        "$$\n",
        "\n",
        "1. Calculate: $\\mathbf{A}+\\mathbf{B}$;  $\\mathbf{B}-\\mathbf{A}$;  $\\mathbf{A}+\\mathbf{C}$; $\\mathbf{D}+\\mathbf{E}$.\n",
        "\n",
        "2. Calculate $\\frac{1}{2}\\mathbf{A}$, $2\\mathbf{B}$, $-3\\mathbf{C}$, and $4\\mathbf{D}$.\n",
        "\n",
        "3. Calculate the products $\\mathbf{A}\\cdot \\mathbf{B}$; $\\mathbf{B} \\cdot \\mathbf{A}$; $\\mathbf{A} \\cdot \\mathbf{D}$; $\\mathbf{D} \\cdot \\mathbf{E}$."
      ],
      "metadata": {
        "id": "zbEyhK_UtICm"
      }
    },
    {
      "cell_type": "markdown",
      "source": [
        "1. a) $A+B=\\begin{bmatrix} 1+5 & 2+6 \\\\ 3+ 7& 4+ 8\\end{bmatrix}=\\begin{bmatrix} 6&8\\\\10&12\\end{bmatrix}$\n",
        "\n",
        "\n",
        "1. b) $B-A=\\begin{bmatrix} 5-1 & 6-2 \\\\ 7-3 & 8-4 \\end{bmatrix}=\\begin{bmatrix} 4&4 \\\\4&4\\end{bmatrix}$\n",
        "\n",
        "\n",
        "1. c) $A+C=\\begin{bmatrix} 1-1 & 2+2 \\\\ 3+3 & 4+0 \\end{bmatrix}=\\begin{bmatrix} 0&2\\\\6&4\\end{bmatrix}$\n",
        "\n",
        "\n",
        "1. d) D+E are not the same dimension, you can't add two matrices if they don't have the same dimension."
      ],
      "metadata": {
        "id": "zwKPnMr4tMCf"
      }
    },
    {
      "cell_type": "markdown",
      "source": [
        "2. a) $\\frac{1}{2}\\mathbf{A}=\\frac{1}{2} \\begin{pmatrix} 1&2 \\\\ 3&4 \\end{pmatrix}=\\begin{pmatrix} \\frac{1}{2}*1 & \\frac{1}{2}*2 \\\\ \\frac{1}{2}*3 & \\frac{1}{2}*4\\end{pmatrix}=\\begin{pmatrix} \\frac{1}{2} & 1\\\\ \\frac{3}{2} &2\\end{pmatrix}$\n",
        "\n",
        "\n",
        "2. b) $2B=2\\begin{pmatrix} 5&6\\\\7&8\\end{pmatrix}=\\begin{pmatrix} 2*5 & 2*6 \\\\ 2*7&2*8\\end{pmatrix}=\\begin{pmatrix} 10&12\\\\14&16\\end{pmatrix}$\n",
        "\n",
        "\n",
        "2. c) $-3C=-3\\begin{pmatrix} -1&2\\\\3&0\\end{pmatrix}=\\begin{pmatrix} (-3)*(-1) & (-3)*2\\\\ (-3)*3 & (-3)*0\\end{pmatrix}=\\begin{pmatrix} 3&-6\\\\ -9&0\\end{pmatrix}$\n",
        "\n",
        "\n",
        "2. d) $4B=4\\begin{pmatrix} -1&2&3\\\\4&0&6\\end{pmatrix}=\\begin{pmatrix}4*(-1)&4*2&4*3\\\\4*4&4*0&4*6\\end{pmatrix}=\\begin{pmatrix} -4&8&12\\\\16&0&24\\end{pmatrix}$\n"
      ],
      "metadata": {
        "id": "juIS3l-btUXk"
      }
    },
    {
      "cell_type": "markdown",
      "source": [
        "3. a) $A⋅B=\\begin{bmatrix} 1&2 \\\\ 3&4 \\end{bmatrix} ⋅\\begin{bmatrix} 5&6 \\\\ 7&8 \\end{bmatrix}= \\begin{bmatrix} 1*5 + 2*7 & 1*6 + 2*8\\\\ 3*5 + 4*7 & 3*6 + 4*8 \\end{bmatrix}=\\begin{bmatrix} 5+12 & 6+16 \\\\ 15+28 & 18+32 \\end{bmatrix}=\\begin{bmatrix} 17 & 22\\\\ 43 &50 \\end{bmatrix}$\n",
        "\n",
        "\n",
        "3. b) $B⋅A=\\begin{bmatrix} 5&6 \\\\ 7&8 \\end{bmatrix} ⋅\\begin{bmatrix} 1&2 \\\\ 3&4 \\end{bmatrix}=\\begin{bmatrix} 5*1 + 6*3 & 5*2 + 6*4 \\\\ 7*1 + 8*3 & 7*2 + 8*4 \\end{bmatrix}=\\begin{bmatrix} 5+18 & 10+24 \\\\ 7+24 & 14+32 \\end{bmatrix}=\\begin{bmatrix} 23 & 32 \\\\ 31 & 46\\end{bmatrix}$\n",
        "\n",
        "\n",
        "3. c)$A⋅D=\\begin{bmatrix} 1&2\\\\3&4\\end{bmatrix} ⋅\\begin{bmatrix} -1&2&3\\\\4&0&6\\end{bmatrix}=\\begin{bmatrix} 1*(-1)+2*4 & 1*2+2*0 & 1*3+2*6 \\\\3*(-1)+4*4 & 3*2+4*0 & 3*3+4*6\\end{bmatrix}=\\begin{bmatrix} (-1)+8 & 2+0 & 3+12\\\\(-3)+16&6+0&9+24\\end{bmatrix}=\\begin{bmatrix} 7&2&15\\\\13&6&33\\end{bmatrix}$\n",
        "\n",
        "\n",
        "3. d) $D⋅E=\\begin{bmatrix} -1&2&3\\\\4&0&6\\end{bmatrix}⋅\\begin{bmatrix} 1&2\\\\4&5\\\\7&8\\end{bmatrix}=\\begin{bmatrix} -1*1+2*4+3*7&-1*2+2*5+3*8\\\\4*1+0*4+6*7&4*2+0*5+6*8\\end{bmatrix}=\\begin{bmatrix} -1+8+21&-2+10+24\\\\4+0+42&8+0+48\\end{bmatrix}=\\begin{bmatrix} 28&32\\\\46&56\\end{bmatrix}$"
      ],
      "metadata": {
        "id": "HTIgxzkctY2u"
      }
    },
    {
      "cell_type": "markdown",
      "source": [
        "# Determinants of 2x2 and 3x3 matrices"
      ],
      "metadata": {
        "id": "UgkJJPjmt1lR"
      }
    },
    {
      "cell_type": "code",
      "source": [
        "# prompt: generate multiplication of general matrix 2x2 A  and B 2x2\n",
        "\n",
        "import sympy as sp\n",
        "import numpy as np\n",
        "a,b,c,d,e,f,g,h=sp.symbols('a,b,c,d,e,f,g,h')\n",
        "\n",
        "# Define matrices A and B\n",
        "A = sp.Matrix([[a, b], [c, d]])\n",
        "B = sp.Matrix([[e, f], [g, h]])\n",
        "\n",
        "# Calculate the matrix product A * B\n",
        "\n",
        "\n",
        "# Print the result\n",
        "print(\"Matrix A:\")\n",
        "print(A)\n",
        "\n",
        "print(\"\\nMatrix B:\")\n",
        "print(B)\n",
        "\n",
        "print(\"\\nMatrix Product A * B:\")\n",
        "print(C)\n",
        "\n",
        "C=A*B\n",
        "C"
      ],
      "metadata": {
        "colab": {
          "base_uri": "https://localhost:8080/",
          "height": 194
        },
        "id": "XFnhicpnlB-f",
        "outputId": "6e05f8e6-7eb4-4448-fe3f-9824e1a63e34"
      },
      "execution_count": null,
      "outputs": [
        {
          "output_type": "stream",
          "name": "stdout",
          "text": [
            "Matrix A:\n",
            "Matrix([[a, b], [c, d]])\n",
            "\n",
            "Matrix B:\n",
            "Matrix([[e, f], [g, h]])\n",
            "\n",
            "Matrix Product A * B:\n",
            "Matrix([[a*e + b*g, a*f + b*h], [c*e + d*g, c*f + d*h]])\n"
          ]
        },
        {
          "output_type": "execute_result",
          "data": {
            "text/plain": [
              "Matrix([\n",
              "[a*e + b*g, a*f + b*h],\n",
              "[c*e + d*g, c*f + d*h]])"
            ],
            "text/latex": "$\\displaystyle \\left[\\begin{matrix}a e + b g & a f + b h\\\\c e + d g & c f + d h\\end{matrix}\\right]$"
          },
          "metadata": {},
          "execution_count": 9
        }
      ]
    },
    {
      "cell_type": "code",
      "source": [
        "# prompt: generate multiplication of general matrix 2x2 A  and B 2x2\n",
        "\n",
        "import sympy as sp\n",
        "import numpy as np\n",
        "\n",
        "# Define matrices A and B\n",
        "A = sp.Matrix([[3,2 ], [2, 4]])\n",
        "B = sp.Matrix([[4,1 ], [6,4 ]])\n",
        "\n",
        "# Calculate the matrix product A * B\n",
        "\n",
        "\n",
        "# Print the result\n",
        "print(\"Matrix A:\")\n",
        "print(A)\n",
        "\n",
        "print(\"\\nMatrix B:\")\n",
        "print(B)\n",
        "\n",
        "print(\"\\nMatrix Product A * B:\")\n",
        "print(C)\n",
        "\n",
        "C=A*B\n",
        "C"
      ],
      "metadata": {
        "colab": {
          "base_uri": "https://localhost:8080/",
          "height": 194
        },
        "id": "8po0LqQllsRL",
        "outputId": "c29c2e0f-6976-404c-a9d3-9d307ab287d9"
      },
      "execution_count": null,
      "outputs": [
        {
          "output_type": "stream",
          "name": "stdout",
          "text": [
            "Matrix A:\n",
            "Matrix([[3, 2], [2, 4]])\n",
            "\n",
            "Matrix B:\n",
            "Matrix([[4, 1], [6, 4]])\n",
            "\n",
            "Matrix Product A * B:\n",
            "Matrix([[a*e + b*g, a*f + b*h], [c*e + d*g, c*f + d*h]])\n"
          ]
        },
        {
          "output_type": "execute_result",
          "data": {
            "text/plain": [
              "Matrix([\n",
              "[24, 11],\n",
              "[32, 18]])"
            ],
            "text/latex": "$\\displaystyle \\left[\\begin{matrix}24 & 11\\\\32 & 18\\end{matrix}\\right]$"
          },
          "metadata": {},
          "execution_count": 10
        }
      ]
    },
    {
      "cell_type": "code",
      "source": [],
      "metadata": {
        "id": "hf7CIzXso9VX"
      },
      "execution_count": null,
      "outputs": []
    }
  ]
}